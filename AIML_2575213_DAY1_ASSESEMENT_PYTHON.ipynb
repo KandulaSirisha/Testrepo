{
 "cells": [
  {
   "cell_type": "markdown",
   "id": "c1992be3",
   "metadata": {},
   "source": [
    "# 1.Manipulate using a list.\n",
    "i)To add new elements to the end of the list\n",
    "ii)To reverse elements in the list\n",
    "iii)To display the same list of elements multiple times.\n",
    "iv)To concatenate two list\n",
    "v)To sort the elements in the list in ascending order."
   ]
  },
  {
   "cell_type": "code",
   "execution_count": 45,
   "id": "2396729a",
   "metadata": {},
   "outputs": [
    {
     "data": {
      "text/plain": [
       "['java', 'python', 'sql']"
      ]
     },
     "execution_count": 45,
     "metadata": {},
     "output_type": "execute_result"
    }
   ],
   "source": [
    "#i)To add new elements to the end of the list\n",
    "list1=['java','python','sql']\n",
    "list1"
   ]
  },
  {
   "cell_type": "code",
   "execution_count": 53,
   "id": "a699cb41",
   "metadata": {},
   "outputs": [
    {
     "data": {
      "text/plain": [
       "['java', 'python', 'sql', 'aws', 'aws', 'aws', 'aws', 'aws']"
      ]
     },
     "execution_count": 53,
     "metadata": {},
     "output_type": "execute_result"
    }
   ],
   "source": [
    "list1.append('aws')\n",
    "list1"
   ]
  },
  {
   "cell_type": "code",
   "execution_count": 55,
   "id": "933a2f5f",
   "metadata": {},
   "outputs": [
    {
     "data": {
      "text/plain": [
       "['java', 'python', 'sql', 'aws']"
      ]
     },
     "execution_count": 55,
     "metadata": {},
     "output_type": "execute_result"
    }
   ],
   "source": [
    "list1.pop()\n",
    "list1.pop()\n",
    "list1.pop()\n",
    "list1"
   ]
  },
  {
   "cell_type": "code",
   "execution_count": 8,
   "id": "6dcbdd27",
   "metadata": {},
   "outputs": [
    {
     "data": {
      "text/plain": [
       "['aws', 'sql', 'python', 'java']"
      ]
     },
     "execution_count": 8,
     "metadata": {},
     "output_type": "execute_result"
    }
   ],
   "source": [
    "#ii)To reverse elements in the list\n",
    "list1.reverse()\n",
    "list1"
   ]
  },
  {
   "cell_type": "code",
   "execution_count": 57,
   "id": "96abbecf",
   "metadata": {},
   "outputs": [
    {
     "data": {
      "text/plain": [
       "['java',\n",
       " 'python',\n",
       " 'sql',\n",
       " 'aws',\n",
       " 'java',\n",
       " 'python',\n",
       " 'sql',\n",
       " 'aws',\n",
       " 'java',\n",
       " 'python',\n",
       " 'sql',\n",
       " 'aws']"
      ]
     },
     "execution_count": 57,
     "metadata": {},
     "output_type": "execute_result"
    }
   ],
   "source": [
    "#iii)To display the same list of elements multiple times.\n",
    "list1*3"
   ]
  },
  {
   "cell_type": "code",
   "execution_count": 58,
   "id": "6703def7",
   "metadata": {},
   "outputs": [
    {
     "data": {
      "text/plain": [
       "['abc', 'def']"
      ]
     },
     "execution_count": 58,
     "metadata": {},
     "output_type": "execute_result"
    }
   ],
   "source": [
    "list2=['abc','def']\n",
    "list2"
   ]
  },
  {
   "cell_type": "code",
   "execution_count": 60,
   "id": "e4bc2df6",
   "metadata": {},
   "outputs": [
    {
     "data": {
      "text/plain": [
       "['java', 'python', 'sql', 'aws', 'abc', 'def']"
      ]
     },
     "execution_count": 60,
     "metadata": {},
     "output_type": "execute_result"
    }
   ],
   "source": [
    "#iv)To concatenate two list\n",
    "l=list1+list2\n",
    "l"
   ]
  },
  {
   "cell_type": "code",
   "execution_count": 61,
   "id": "f76f8d3e",
   "metadata": {},
   "outputs": [
    {
     "data": {
      "text/plain": [
       "['abc', 'aws', 'def', 'java', 'python', 'sql']"
      ]
     },
     "execution_count": 61,
     "metadata": {},
     "output_type": "execute_result"
    }
   ],
   "source": [
    "#v)To sort the elements in the list in ascending order.\n",
    "l.sort()\n",
    "l"
   ]
  },
  {
   "cell_type": "markdown",
   "id": "7912e16d",
   "metadata": {},
   "source": [
    "# 2.Write a Python program to do in the tuples.\n",
    "i)Manipulate using tuples.\n",
    "ii)To add new elements to the end of the tuples\n",
    "iii)To reverse elements in the list\n",
    "iv)To display the elements of the same tuple multiple times.\n",
    "v)To concatenate two tuples\n",
    "vi)To sort the elements in the list in ascending order."
   ]
  },
  {
   "cell_type": "code",
   "execution_count": 5,
   "id": "7407aba9",
   "metadata": {},
   "outputs": [
    {
     "name": "stdout",
     "output_type": "stream",
     "text": [
      "[22, 34, 78]\n",
      "<class 'list'>\n"
     ]
    }
   ],
   "source": [
    "#i)Manipulate using tuples.\n",
    "tuple1=(22,34,78)\n",
    "tuple1=list(tuple1)\n",
    "print(tuple1)\n",
    "print(type(tuple1))"
   ]
  },
  {
   "cell_type": "code",
   "execution_count": 115,
   "id": "db8e6b7d",
   "metadata": {},
   "outputs": [
    {
     "name": "stdout",
     "output_type": "stream",
     "text": [
      "(1, 2, 3, 6, 7)\n"
     ]
    }
   ],
   "source": [
    "#ii)To add new elements to the end of the tuples\n",
    "tup=(1,2,3)\n",
    "tuple1=tup+(6,7)\n",
    "print(tuple1)"
   ]
  },
  {
   "cell_type": "code",
   "execution_count": 119,
   "id": "2a69acf6",
   "metadata": {},
   "outputs": [
    {
     "data": {
      "text/plain": [
       "(7, 5, 3, 1)"
      ]
     },
     "execution_count": 119,
     "metadata": {},
     "output_type": "execute_result"
    }
   ],
   "source": [
    "#iii)To reverse elements in the list\n",
    "tuple1=(1,3,5,7)\n",
    "tuple1=tuple1[: :-1]\n",
    "tuple1"
   ]
  },
  {
   "cell_type": "code",
   "execution_count": 120,
   "id": "a768bc1a",
   "metadata": {},
   "outputs": [
    {
     "data": {
      "text/plain": [
       "(7, 5, 3, 1, 7, 5, 3, 1, 7, 5, 3, 1)"
      ]
     },
     "execution_count": 120,
     "metadata": {},
     "output_type": "execute_result"
    }
   ],
   "source": [
    "#iv)To display the elements of the same tuple multiple times.\n",
    "tuple1*3"
   ]
  },
  {
   "cell_type": "code",
   "execution_count": 2,
   "id": "6cf09c8f",
   "metadata": {},
   "outputs": [
    {
     "name": "stdout",
     "output_type": "stream",
     "text": [
      "(1, 2, 3, 9, 8, 7)\n"
     ]
    }
   ],
   "source": [
    "#v)To concatenate two tuples\n",
    "t1=(1,2,3)\n",
    "t2=(9,8,7)\n",
    "t=t1+t2\n",
    "print(t)"
   ]
  },
  {
   "cell_type": "code",
   "execution_count": 12,
   "id": "74e61b88",
   "metadata": {},
   "outputs": [
    {
     "name": "stdout",
     "output_type": "stream",
     "text": [
      "[7, 22, 34]\n"
     ]
    }
   ],
   "source": [
    "#vi)To sort the elements in the list in ascending order.\n",
    "tuple1=(22,34,7)\n",
    "tuple1=list(tuple1)\n",
    "tuple1.sort()\n",
    "print(tuple1)"
   ]
  },
  {
   "cell_type": "markdown",
   "id": "8b616a9a",
   "metadata": {},
   "source": [
    "# 3.Write a python program to implement the following using list.\n",
    "i)Create a list with integers(minimum 10 numbers)\n",
    "ii)How to display the last number in the list.\n",
    "iii)Command for displaying the values from the list[0:4]\n",
    "iv)Command for displaying the values from the list[2:]\n",
    "v)Command for displaying the values from the list[:6]"
   ]
  },
  {
   "cell_type": "code",
   "execution_count": 13,
   "id": "7bf79568",
   "metadata": {},
   "outputs": [
    {
     "data": {
      "text/plain": [
       "[76, 27, 18, 29, 56, 9, 11, 7, 10, 84]"
      ]
     },
     "execution_count": 13,
     "metadata": {},
     "output_type": "execute_result"
    }
   ],
   "source": [
    "#i)Create a list with integers(minimum 10 numbers)\n",
    "lst=[76,27,18,29,56,9,11,7,10,84]\n",
    "lst"
   ]
  },
  {
   "cell_type": "code",
   "execution_count": 21,
   "id": "d2788c50",
   "metadata": {},
   "outputs": [
    {
     "data": {
      "text/plain": [
       "84"
      ]
     },
     "execution_count": 21,
     "metadata": {},
     "output_type": "execute_result"
    }
   ],
   "source": [
    "#ii)How to display the last number in the list.\n",
    "lst=[76,27,18,29,56,9,11,7,10,84]\n",
    "last_num=lst[len(lst)-1]\n",
    "last_num"
   ]
  },
  {
   "cell_type": "code",
   "execution_count": 24,
   "id": "1ec07cab",
   "metadata": {},
   "outputs": [
    {
     "name": "stdout",
     "output_type": "stream",
     "text": [
      "[76, 27, 18, 29]\n"
     ]
    }
   ],
   "source": [
    "#iii)Command for displaying the values from the list[0:4]\n",
    "lst=[76,27,18,29,56,9,11,7,10,84]\n",
    "lst=lst[0:4]\n",
    "print(lst)"
   ]
  },
  {
   "cell_type": "code",
   "execution_count": 25,
   "id": "6ce19dc6",
   "metadata": {},
   "outputs": [
    {
     "data": {
      "text/plain": [
       "[18, 29, 56, 9, 11, 7, 10, 84]"
      ]
     },
     "execution_count": 25,
     "metadata": {},
     "output_type": "execute_result"
    }
   ],
   "source": [
    "#iV)Command for displaying the values from the list[2:] \n",
    "lst=[76,27,18,29,56,9,11,7,10,84]\n",
    "lst=lst[2:]\n",
    "lst"
   ]
  },
  {
   "cell_type": "code",
   "execution_count": 26,
   "id": "38416c95",
   "metadata": {},
   "outputs": [
    {
     "data": {
      "text/plain": [
       "[76, 27, 18, 29, 56, 9]"
      ]
     },
     "execution_count": 26,
     "metadata": {},
     "output_type": "execute_result"
    }
   ],
   "source": [
    "# v)Command for displaying the values from the list[:6]\n",
    "lst=[76,27,18,29,56,9,11,7,10,84]\n",
    "lst=lst[:6]\n",
    "lst"
   ]
  },
  {
   "cell_type": "markdown",
   "id": "5c88ca6c",
   "metadata": {},
   "source": [
    "# 4.Write a Python program:tuple1=(10,50,20,40,30)\n",
    "i)To display the elements 10 and 50 from tuple1.\n",
    "ii)To display the length of a tuple1.\n",
    "iii)To find the minimum element from tuple1.\n",
    "iv)To add all the elements in the tuple1.\n",
    "v)To display the same tuple1 multiple times."
   ]
  },
  {
   "cell_type": "code",
   "execution_count": 30,
   "id": "8bdc69c7",
   "metadata": {},
   "outputs": [
    {
     "data": {
      "text/plain": [
       "(10, 50)"
      ]
     },
     "execution_count": 30,
     "metadata": {},
     "output_type": "execute_result"
    }
   ],
   "source": [
    "#i)To display the elements 10 and 50 from tuple1.\n",
    "tuple1=(10,50,20,40,30)\n",
    "tuple1[0:2]"
   ]
  },
  {
   "cell_type": "code",
   "execution_count": 31,
   "id": "7268ae56",
   "metadata": {},
   "outputs": [
    {
     "data": {
      "text/plain": [
       "5"
      ]
     },
     "execution_count": 31,
     "metadata": {},
     "output_type": "execute_result"
    }
   ],
   "source": [
    "# ii)To display the length of a tuple1.\n",
    "len(tuple1)"
   ]
  },
  {
   "cell_type": "code",
   "execution_count": 34,
   "id": "de8cfc51",
   "metadata": {},
   "outputs": [
    {
     "data": {
      "text/plain": [
       "10"
      ]
     },
     "execution_count": 34,
     "metadata": {},
     "output_type": "execute_result"
    }
   ],
   "source": [
    "# iii)To find the minimum element from tuple1.\n",
    "tuple1=(10,50,20,40,30)\n",
    "min(tuple1)"
   ]
  },
  {
   "cell_type": "code",
   "execution_count": 41,
   "id": "cddd73a9",
   "metadata": {},
   "outputs": [
    {
     "name": "stdout",
     "output_type": "stream",
     "text": [
      "150\n"
     ]
    }
   ],
   "source": [
    "#iv)To add all the elements in the tuple1.\n",
    "tuple1=(10,50,20,40,30)\n",
    "lst=list(tuple1)\n",
    "lst1=lst[0]+lst[1]+lst[2]+lst[3]+lst[4]\n",
    "print(lst1)"
   ]
  },
  {
   "cell_type": "code",
   "execution_count": 42,
   "id": "409adb3f",
   "metadata": {},
   "outputs": [
    {
     "data": {
      "text/plain": [
       "150"
      ]
     },
     "execution_count": 42,
     "metadata": {},
     "output_type": "execute_result"
    }
   ],
   "source": [
    "tuple1=(10,50,20,40,30)\n",
    "sum(tuple1)"
   ]
  },
  {
   "cell_type": "code",
   "execution_count": 43,
   "id": "0ff1975c",
   "metadata": {},
   "outputs": [
    {
     "data": {
      "text/plain": [
       "(10, 50, 20, 40, 30, 10, 50, 20, 40, 30, 10, 50, 20, 40, 30)"
      ]
     },
     "execution_count": 43,
     "metadata": {},
     "output_type": "execute_result"
    }
   ],
   "source": [
    "#v)To display the same tuple1 multiple times.\n",
    "tuple1=(10,50,20,40,30)\n",
    "tuple1*3"
   ]
  },
  {
   "cell_type": "markdown",
   "id": "1f8f3822",
   "metadata": {},
   "source": [
    "# 5.Write a Python program:\n",
    "i)To calculate the length of the string\n",
    "ii)To reverse words in a string\n",
    "iii)To display the same string multiple times\n",
    "iv)To concatenate two strings\n",
    "v)Str1=\"South India\",using string slicing to display \"India\""
   ]
  },
  {
   "cell_type": "code",
   "execution_count": 44,
   "id": "3a15007c",
   "metadata": {},
   "outputs": [
    {
     "data": {
      "text/plain": [
       "7"
      ]
     },
     "execution_count": 44,
     "metadata": {},
     "output_type": "execute_result"
    }
   ],
   "source": [
    "#i)To calculate the length of the string\n",
    "Str=\"sirisha\"\n",
    "len(Str)"
   ]
  },
  {
   "cell_type": "code",
   "execution_count": 62,
   "id": "ae294a18",
   "metadata": {},
   "outputs": [
    {
     "name": "stdout",
     "output_type": "stream",
     "text": [
      "ahsiris\n"
     ]
    }
   ],
   "source": [
    "#ii)To reverse words in a string\n",
    "Str=\"sirisha\"\n",
    "l=len(Str)\n",
    "print(Str[::-1])"
   ]
  },
  {
   "cell_type": "code",
   "execution_count": 64,
   "id": "17aed23e",
   "metadata": {},
   "outputs": [
    {
     "data": {
      "text/plain": [
       "'sirishasirishasirishasirisha'"
      ]
     },
     "execution_count": 64,
     "metadata": {},
     "output_type": "execute_result"
    }
   ],
   "source": [
    "#iii)To display the same string multiple times\n",
    "Str*4"
   ]
  },
  {
   "cell_type": "code",
   "execution_count": 66,
   "id": "84650507",
   "metadata": {},
   "outputs": [
    {
     "data": {
      "text/plain": [
       "'sirisha kandula'"
      ]
     },
     "execution_count": 66,
     "metadata": {},
     "output_type": "execute_result"
    }
   ],
   "source": [
    "#iv)To concatenate two strings\n",
    "Str='sirisha'\n",
    "Str1='kandula'\n",
    "Str+' '+Str1"
   ]
  },
  {
   "cell_type": "code",
   "execution_count": 67,
   "id": "49f3972f",
   "metadata": {},
   "outputs": [
    {
     "data": {
      "text/plain": [
       "'India'"
      ]
     },
     "execution_count": 67,
     "metadata": {},
     "output_type": "execute_result"
    }
   ],
   "source": [
    "#v)Str1=\"South India\",using string slicing to display \"India\"\n",
    "Str1=\"South India\"\n",
    "Str1[6:]"
   ]
  },
  {
   "cell_type": "markdown",
   "id": "170c6698",
   "metadata": {},
   "source": [
    "# 6.Perform the following:\n",
    "i)Creating the Dictionary.\n",
    "ii)Accessing values and keys in the Dictionary.\n",
    "iii)Updating the dictionary using the function.\n",
    "iv)Clear and delete the ductionary values."
   ]
  },
  {
   "cell_type": "code",
   "execution_count": 68,
   "id": "496cd5f8",
   "metadata": {},
   "outputs": [
    {
     "data": {
      "text/plain": [
       "{'key1': 'book', 'key2': 'pen', 'key3': 'table'}"
      ]
     },
     "execution_count": 68,
     "metadata": {},
     "output_type": "execute_result"
    }
   ],
   "source": [
    "#i)Creating the Dictionary.\n",
    "dict={'key1':'book','key2':'pen','key3':'table'}\n",
    "dict"
   ]
  },
  {
   "cell_type": "code",
   "execution_count": 84,
   "id": "38ad7a9a",
   "metadata": {},
   "outputs": [
    {
     "name": "stdout",
     "output_type": "stream",
     "text": [
      "pen\n",
      "dict_keys(['key1', 'key2', 'key3'])\n",
      "dict_values(['book', 'pen', 'table'])\n"
     ]
    }
   ],
   "source": [
    "#ii)Accessing values and keys in the Dictionary.\n",
    "dict={'key1':'book','key2':'pen','key3':'table'}\n",
    "d=dict.get('key2')\n",
    "print(d)\n",
    "access_key=dict.keys()\n",
    "print(access_key)\n",
    "access_value=dict.values()\n",
    "print(access_value)"
   ]
  },
  {
   "cell_type": "code",
   "execution_count": 69,
   "id": "391e860a",
   "metadata": {},
   "outputs": [
    {
     "name": "stdout",
     "output_type": "stream",
     "text": [
      "updated dictionary {'name': 'sirisha', 'age': 21, 'city': 'HYD'}\n"
     ]
    }
   ],
   "source": [
    "#iii)Updating the dictionary using the function.\n",
    "d = {'name':'sirisha', 'age':22, 'city': 'HYD'}\n",
    "d['age'] = 21\n",
    "print('updated dictionary' , d)"
   ]
  },
  {
   "cell_type": "code",
   "execution_count": 93,
   "id": "d68c06f7",
   "metadata": {},
   "outputs": [
    {
     "name": "stdout",
     "output_type": "stream",
     "text": [
      "table\n",
      "None\n"
     ]
    }
   ],
   "source": [
    "#iv)Clear and delete the ductionary values.\n",
    "dict={'key1':'book','key2':'pen','key3':'table'}\n",
    "d=dict.pop(\"key3\")\n",
    "print(d)\n",
    "c=dict.clear()\n",
    "print(c)"
   ]
  },
  {
   "cell_type": "markdown",
   "id": "bbb9e6d7",
   "metadata": {},
   "source": [
    "# 7.Python program to insert a number to any position in a list."
   ]
  },
  {
   "cell_type": "code",
   "execution_count": 110,
   "id": "547904ae",
   "metadata": {},
   "outputs": [
    {
     "name": "stdout",
     "output_type": "stream",
     "text": [
      "['siri', 876, 27, '@*']\n"
     ]
    }
   ],
   "source": [
    "lst=['siri',876,'@*']\n",
    "lst.insert(2,27)\n",
    "print(lst)"
   ]
  },
  {
   "cell_type": "markdown",
   "id": "eea9e1ee",
   "metadata": {},
   "source": [
    "# 8.Python program to delete an element from a list by index."
   ]
  },
  {
   "cell_type": "code",
   "execution_count": 116,
   "id": "288dd73e",
   "metadata": {},
   "outputs": [
    {
     "data": {
      "text/plain": [
       "['siri', 876]"
      ]
     },
     "execution_count": 116,
     "metadata": {},
     "output_type": "execute_result"
    }
   ],
   "source": [
    "lst=['siri',876,'@*']\n",
    "del lst[2]\n",
    "lst"
   ]
  },
  {
   "cell_type": "markdown",
   "id": "61364ac4",
   "metadata": {},
   "source": [
    "# 9.Write a program to display a number from 1 to 100."
   ]
  },
  {
   "cell_type": "code",
   "execution_count": 194,
   "id": "abc8ffbe",
   "metadata": {},
   "outputs": [
    {
     "name": "stdout",
     "output_type": "stream",
     "text": [
      "1 2 3 4 5 6 7 8 9 10 11 12 13 14 15 16 17 18 19 20 21 22 23 24 25 26 27 28 29 30 31 32 33 34 35 36 37 38 39 40 41 42 43 44 45 46 47 48 49 50 51 52 53 54 55 56 57 58 59 60 61 62 63 64 65 66 67 68 69 70 71 72 73 74 75 76 77 78 79 80 81 82 83 84 85 86 87 88 89 90 91 92 93 94 95 96 97 98 99 100 "
     ]
    }
   ],
   "source": [
    "for i in range(1,101):\n",
    "  print(i,end=\" \")\n",
    "#for i in range(1,101):\n",
    "#    if(i<=100):\n",
    "#       print(i)\n",
    "#    else:\n",
    " #     break"
   ]
  },
  {
   "cell_type": "markdown",
   "id": "53563e20",
   "metadata": {},
   "source": [
    "# 10.Write a Python program to find the sum of all items in a tuple."
   ]
  },
  {
   "cell_type": "code",
   "execution_count": 146,
   "id": "0ea29e97",
   "metadata": {},
   "outputs": [
    {
     "data": {
      "text/plain": [
       "13"
      ]
     },
     "execution_count": 146,
     "metadata": {},
     "output_type": "execute_result"
    }
   ],
   "source": [
    "tuple1=(2,4,7,0)\n",
    "sum(tuple1)"
   ]
  },
  {
   "cell_type": "markdown",
   "id": "b2dda8f7",
   "metadata": {},
   "source": [
    "# 11.Create a dictionary containing three lambda functions square,cube and square root.\n",
    "i)E.g. dict={'Square':function for squaring,'Cube':function for cube,'Squareroot':function for square root}\n",
    "ii)Pass the values(input from the user)to the functions in the dictionary respectively.\n",
    "iii)Then add the outputs of each function and print it."
   ]
  },
  {
   "cell_type": "code",
   "execution_count": 75,
   "id": "de711c02",
   "metadata": {},
   "outputs": [
    {
     "name": "stdout",
     "output_type": "stream",
     "text": [
      "enter number:4\n",
      "Square of 4 is 16\n",
      "Cube of 4 is 64\n",
      "Square Root of 4 is 2.0\n",
      "sum = 82.0\n"
     ]
    }
   ],
   "source": [
    "dict={'Square':lambda x:x**2,'Cube':lambda x:x**3,'Square Root':lambda x:x**0.5}\n",
    "user_input=int(input(\"enter number:\"))\n",
    "output_total=0\n",
    "for key,function in dict.items():\n",
    "    output=function(user_input)\n",
    "    print(key,'of',user_input,'is',output)\n",
    "    output_total=output_total+output\n",
    "print('sum =',output_total)"
   ]
  },
  {
   "cell_type": "markdown",
   "id": "fd58c03a",
   "metadata": {},
   "source": [
    "# 12.A list of words is given.Find the words from the list that have their second character in uppercase.\n",
    "ls=['hello','Dear','hOw','ARe','You']"
   ]
  },
  {
   "cell_type": "code",
   "execution_count": 170,
   "id": "44c42ef7",
   "metadata": {},
   "outputs": [
    {
     "name": "stdout",
     "output_type": "stream",
     "text": [
      "['hOw', 'ARe']\n"
     ]
    }
   ],
   "source": [
    "ls=['hello','Dear','hOw','ARe','You']\n",
    "ls1=[]\n",
    "for i in ls:\n",
    "    if(i[1].isupper()):\n",
    "        ls1.append(i)\n",
    "print(ls1)"
   ]
  },
  {
   "cell_type": "markdown",
   "id": "cc925b8b",
   "metadata": {},
   "source": [
    "# 13.A dictionary of names and their weights on earth is given.Find how much they will weigh on the moon.(Use map and lambda functions)Formula:wMoon=(wEarth*GMoon)/GEarth\n",
    "i)#Weight of people in kg\n",
    "  WeightOnEarth={'John':45,'Shelly':65,'Mary':35}\n",
    "ii)#Gravitational force on the Moon:1.622 m/s2\n",
    "  GMoon=1.622\n",
    "iii)#Gravitational force on the Earth:9.81 m/s2\n",
    "  GEarth=9.81"
   ]
  },
  {
   "cell_type": "code",
   "execution_count": 79,
   "id": "79f57245",
   "metadata": {},
   "outputs": [
    {
     "name": "stdout",
     "output_type": "stream",
     "text": [
      "Weight on the Moon:\n",
      "John: 7.44 kg\n",
      "Shelly: 10.75 kg\n",
      "Marry: 5.79 kg\n"
     ]
    }
   ],
   "source": [
    "weight_on_earth = {'John': 45, 'Shelly': 65, 'Marry': 35}\n",
    "g_moon = 1.622\n",
    "g_earth = 9.81\n",
    "weight_on_moon = {name: (weight * g_moon) / g_earth for name, weight in weight_on_earth.items()}\n",
    "print(\"Weight on the Moon:\")\n",
    "for name, weight in weight_on_moon.items():\n",
    "    print(f\"{name}: {weight:.2f} kg\")"
   ]
  },
  {
   "cell_type": "markdown",
   "id": "1bacd192",
   "metadata": {},
   "source": [
    "# Control Structures:   "
   ]
  },
  {
   "cell_type": "code",
   "execution_count": 39,
   "id": "6bada557",
   "metadata": {},
   "outputs": [
    {
     "name": "stdout",
     "output_type": "stream",
     "text": [
      "7\n",
      "2\n",
      "3\n",
      "5\n"
     ]
    }
   ],
   "source": [
    "# 1.Write a python program to find the first N Prime numbers.\n",
    "n=int(input())\n",
    "for i in range(2,n):\n",
    "    for j in range(2,i):\n",
    "        if i%j==0:\n",
    "           break\n",
    "    else:\n",
    "     print(i)"
   ]
  },
  {
   "cell_type": "code",
   "execution_count": 40,
   "id": "e24d96c8",
   "metadata": {},
   "outputs": [
    {
     "name": "stdout",
     "output_type": "stream",
     "text": [
      "enter basic salary:10000\n",
      "enter HRA100\n",
      "enter TA200\n",
      "enter DA100\n",
      "enter discount10\n",
      "1040.0\n"
     ]
    }
   ],
   "source": [
    "# 2.Write the python code that calculates the salary of an employee.\n",
    "#Prompt the user to enter the Basic Salary,HRA,TA, and DA.Add these components the Gross Salary.\n",
    "#Also,deduct 10% of salary from the Gross Salary to be paid as tax and display gross minus tax as net salary.\n",
    "basic_sal=int(input('enter basic salary:'))\n",
    "HRA=int(input('enter HRA'))\n",
    "TA=int(input('enter TA'))\n",
    "DA=int(input('enter DA'))\n",
    "discount=int(input('enter discount'))\n",
    "total_Gross_sal=basic_sal+HRA+TA+DA\n",
    "tax=total_Gross_sal-(total_Gross_sal*discount/100)\n",
    "net_sal=(total_Gross_sal-tax)\n",
    "print(net_sal)"
   ]
  },
  {
   "cell_type": "code",
   "execution_count": 53,
   "id": "0db54bdf",
   "metadata": {},
   "outputs": [
    {
     "name": "stdout",
     "output_type": "stream",
     "text": [
      "enter search elememt:banana\n",
      "Your search element is: banana\n"
     ]
    }
   ],
   "source": [
    "# 3.Write a python program to search for a string in the given list.\n",
    "li=['apple','banana','orange','mango']\n",
    "search =input('enter search elememt:')\n",
    "matched=0\n",
    "for i in li:\n",
    "    if i==search:\n",
    "        matched=1\n",
    "        break\n",
    "if matched==1:\n",
    "    print(\"Your search element is:\",i)\n",
    "else:\n",
    "    print(\"given string is not avaliable\")"
   ]
  },
  {
   "cell_type": "code",
   "execution_count": 63,
   "id": "37130712",
   "metadata": {},
   "outputs": [
    {
     "name": "stdout",
     "output_type": "stream",
     "text": [
      "enter the string:SIri\n",
      "no.of uppercase letters 2 and no.od lowercase letters 2\n"
     ]
    }
   ],
   "source": [
    "#4.Write a Python function that accepts a string and calculates the number of upper-case letters and lower-case letters.\n",
    "def str_up_low(str):\n",
    "    upper_count=0\n",
    "    lower_count=0\n",
    "    for i in str:\n",
    "        if i.isupper():\n",
    "            upper_count+=1\n",
    "        elif i.islower():\n",
    "            lower_count+=1\n",
    "    print('no.of uppercase letters %d and no.od lowercase letters %d' %(upper_count,lower_count))\n",
    "new_str=input('enter the string:')\n",
    "str_up_low(new_str)"
   ]
  },
  {
   "cell_type": "code",
   "execution_count": 72,
   "id": "8b60163e",
   "metadata": {},
   "outputs": [
    {
     "name": "stdout",
     "output_type": "stream",
     "text": [
      "312\n",
      "325\n"
     ]
    }
   ],
   "source": [
    "# 5.Write a program to display the sum of odd numbers and even numbers that fall between 12 and 37.\n",
    "sum_even=0\n",
    "sum_odd=0\n",
    "for i in range(12,38):\n",
    "    if(i%2==0):\n",
    "        sum_even+=i\n",
    "    else:\n",
    "        sum_odd+=i\n",
    "print(sum_even)\n",
    "print(sum_odd)"
   ]
  },
  {
   "cell_type": "code",
   "execution_count": 74,
   "id": "695f3441",
   "metadata": {},
   "outputs": [
    {
     "name": "stdout",
     "output_type": "stream",
     "text": [
      "Enter the number:9\n",
      "9 x 1 = 9\n",
      "9 x 2 = 18\n",
      "9 x 3 = 27\n",
      "9 x 4 = 36\n",
      "9 x 5 = 45\n",
      "9 x 6 = 54\n",
      "9 x 7 = 63\n",
      "9 x 8 = 72\n",
      "9 x 9 = 81\n",
      "9 x 10 = 90\n"
     ]
    }
   ],
   "source": [
    "# 6.Write a python program to print the table of any number\n",
    "n=int(input(\"Enter the number:\"))\n",
    "for i in range(1,11):\n",
    "    print(n,\"x\",i,\"=\",n*i)"
   ]
  },
  {
   "cell_type": "code",
   "execution_count": 108,
   "id": "f390a6fe",
   "metadata": {},
   "outputs": [
    {
     "name": "stdout",
     "output_type": "stream",
     "text": [
      "129\n"
     ]
    }
   ],
   "source": [
    "#7.Write a Python program to sum the first 10 prime numbers.\n",
    "n=10\n",
    "count=1\n",
    "range_num=2\n",
    "sum=0\n",
    "while(count<=n):\n",
    "    prime=True\n",
    "    for i in range(2,range_num):\n",
    "        if(range_num%i)==0:\n",
    "            prime=False\n",
    "            break\n",
    "    if(prime):\n",
    "        sum=sum+range_num\n",
    "        count=count+1\n",
    "    range_num=range_num+1\n",
    "print(sum)"
   ]
  },
  {
   "cell_type": "code",
   "execution_count": 70,
   "id": "1e196940",
   "metadata": {},
   "outputs": [
    {
     "name": "stdout",
     "output_type": "stream",
     "text": [
      "Enter the first number: 4\n",
      "Enter the second number: 3\n",
      "Enter the operation (+, -, *, /): +\n",
      "7\n"
     ]
    }
   ],
   "source": [
    "#8.Write a python program to implement arithmetic operations using nested if statement.\n",
    "num1 = int(input(\"Enter the first number: \"))\n",
    "num2 = int(input(\"Enter the second number: \"))\n",
    "operation = input(\"Enter the operation (+, -, *, /): \")\n",
    "\n",
    "if operation == \"+\":\n",
    "    result = num1 + num2\n",
    "elif operation == \"-\":\n",
    "    result = num1 - num2\n",
    "elif operation == \"*\":\n",
    "    result = num1 * num2\n",
    "elif operation == \"/\":\n",
    "    if num2 != 0:\n",
    "        result = num1 / num2\n",
    "    else:\n",
    "        result = \"Division by zero is not allowed\"\n",
    "else:\n",
    "    result = \"Invalid operation\"\n",
    "print(result)"
   ]
  },
  {
   "cell_type": "code",
   "execution_count": 114,
   "id": "ad202f4c",
   "metadata": {},
   "outputs": [
    {
     "name": "stdout",
     "output_type": "stream",
     "text": [
      "Enter the Temperature in Celsius:27\n",
      "Temperature in Fahrenheit: 80.6\n"
     ]
    }
   ],
   "source": [
    "#9.Write a python program to take the temperature in Celsius and convert it to a Fahrenheit.\n",
    "celsius= int(input(\"Enter the Temperature in Celsius:\"))\n",
    "fahrenheit = (1.8 * celsius) + 32\n",
    "print(\"Temperature in Fahrenheit:\", fahrenheit)"
   ]
  },
  {
   "cell_type": "code",
   "execution_count": 122,
   "id": "a8b165c1",
   "metadata": {},
   "outputs": [
    {
     "name": "stdout",
     "output_type": "stream",
     "text": [
      "(89, -7)\n"
     ]
    }
   ],
   "source": [
    "#10.Write a python program to find a maximum and minimum number in a list without using an inbuilt function.\n",
    "def max_min(data):\n",
    "  l = data[0]\n",
    "  s = data[0]\n",
    "  for num in data:\n",
    "    if num> l:\n",
    "      l = num\n",
    "    elif num< s:\n",
    "        s = num\n",
    "  return l, s\n",
    "print(max_min([2,89,4,1,-7]))"
   ]
  },
  {
   "cell_type": "code",
   "execution_count": 125,
   "id": "0ef24a1a",
   "metadata": {},
   "outputs": [
    {
     "name": "stdout",
     "output_type": "stream",
     "text": [
      "2592000\n"
     ]
    }
   ],
   "source": [
    "#11.Write a program in python to print out the number of seconds in 30-days month 30 days,\n",
    "#24 hours in a day,60 minutes per day,60 seconds in a minute.\n",
    "days_in_month=30\n",
    "hours_in_day=24\n",
    "minutes_in_hour=60\n",
    "seconds_in_minute=60\n",
    "sec_in_month=days_in_month*hours_in_day*minutes_in_hour*seconds_in_minute\n",
    "print(sec_in_month)"
   ]
  },
  {
   "cell_type": "code",
   "execution_count": 126,
   "id": "64ecc0b6",
   "metadata": {},
   "outputs": [
    {
     "name": "stdout",
     "output_type": "stream",
     "text": [
      "Number of seconds in a year :  31536000\n"
     ]
    }
   ],
   "source": [
    "#12.Write a program in python to print out the number of seconds in a year.\n",
    "days=365\n",
    "hours=24\n",
    "minutes=60\n",
    "seconds=60\n",
    "print(\"Number of seconds in a year : \",days*hours*minutes*seconds)"
   ]
  },
  {
   "cell_type": "code",
   "execution_count": 127,
   "id": "ed84b1a2",
   "metadata": {},
   "outputs": [
    {
     "name": "stdout",
     "output_type": "stream",
     "text": [
      "2.76\n"
     ]
    }
   ],
   "source": [
    "#13.A high-speed train can travel at an average speed of 150 mph,\n",
    "#how long will it take a train travelling at this speed to travel from London to Glasgow which is 414 miles away?\n",
    "speed=150\n",
    "distance=414\n",
    "time=distance/speed\n",
    "print(time)"
   ]
  },
  {
   "cell_type": "code",
   "execution_count": 1,
   "id": "e72b12ab",
   "metadata": {},
   "outputs": [
    {
     "name": "stdout",
     "output_type": "stream",
     "text": [
      "Total hours spent in school from year 7 to year 11: 5760 hours\n"
     ]
    }
   ],
   "source": [
    "#14.Write a python program that defines a variable called days_in_each_school_year and assign 192 to the variable.\n",
    "#The program should then print out the total hours that you spend in school from year 7 to year 11,\n",
    "#if each day you spend 6 hours in school days_in_each_school_year=192.\n",
    "days_in_each_school_year = 192\n",
    "total_hours_in_school = 0\n",
    "for year in range(7, 12):\n",
    "    total_hours_in_school += days_in_each_school_year * 6\n",
    "print(f\"Total hours spent in school from year 7 to year 11: {total_hours_in_school} hours\")"
   ]
  },
  {
   "cell_type": "code",
   "execution_count": 2,
   "id": "b5d0309c",
   "metadata": {},
   "outputs": [
    {
     "name": "stdout",
     "output_type": "stream",
     "text": [
      "Enter the age of Ram: 16\n",
      "Enter the age of Sam: 76\n",
      "Enter the age of Khan: 34\n",
      "76\n",
      "16\n"
     ]
    }
   ],
   "source": [
    "#15.If the age of Ram,Sam and Khan are input through the keyboard,\n",
    "#Write a python program to determine the eldest and youngest of the three.\n",
    "ram_age = int(input(\"Enter the age of Ram: \"))\n",
    "sam_age = int(input(\"Enter the age of Sam: \"))\n",
    "khan_age = int(input(\"Enter the age of Khan: \"))\n",
    "if ram_age > sam_age and ram_age > khan_age:\n",
    "    eldest = \"Ram\"\n",
    "    if(sam_age>khan_age):\n",
    "        youngest='Khan'\n",
    "    else:\n",
    "        youngest='Sam'\n",
    "        \n",
    "elif sam_age > ram_age and sam_age > khan_age:\n",
    "    eldest = \"Sam\"\n",
    "    if(ram_age>khan_age):\n",
    "        youngest='Khan'\n",
    "    else:\n",
    "        youngest='Ram'\n",
    "        \n",
    "else:\n",
    "    eldest = \"Khan\"\n",
    "    if(ram_age>sam_age):\n",
    "        youngest='Sam'\n",
    "    else:\n",
    "        youngest='Ram'\n",
    "maxage=max(ram_age, sam_age, khan_age)\n",
    "minage=min(ram_age, sam_age, khan_age)\n",
    "print(maxage)\n",
    "print(minage)"
   ]
  },
  {
   "cell_type": "code",
   "execution_count": 43,
   "id": "16e49dd4",
   "metadata": {},
   "outputs": [
    {
     "name": "stdout",
     "output_type": "stream",
     "text": [
      "Enter the number of times to rotate to the right: 2\n",
      "[1, 2, 3, 4, 5]\n",
      "[4, 5, 1, 2, 3]\n"
     ]
    }
   ],
   "source": [
    "#16.Write a python program to rotate a list by right n times with and without slicing technique.\n",
    "#with slicing\n",
    "def rotate_right(lst, n):\n",
    "    if not lst:\n",
    "        return lst  \n",
    "    n=n%len(lst) \n",
    "    return lst[-n:] + lst[:-n]\n",
    "original_list = [1, 2, 3, 4, 5]\n",
    "n = int(input(\"Enter the number of times to rotate to the right: \"))\n",
    "rotated_list = rotate_right(original_list, n)\n",
    "print(original_list)\n",
    "print(rotated_list)"
   ]
  },
  {
   "cell_type": "code",
   "execution_count": 45,
   "id": "969c9ceb",
   "metadata": {},
   "outputs": [
    {
     "name": "stdout",
     "output_type": "stream",
     "text": [
      "Enter the number  within range of list length:3\n",
      "Rotated list without slicing: [3, 4, 5, 1, 2]\n"
     ]
    }
   ],
   "source": [
    "#without slicing\n",
    "def rotate_without_slicing(lst, n):\n",
    "    if not lst:\n",
    "        return lst\n",
    "    n = n % len(lst) \n",
    "    rotated_list = [None] * len(lst)\n",
    "    for i in range(len(lst)):\n",
    "        rotated_list[(i + n) % len(lst)] = lst[i]\n",
    "    return rotated_list\n",
    "my_list = [1, 2, 3, 4, 5]\n",
    "rotation_count = int(input(\"Enter the number  within range of list length:\"))\n",
    "rotated_list = rotate_without_slicing(my_list, rotation_count)\n",
    "print(\"Rotated list without slicing:\", rotated_list)"
   ]
  },
  {
   "cell_type": "code",
   "execution_count": 54,
   "id": "668229cc",
   "metadata": {},
   "outputs": [
    {
     "name": "stdout",
     "output_type": "stream",
     "text": [
      "Enter the number of rows:7\n",
      "1 \n",
      "1 1 \n",
      "1 2 1 \n",
      "1 3 3 1 \n",
      "1 4 6 4 1 \n",
      "1 5 10 10 5 1 \n",
      "1 6 15 20 15 6 1 \n"
     ]
    }
   ],
   "source": [
    "#17.Python program to print the patterns given below: \n",
    "#i)pattern1\n",
    "num_rows = int(input(\"Enter the number of rows:\"))\n",
    "def binomial_coefficient(n, k):\n",
    "    if k == 0 or k == n:\n",
    "        return 1\n",
    "    return binomial_coefficient(n - 1, k - 1) + binomial_coefficient(n - 1, k)\n",
    "for i in range(num_rows):\n",
    "    for j in range(i + 1):\n",
    "        print(binomial_coefficient(i, j), end=\" \")\n",
    "    print()  "
   ]
  },
  {
   "cell_type": "code",
   "execution_count": 51,
   "id": "1f3ae63d",
   "metadata": {},
   "outputs": [
    {
     "name": "stdout",
     "output_type": "stream",
     "text": [
      "Enter the number5\n",
      "*\n",
      "**\n",
      "***\n",
      "****\n",
      "*****\n"
     ]
    }
   ],
   "source": [
    "#ii)pattern2\n",
    "num_rows=int(input(\"Enter the number\"))\n",
    "for i in range(1, num_rows + 1):\n",
    "    print(\"*\" * i)"
   ]
  },
  {
   "cell_type": "code",
   "execution_count": 67,
   "id": "e4e1185b",
   "metadata": {},
   "outputs": [
    {
     "name": "stdout",
     "output_type": "stream",
     "text": [
      "Enter the number of rows:6\n",
      "           *  \n",
      "         *  *  \n",
      "       *  *  *  \n",
      "     *  *  *  *  \n",
      "   *  *  *  *  *  \n",
      " *  *  *  *  *  *  \n"
     ]
    }
   ],
   "source": [
    "#iii)pattern3\n",
    "rows = int(input(\"Enter the number of rows:\"))  \n",
    "k = 2 * rows - 2   \n",
    "for i in range(0, rows):  \n",
    "    for j in range(0, k):  \n",
    "        print(end=\" \")  \n",
    "    k = k - 2     \n",
    "    for j in range(0, i + 1):  \n",
    "        print(\" * \", end=\"\")\n",
    "    print(\" \")  "
   ]
  },
  {
   "cell_type": "code",
   "execution_count": 68,
   "id": "e7dee75f",
   "metadata": {},
   "outputs": [
    {
     "name": "stdout",
     "output_type": "stream",
     "text": [
      "enter the string:sirisha\n",
      "s\n",
      "si\n",
      "sir\n",
      "siri\n",
      "siris\n",
      "sirish\n",
      "sirisha\n"
     ]
    }
   ],
   "source": [
    "#iv)pattern4\n",
    "str=input(\"enter the string:\")\n",
    "len=len(str)\n",
    "for i in range(len):\n",
    "  for j in range(i+1):\n",
    "    print(str[j],end=\"\")\n",
    "  print()"
   ]
  }
 ],
 "metadata": {
  "kernelspec": {
   "display_name": "Python 3 (ipykernel)",
   "language": "python",
   "name": "python3"
  },
  "language_info": {
   "codemirror_mode": {
    "name": "ipython",
    "version": 3
   },
   "file_extension": ".py",
   "mimetype": "text/x-python",
   "name": "python",
   "nbconvert_exporter": "python",
   "pygments_lexer": "ipython3",
   "version": "3.11.4"
  }
 },
 "nbformat": 4,
 "nbformat_minor": 5
}
