{
 "cells": [
  {
   "cell_type": "markdown",
   "id": "43dc4366",
   "metadata": {},
   "source": [
    "# Decision Tree for Predictive Modeling\n",
    "\n",
    "You work for a data-driven company that focuses on predicting customer satisfaction and sales for a retail business. Your task is to build predictive models using decision trees. The dataset contains various customer attributes, shopping behavior, and survey responses. Answer the following questions based on this case study:\n",
    "\n",
    "1. Data Exploration:\n",
    "\n",
    "a. Load the dataset using Python libraries like pandas and explore its structure. Describe the features, target variables, and data distribution.\n",
    "\n",
    "b. Discuss the importance of customer satisfaction and sales prediction in the retail business context.\n",
    "\n",
    "2. Classification Task Predicting Customer Satisfaction:\n",
    "\n",
    "a. Implement a decision tree classifier using Python libraries like scikit-learn to predict customer satisfaction.\n",
    "\n",
    "b. Split the dataset into training and testing sets and train the model.\n",
    "\n",
    "c. Evaluate the classification model's performance using relevant metrics such as accuracy, precision, recall, and F1-score.\n",
    "\n",
    "3. Regression Task - Predicting Sales:\n",
    "\n",
    "a. Implement a decision tree regression model using Python libraries to predict sales based on customer attributes and behavior.\n",
    "\n",
    "b. Discuss the differences between classification and regression tasks in predictive modeling.\n",
    "\n",
    "c. Split the dataset into training and testing sets and train the regression model.\n",
    "\n",
    "d. Evaluate the regression model's performance using metrics such as mean squared error (MSE) and R- squared.\n",
    "\n",
    "4. Decision Tree Visualization:\n",
    "\n",
    "a. Visualize the decision tree for both the classification and regression models. Discuss the interpretability of decision trees in predictive modeling.\n",
    "\n",
    "5. Feature Importance:\n",
    "\n",
    "a. Determine the most important features in both models by examining the decision tree structure. Discuss how feature importance is calculated in decision trees.\n",
    "\n",
    "6. Overfitting and Pruning:\n",
    "\n",
    "a. Explain the concept of overfitting in the context of decision trees.\n",
    "\n",
    "b. Discuss methods for reducing overfitting, such as pruning, minimum samples per leaf, and maximum depth.\n",
    "\n",
    "c. Implement pruning or other techniques as necessary and analyze their impact on the model's performance.\n",
    "\n",
    "7. Real-World Application:\n",
    "\n",
    "a. Describe the practical applications of customer satisfaction prediction and sales forecasting in the retail industry.\n",
    "\n",
    "b. Discuss the potential benefits of using predictive models in retail business operations and decision- making.\n",
    "\n",
    "8. Model Comparison:\n",
    "\n",
    "a. Compare the performance of the decision tree classification and regression models.\n",
    "\n",
    "b. Discuss the trade-offs, advantages, and limitations of decision trees for different types of predictive tasks.\n",
    "\n",
    "9. Presentation and Recommendations:\n",
    "\n",
    "a. Prepare a presentation or report summarizing your analysis, results, and recommendations for the retail business. Highlight the significance of predictive modeling and the insights gained from decision tree models.\n",
    "\n",
    "In this case study, you are required to demonstrate your ability to use decision trees for both classification and regression tasks, understand the importance of feature selection and pruning, and communicate the practical applications of predictive modeling in a real-world context."
   ]
  },
  {
   "cell_type": "code",
   "execution_count": 1,
   "id": "705c1246",
   "metadata": {},
   "outputs": [],
   "source": [
    "import numpy as np\n",
    "import pandas as pd\n",
    "import matplotlib.pyplot as plt\n",
    "import seaborn as sns"
   ]
  },
  {
   "cell_type": "code",
   "execution_count": 2,
   "id": "6791836d",
   "metadata": {},
   "outputs": [
    {
     "data": {
      "text/html": [
       "<div>\n",
       "<style scoped>\n",
       "    .dataframe tbody tr th:only-of-type {\n",
       "        vertical-align: middle;\n",
       "    }\n",
       "\n",
       "    .dataframe tbody tr th {\n",
       "        vertical-align: top;\n",
       "    }\n",
       "\n",
       "    .dataframe thead th {\n",
       "        text-align: right;\n",
       "    }\n",
       "</style>\n",
       "<table border=\"1\" class=\"dataframe\">\n",
       "  <thead>\n",
       "    <tr style=\"text-align: right;\">\n",
       "      <th></th>\n",
       "      <th>CustomerID</th>\n",
       "      <th>Age</th>\n",
       "      <th>Income</th>\n",
       "      <th>ShoppingBehaviour</th>\n",
       "      <th>PurchaseAmount</th>\n",
       "      <th>SurveyResponse</th>\n",
       "    </tr>\n",
       "  </thead>\n",
       "  <tbody>\n",
       "    <tr>\n",
       "      <th>0</th>\n",
       "      <td>1</td>\n",
       "      <td>28</td>\n",
       "      <td>45000</td>\n",
       "      <td>1</td>\n",
       "      <td>150</td>\n",
       "      <td>1</td>\n",
       "    </tr>\n",
       "    <tr>\n",
       "      <th>1</th>\n",
       "      <td>2</td>\n",
       "      <td>35</td>\n",
       "      <td>60000</td>\n",
       "      <td>0</td>\n",
       "      <td>100</td>\n",
       "      <td>0</td>\n",
       "    </tr>\n",
       "    <tr>\n",
       "      <th>2</th>\n",
       "      <td>3</td>\n",
       "      <td>40</td>\n",
       "      <td>75000</td>\n",
       "      <td>0</td>\n",
       "      <td>50</td>\n",
       "      <td>1</td>\n",
       "    </tr>\n",
       "    <tr>\n",
       "      <th>3</th>\n",
       "      <td>4</td>\n",
       "      <td>22</td>\n",
       "      <td>30000</td>\n",
       "      <td>0</td>\n",
       "      <td>30</td>\n",
       "      <td>0</td>\n",
       "    </tr>\n",
       "    <tr>\n",
       "      <th>4</th>\n",
       "      <td>5</td>\n",
       "      <td>50</td>\n",
       "      <td>90000</td>\n",
       "      <td>1</td>\n",
       "      <td>200</td>\n",
       "      <td>1</td>\n",
       "    </tr>\n",
       "  </tbody>\n",
       "</table>\n",
       "</div>"
      ],
      "text/plain": [
       "   CustomerID   Age   Income   ShoppingBehaviour   PurchaseAmount  \\\n",
       "0           1    28    45000                   1              150   \n",
       "1           2    35    60000                   0              100   \n",
       "2           3    40    75000                   0               50   \n",
       "3           4    22    30000                   0               30   \n",
       "4           5    50    90000                   1              200   \n",
       "\n",
       "    SurveyResponse  \n",
       "0                1  \n",
       "1                0  \n",
       "2                1  \n",
       "3                0  \n",
       "4                1  "
      ]
     },
     "execution_count": 2,
     "metadata": {},
     "output_type": "execute_result"
    }
   ],
   "source": [
    "data=pd.read_csv('decision.csv')\n",
    "data.head()"
   ]
  },
  {
   "cell_type": "markdown",
   "id": "66427bf0",
   "metadata": {},
   "source": [
    "customer satisfaction and sales prediction are essential for retail businesses to thrive, improve customer loyalty, and achieve long-term success. Accurate predictive models can guide retailers in making informed decisions to meet customer expectations and achieve their business goals."
   ]
  },
  {
   "cell_type": "code",
   "execution_count": 3,
   "id": "23701763",
   "metadata": {},
   "outputs": [
    {
     "data": {
      "text/plain": [
       "CustomerID            0\n",
       " Age                  0\n",
       " Income               0\n",
       " ShoppingBehaviour    0\n",
       " PurchaseAmount       0\n",
       " SurveyResponse       0\n",
       "dtype: int64"
      ]
     },
     "execution_count": 3,
     "metadata": {},
     "output_type": "execute_result"
    }
   ],
   "source": [
    "data.isna().sum()"
   ]
  },
  {
   "cell_type": "code",
   "execution_count": 5,
   "id": "bf32c910",
   "metadata": {},
   "outputs": [
    {
     "data": {
      "text/plain": [
       "array([[<Axes: title={'center': 'CustomerID'}>,\n",
       "        <Axes: title={'center': ' Age'}>],\n",
       "       [<Axes: title={'center': ' Income'}>,\n",
       "        <Axes: title={'center': ' ShoppingBehaviour'}>],\n",
       "       [<Axes: title={'center': ' PurchaseAmount'}>,\n",
       "        <Axes: title={'center': ' SurveyResponse'}>]], dtype=object)"
      ]
     },
     "execution_count": 5,
     "metadata": {},
     "output_type": "execute_result"
    },
    {
     "data": {
      "image/png": "[encoded data removed]",
      "text/plain": [
       "<Figure size 1000x800 with 6 Axes>"
      ]
     },
     "metadata": {},
     "output_type": "display_data"
    }
   ],
   "source": [
    "data.hist(figsize=(10,8))"
   ]
  },
  {
   "cell_type": "code",
   "execution_count": 6,
   "id": "bdd97148",
   "metadata": {},
   "outputs": [
    {
     "name": "stdout",
     "output_type": "stream",
     "text": [
      "<class 'pandas.core.frame.DataFrame'>\n",
      "RangeIndex: 37 entries, 0 to 36\n",
      "Data columns (total 6 columns):\n",
      " #   Column              Non-Null Count  Dtype\n",
      "---  ------              --------------  -----\n",
      " 0   CustomerID          37 non-null     int64\n",
      " 1    Age                37 non-null     int64\n",
      " 2    Income             37 non-null     int64\n",
      " 3    ShoppingBehaviour  37 non-null     int64\n",
      " 4    PurchaseAmount     37 non-null     int64\n",
      " 5    SurveyResponse     37 non-null     int64\n",
      "dtypes: int64(6)\n",
      "memory usage: 1.9 KB\n"
     ]
    }
   ],
   "source": [
    "data.info()"
   ]
  },
  {
   "cell_type": "code",
   "execution_count": 7,
   "id": "88cee71f",
   "metadata": {},
   "outputs": [
    {
     "data": {
      "text/html": [
       "<div>\n",
       "<style scoped>\n",
       "    .dataframe tbody tr th:only-of-type {\n",
       "        vertical-align: middle;\n",
       "    }\n",
       "\n",
       "    .dataframe tbody tr th {\n",
       "        vertical-align: top;\n",
       "    }\n",
       "\n",
       "    .dataframe thead th {\n",
       "        text-align: right;\n",
       "    }\n",
       "</style>\n",
       "<table border=\"1\" class=\"dataframe\">\n",
       "  <thead>\n",
       "    <tr style=\"text-align: right;\">\n",
       "      <th></th>\n",
       "      <th>CustomerID</th>\n",
       "      <th>Age</th>\n",
       "      <th>Income</th>\n",
       "      <th>ShoppingBehaviour</th>\n",
       "      <th>PurchaseAmount</th>\n",
       "    </tr>\n",
       "  </thead>\n",
       "  <tbody>\n",
       "    <tr>\n",
       "      <th>0</th>\n",
       "      <td>1</td>\n",
       "      <td>28</td>\n",
       "      <td>45000</td>\n",
       "      <td>1</td>\n",
       "      <td>150</td>\n",
       "    </tr>\n",
       "    <tr>\n",
       "      <th>1</th>\n",
       "      <td>2</td>\n",
       "      <td>35</td>\n",
       "      <td>60000</td>\n",
       "      <td>0</td>\n",
       "      <td>100</td>\n",
       "    </tr>\n",
       "    <tr>\n",
       "      <th>2</th>\n",
       "      <td>3</td>\n",
       "      <td>40</td>\n",
       "      <td>75000</td>\n",
       "      <td>0</td>\n",
       "      <td>50</td>\n",
       "    </tr>\n",
       "    <tr>\n",
       "      <th>3</th>\n",
       "      <td>4</td>\n",
       "      <td>22</td>\n",
       "      <td>30000</td>\n",
       "      <td>0</td>\n",
       "      <td>30</td>\n",
       "    </tr>\n",
       "    <tr>\n",
       "      <th>4</th>\n",
       "      <td>5</td>\n",
       "      <td>50</td>\n",
       "      <td>90000</td>\n",
       "      <td>1</td>\n",
       "      <td>200</td>\n",
       "    </tr>\n",
       "  </tbody>\n",
       "</table>\n",
       "</div>"
      ],
      "text/plain": [
       "   CustomerID   Age   Income   ShoppingBehaviour   PurchaseAmount\n",
       "0           1    28    45000                   1              150\n",
       "1           2    35    60000                   0              100\n",
       "2           3    40    75000                   0               50\n",
       "3           4    22    30000                   0               30\n",
       "4           5    50    90000                   1              200"
      ]
     },
     "execution_count": 7,
     "metadata": {},
     "output_type": "execute_result"
    }
   ],
   "source": [
    "x=data.iloc[:,:-1]\n",
    "x.head()\n"
   ]
  },
  {
   "cell_type": "code",
   "execution_count": 8,
   "id": "7603e688",
   "metadata": {},
   "outputs": [
    {
     "data": {
      "text/html": [
       "<div>\n",
       "<style scoped>\n",
       "    .dataframe tbody tr th:only-of-type {\n",
       "        vertical-align: middle;\n",
       "    }\n",
       "\n",
       "    .dataframe tbody tr th {\n",
       "        vertical-align: top;\n",
       "    }\n",
       "\n",
       "    .dataframe thead th {\n",
       "        text-align: right;\n",
       "    }\n",
       "</style>\n",
       "<table border=\"1\" class=\"dataframe\">\n",
       "  <thead>\n",
       "    <tr style=\"text-align: right;\">\n",
       "      <th></th>\n",
       "      <th>SurveyResponse</th>\n",
       "    </tr>\n",
       "  </thead>\n",
       "  <tbody>\n",
       "    <tr>\n",
       "      <th>0</th>\n",
       "      <td>1</td>\n",
       "    </tr>\n",
       "    <tr>\n",
       "      <th>1</th>\n",
       "      <td>0</td>\n",
       "    </tr>\n",
       "    <tr>\n",
       "      <th>2</th>\n",
       "      <td>1</td>\n",
       "    </tr>\n",
       "    <tr>\n",
       "      <th>3</th>\n",
       "      <td>0</td>\n",
       "    </tr>\n",
       "    <tr>\n",
       "      <th>4</th>\n",
       "      <td>1</td>\n",
       "    </tr>\n",
       "  </tbody>\n",
       "</table>\n",
       "</div>"
      ],
      "text/plain": [
       "    SurveyResponse\n",
       "0                1\n",
       "1                0\n",
       "2                1\n",
       "3                0\n",
       "4                1"
      ]
     },
     "execution_count": 8,
     "metadata": {},
     "output_type": "execute_result"
    }
   ],
   "source": [
    "y=data.iloc[:,-1:]\n",
    "y.head()"
   ]
  },
  {
   "cell_type": "markdown",
   "id": "b9a9fcd3",
   "metadata": {},
   "source": [
    "# Split the data for training & testing"
   ]
  },
  {
   "cell_type": "code",
   "execution_count": 9,
   "id": "46eac79f",
   "metadata": {},
   "outputs": [
    {
     "name": "stdout",
     "output_type": "stream",
     "text": [
      "****************Training Data Shape********************\n",
      "\n",
      "Training data-X- Shape:\t (27, 5)\n",
      "\n",
      "Training data-y- Shape:\t (27, 1)\n",
      "\n",
      "****************Testing Data Shape********************\n",
      "\n",
      "Testing data(x-Input) Shape:\t (10, 5)\n",
      "\n",
      "Testing data(y-Outcome) Shape:\t (10, 1)\n"
     ]
    }
   ],
   "source": [
    "from sklearn.model_selection import train_test_split\n",
    "xtrain,xtest,ytrain,ytest=train_test_split(x,y,test_size=.25,random_state=2)\n",
    "print('****************Training Data Shape********************\\n')\n",
    "print('Training data-X- Shape:\\t',xtrain.shape)\n",
    "print()\n",
    "print('Training data-y- Shape:\\t',ytrain.shape)\n",
    "print()\n",
    "print('****************Testing Data Shape********************\\n')\n",
    "print('Testing data(x-Input) Shape:\\t',xtest.shape)\n",
    "print()\n",
    "print('Testing data(y-Outcome) Shape:\\t',ytest.shape)"
   ]
  },
  {
   "cell_type": "code",
   "execution_count": 10,
   "id": "67bb11b6",
   "metadata": {},
   "outputs": [
    {
     "name": "stdout",
     "output_type": "stream",
     "text": [
      "****************************************************************************************************\n",
      "Decison Tree Model\n",
      "****************************************************************************************************\n",
      "\n",
      " Training Phase\n",
      "Hyperparameter:\n",
      " {'ccp_alpha': 0.0, 'class_weight': None, 'criterion': 'gini', 'max_depth': None, 'max_features': None, 'max_leaf_nodes': None, 'min_impurity_decrease': 0.0, 'min_samples_leaf': 1, 'min_samples_split': 2, 'min_weight_fraction_leaf': 0.0, 'random_state': None, 'splitter': 'best'}\n",
      "Training Completed\n",
      "====================================================================================================\n",
      "\n",
      " Test Phase\n",
      "Predicted class labels for the test samples:\n",
      " [0 1 0 0 1 0 0 0 1 0]\n",
      "\n",
      "Testing completed\n",
      "====================================================================================================\n",
      "****************************************************************************************************\n",
      "Decison Tree - Performance Measures\n",
      "****************************************************************************************************\n",
      "Accuracy Score:\t 0.9\n",
      "====================================================================================================\n",
      "Confusion Matric:\n",
      " [[6 0]\n",
      " [1 3]]\n",
      "====================================================================================================\n",
      "Classification Report\n",
      "               precision    recall  f1-score   support\n",
      "\n",
      "           0       0.86      1.00      0.92         6\n",
      "           1       1.00      0.75      0.86         4\n",
      "\n",
      "    accuracy                           0.90        10\n",
      "   macro avg       0.93      0.88      0.89        10\n",
      "weighted avg       0.91      0.90      0.90        10\n",
      "\n",
      "====================================================================================================\n"
     ]
    }
   ],
   "source": [
    "from sklearn.tree import DecisionTreeClassifier\n",
    "dt_clf=DecisionTreeClassifier()\n",
    "print('*'*100)\n",
    "print('Decison Tree Model')\n",
    "print('*'*100)\n",
    "print('\\n Training Phase')\n",
    "dt_clf.fit(xtrain,ytrain)\n",
    "print('Hyperparameter:\\n',dt_clf.get_params())\n",
    "print('Training Completed')\n",
    "print('='*100)\n",
    "print('\\n Test Phase')\n",
    "ypred=dt_clf.predict(xtest)\n",
    "print('Predicted class labels for the test samples:\\n',ypred)\n",
    "print()\n",
    "print('Testing completed')\n",
    "print('='*100)\n",
    "#import metrics\n",
    "from sklearn.metrics import accuracy_score\n",
    "from sklearn.metrics import confusion_matrix\n",
    "from sklearn.metrics import classification_report\n",
    "print('*'*100)\n",
    "print('Decison Tree - Performance Measures')\n",
    "print('*'*100)\n",
    "print('Accuracy Score:\\t',accuracy_score(ytest,ypred))\n",
    "print('='*100)\n",
    "print('Confusion Matric:\\n',confusion_matrix(ytest,ypred))\n",
    "print('='*100)\n",
    "print('Classification Report\\n',classification_report(ytest,ypred))\n",
    "print('='*100)\n"
   ]
  },
  {
   "cell_type": "code",
   "execution_count": 11,
   "id": "7e8db0f9",
   "metadata": {},
   "outputs": [
    {
     "name": "stdout",
     "output_type": "stream",
     "text": [
      "Mean Squared Error (MSE): 0.10\n",
      "R-squared (R^2): 0.58\n"
     ]
    }
   ],
   "source": [
    "from sklearn.model_selection import train_test_split\n",
    "from sklearn.tree import DecisionTreeRegressor\n",
    "from sklearn.metrics import mean_squared_error, r2_score\n",
    "dt_reg= DecisionTreeRegressor(random_state=42)\n",
    "dt_reg.fit(xtrain, ytrain)\n",
    "\n",
    "# Make predictions on the test set\n",
    "y_pred = dt_reg.predict(xtest)\n",
    "\n",
    "# Evaluate the model's performance\n",
    "mse = mean_squared_error(ytest, y_pred)\n",
    "r2 = r2_score(ytest, y_pred)\n",
    "\n",
    "print(f'Mean Squared Error (MSE): {mse:.2f}')\n",
    "print(f'R-squared (R^2): {r2:.2f}')"
   ]
  },
  {
   "cell_type": "markdown",
   "id": "94455f0d",
   "metadata": {},
   "source": [
    "# Classification and regression are both types of predictive modeling, but they differ in their goals and the types of output they produce:\n",
    "\n",
    "Classification is used when the target variable is categorical or consists of classes. The goal is to assign each data point to one of these classes. Example problems include email spam detection (spam or not spam), image classification (cat or dog), and sentiment analysis (positive, negative, neutral).\n",
    "\n",
    "Regression, on the other hand, is used when the target variable is continuous and numerical. The goal is to predict a numerical value. Examples of regression tasks include predicting sales, housing prices, temperature, or any variable that can take a wide range of real-number values."
   ]
  },
  {
   "cell_type": "code",
   "execution_count": 12,
   "id": "f82b88a8",
   "metadata": {},
   "outputs": [
    {
     "data": {
      "text/plain": [
       "[Text(0.5, 0.75, 'x[2] <= 64000.0\\ngini = 0.494\\nsamples = 27\\nvalue = [12, 15]'),\n",
       " Text(0.25, 0.25, 'gini = 0.0\\nsamples = 12\\nvalue = [12, 0]'),\n",
       " Text(0.75, 0.25, 'gini = 0.0\\nsamples = 15\\nvalue = [0, 15]')]"
      ]
     },
     "execution_count": 12,
     "metadata": {},
     "output_type": "execute_result"
    },
    {
     "data": {
      "image/png": "[encoded data removed]",
      "text/plain": [
       "<Figure size 640x480 with 1 Axes>"
      ]
     },
     "metadata": {},
     "output_type": "display_data"
    }
   ],
   "source": [
    "from sklearn import tree\n",
    "tree.plot_tree(dt_clf)"
   ]
  },
  {
   "cell_type": "code",
   "execution_count": 13,
   "id": "d937545d",
   "metadata": {},
   "outputs": [
    {
     "data": {
      "text/plain": [
       "[Text(0.5, 0.75, 'x[1] <= 36.5\\nsquared_error = 0.247\\nsamples = 27\\nvalue = 0.556'),\n",
       " Text(0.25, 0.25, 'squared_error = 0.0\\nsamples = 12\\nvalue = 0.0'),\n",
       " Text(0.75, 0.25, 'squared_error = 0.0\\nsamples = 15\\nvalue = 1.0')]"
      ]
     },
     "execution_count": 13,
     "metadata": {},
     "output_type": "execute_result"
    },
    {
     "data": {
      "image/png": "[encoded data removed]",
      "text/plain": [
       "<Figure size 640x480 with 1 Axes>"
      ]
     },
     "metadata": {},
     "output_type": "display_data"
    }
   ],
   "source": [
    "from sklearn import tree\n",
    "tree.plot_tree(dt_reg)"
   ]
  },
  {
   "cell_type": "code",
   "execution_count": 15,
   "id": "3e25c6fa",
   "metadata": {},
   "outputs": [
    {
     "data": {
      "image/png": "[encoded data removed]",
      "text/plain": [
       "<Figure size 640x480 with 1 Axes>"
      ]
     },
     "metadata": {},
     "output_type": "display_data"
    },
    {
     "data": {
      "image/png": "[encoded data removed]",
      "text/plain": [
       "<Figure size 640x480 with 1 Axes>"
      ]
     },
     "metadata": {},
     "output_type": "display_data"
    }
   ],
   "source": [
    "\n",
    "# For Classification\n",
    "feature_importance_classification = dt_clf.feature_importances_\n",
    "\n",
    "# For Regression\n",
    "feature_importance_regression = dt_reg.feature_importances_\n",
    "# For Classification\n",
    "plt.bar(x.columns, feature_importance_classification)\n",
    "plt.xlabel('Features')\n",
    "plt.ylabel('Importance')\n",
    "plt.title('Feature Importance - Classification')\n",
    "plt.show()\n",
    "\n",
    "# For Regression\n",
    "plt.bar(x.columns, feature_importance_regression)\n",
    "plt.xlabel('Features')\n",
    "plt.ylabel('Importance')\n",
    "plt.title('Feature Importance - Regression')\n",
    "plt.show()"
   ]
  },
  {
   "cell_type": "markdown",
   "id": "2469ffb1",
   "metadata": {},
   "source": [
    "# Build the Decision Tree model with criterion =GINI index method"
   ]
  },
  {
   "cell_type": "code",
   "execution_count": 16,
   "id": "b79f6bcd",
   "metadata": {},
   "outputs": [
    {
     "name": "stdout",
     "output_type": "stream",
     "text": [
      "****************************************************************************************************\n",
      "Decison Tree Model\n",
      "****************************************************************************************************\n",
      "\n",
      " Training Phase\n",
      "Hyperparameter:\n",
      " {'ccp_alpha': 0.0, 'class_weight': None, 'criterion': 'gini', 'max_depth': None, 'max_features': None, 'max_leaf_nodes': None, 'min_impurity_decrease': 0.0, 'min_samples_leaf': 1, 'min_samples_split': 2, 'min_weight_fraction_leaf': 0.0, 'random_state': None, 'splitter': 'best'}\n",
      "Training Completed\n",
      "====================================================================================================\n",
      "\n",
      " Test Phase\n",
      "Predicted class labels for the test samples:\n",
      " [0 1 0 0 1 0 0 0 1 0]\n",
      "\n",
      "Testing completed\n",
      "====================================================================================================\n",
      "****************************************************************************************************\n",
      "Decison Tree - Performance Measures\n",
      "****************************************************************************************************\n",
      "Accuracy Score:\t 0.9\n",
      "====================================================================================================\n",
      "Confusion Matric:\n",
      " [[6 0]\n",
      " [1 3]]\n",
      "====================================================================================================\n",
      "Classification Report\n",
      "               precision    recall  f1-score   support\n",
      "\n",
      "           0       0.86      1.00      0.92         6\n",
      "           1       1.00      0.75      0.86         4\n",
      "\n",
      "    accuracy                           0.90        10\n",
      "   macro avg       0.93      0.88      0.89        10\n",
      "weighted avg       0.91      0.90      0.90        10\n",
      "\n",
      "====================================================================================================\n"
     ]
    }
   ],
   "source": [
    "from sklearn.tree import DecisionTreeClassifier\n",
    "dt_clf=DecisionTreeClassifier()\n",
    "print('*'*100)\n",
    "print('Decison Tree Model')\n",
    "print('*'*100)\n",
    "print('\\n Training Phase')\n",
    "dt_clf.fit(xtrain,ytrain)\n",
    "print('Hyperparameter:\\n',dt_clf.get_params())\n",
    "print('Training Completed')\n",
    "print('='*100)\n",
    "print('\\n Test Phase')\n",
    "ypred=dt_clf.predict(xtest)\n",
    "print('Predicted class labels for the test samples:\\n',ypred)\n",
    "print()\n",
    "print('Testing completed')\n",
    "print('='*100)\n",
    "#import metrics\n",
    "from sklearn.metrics import accuracy_score\n",
    "from sklearn.metrics import confusion_matrix\n",
    "from sklearn.metrics import classification_report\n",
    "print('*'*100)\n",
    "print('Decison Tree - Performance Measures')\n",
    "print('*'*100)\n",
    "print('Accuracy Score:\\t',accuracy_score(ytest,ypred))\n",
    "print('='*100)\n",
    "print('Confusion Matric:\\n',confusion_matrix(ytest,ypred))\n",
    "print('='*100)\n",
    "print('Classification Report\\n',classification_report(ytest,ypred))\n",
    "print('='*100)\n"
   ]
  },
  {
   "cell_type": "markdown",
   "id": "6bff82fe",
   "metadata": {},
   "source": [
    "# Build the Decision Tree model with criterion =entropy index method"
   ]
  },
  {
   "cell_type": "code",
   "execution_count": 17,
   "id": "37928f90",
   "metadata": {},
   "outputs": [
    {
     "name": "stdout",
     "output_type": "stream",
     "text": [
      "****************************************************************************************************\n",
      "Decison Tree Model\n",
      "****************************************************************************************************\n",
      "\n",
      " Training Phase\n",
      "Hyperparameter:\n",
      " {'ccp_alpha': 0.0, 'class_weight': None, 'criterion': 'entropy', 'max_depth': None, 'max_features': None, 'max_leaf_nodes': None, 'min_impurity_decrease': 0.0, 'min_samples_leaf': 1, 'min_samples_split': 2, 'min_weight_fraction_leaf': 0.0, 'random_state': None, 'splitter': 'best'}\n",
      "Training Completed\n",
      "====================================================================================================\n",
      "\n",
      " Test Phase\n",
      "Predicted class labels for the test samples:\n",
      " [0 1 0 0 1 0 0 0 1 0]\n",
      "\n",
      "Testing completed\n",
      "====================================================================================================\n",
      "****************************************************************************************************\n",
      "Decison Tree - Performance Measures\n",
      "****************************************************************************************************\n",
      "Accuracy Score:\t 0.9\n",
      "====================================================================================================\n",
      "Confusion Matric:\n",
      " [[6 0]\n",
      " [1 3]]\n",
      "====================================================================================================\n",
      "Classification Report\n",
      "               precision    recall  f1-score   support\n",
      "\n",
      "           0       0.86      1.00      0.92         6\n",
      "           1       1.00      0.75      0.86         4\n",
      "\n",
      "    accuracy                           0.90        10\n",
      "   macro avg       0.93      0.88      0.89        10\n",
      "weighted avg       0.91      0.90      0.90        10\n",
      "\n",
      "====================================================================================================\n"
     ]
    }
   ],
   "source": [
    "from sklearn.tree import DecisionTreeClassifier\n",
    "dt_clf=DecisionTreeClassifier(criterion='entropy')\n",
    "print('*'*100)\n",
    "print('Decison Tree Model')\n",
    "print('*'*100)\n",
    "print('\\n Training Phase')\n",
    "dt_clf.fit(xtrain,ytrain)\n",
    "print('Hyperparameter:\\n',dt_clf.get_params())\n",
    "print('Training Completed')\n",
    "print('='*100)\n",
    "print('\\n Test Phase')\n",
    "ypred=dt_clf.predict(xtest)\n",
    "print('Predicted class labels for the test samples:\\n',ypred)\n",
    "print()\n",
    "print('Testing completed')\n",
    "print('='*100)\n",
    "#import metrics\n",
    "from sklearn.metrics import accuracy_score\n",
    "from sklearn.metrics import confusion_matrix\n",
    "from sklearn.metrics import classification_report\n",
    "print('*'*100)\n",
    "print('Decison Tree - Performance Measures')\n",
    "print('*'*100)\n",
    "print('Accuracy Score:\\t',accuracy_score(ytest,ypred))\n",
    "print('='*100)\n",
    "print('Confusion Matric:\\n',confusion_matrix(ytest,ypred))\n",
    "print('='*100)\n",
    "print('Classification Report\\n',classification_report(ytest,ypred))\n",
    "print('='*100)\n"
   ]
  },
  {
   "cell_type": "markdown",
   "id": "49d30931",
   "metadata": {},
   "source": [
    "# Build the Decision Tree model with max_depth"
   ]
  },
  {
   "cell_type": "code",
   "execution_count": 18,
   "id": "33868afe",
   "metadata": {},
   "outputs": [
    {
     "name": "stdout",
     "output_type": "stream",
     "text": [
      "3\n"
     ]
    }
   ],
   "source": [
    "from sklearn.tree import DecisionTreeClassifier\n",
    "from sklearn.model_selection import GridSearchCV\n",
    "param_grid={ 'max_depth':[3,4,5,6,7,8,10]}\n",
    "clf=DecisionTreeClassifier(criterion='entropy')\n",
    "grid_search=GridSearchCV(clf,param_grid,cv=5)\n",
    "grid_search.fit(xtrain,ytrain)\n",
    "best_max_depth=grid_search.best_params_['max_depth']\n",
    "print(best_max_depth)"
   ]
  },
  {
   "cell_type": "code",
   "execution_count": 19,
   "id": "2f451dab",
   "metadata": {},
   "outputs": [
    {
     "data": {
      "text/plain": [
       "{'max_depth': 3}"
      ]
     },
     "execution_count": 19,
     "metadata": {},
     "output_type": "execute_result"
    }
   ],
   "source": [
    "grid_search.best_params_\n"
   ]
  },
  {
   "cell_type": "code",
   "execution_count": 20,
   "id": "112dbbc4",
   "metadata": {},
   "outputs": [
    {
     "data": {
      "text/plain": [
       "{'mean_fit_time': array([0.00552588, 0.00413527, 0.00395904, 0.00398259, 0.00421243,\n",
       "        0.00338588, 0.00383325]),\n",
       " 'std_fit_time': array([0.00128809, 0.00041461, 0.00047511, 0.00024146, 0.00077872,\n",
       "        0.00073974, 0.00027823]),\n",
       " 'mean_score_time': array([0.00724854, 0.00608058, 0.00578823, 0.00482574, 0.00541534,\n",
       "        0.00461516, 0.00547686]),\n",
       " 'std_score_time': array([0.00157925, 0.00112212, 0.00040648, 0.0001678 , 0.00040861,\n",
       "        0.00052712, 0.00067503]),\n",
       " 'param_max_depth': masked_array(data=[3, 4, 5, 6, 7, 8, 10],\n",
       "              mask=[False, False, False, False, False, False, False],\n",
       "        fill_value='?',\n",
       "             dtype=object),\n",
       " 'params': [{'max_depth': 3},\n",
       "  {'max_depth': 4},\n",
       "  {'max_depth': 5},\n",
       "  {'max_depth': 6},\n",
       "  {'max_depth': 7},\n",
       "  {'max_depth': 8},\n",
       "  {'max_depth': 10}],\n",
       " 'split0_test_score': array([1., 1., 1., 1., 1., 1., 1.]),\n",
       " 'split1_test_score': array([1., 1., 1., 1., 1., 1., 1.]),\n",
       " 'split2_test_score': array([1., 1., 1., 1., 1., 1., 1.]),\n",
       " 'split3_test_score': array([1., 1., 1., 1., 1., 1., 1.]),\n",
       " 'split4_test_score': array([1., 1., 1., 1., 1., 1., 1.]),\n",
       " 'mean_test_score': array([1., 1., 1., 1., 1., 1., 1.]),\n",
       " 'std_test_score': array([0., 0., 0., 0., 0., 0., 0.]),\n",
       " 'rank_test_score': array([1, 1, 1, 1, 1, 1, 1])}"
      ]
     },
     "execution_count": 20,
     "metadata": {},
     "output_type": "execute_result"
    }
   ],
   "source": [
    "grid_search.cv_results_"
   ]
  },
  {
   "cell_type": "code",
   "execution_count": 21,
   "id": "0d11309b",
   "metadata": {},
   "outputs": [
    {
     "data": {
      "text/html": [
       "<style>#sk-container-id-1 {color: black;}#sk-container-id-1 pre{padding: 0;}#sk-container-id-1 div.sk-toggleable {background-color: white;}#sk-container-id-1 label.sk-toggleable__label {cursor: pointer;display: block;width: 100%;margin-bottom: 0;padding: 0.3em;box-sizing: border-box;text-align: center;}#sk-container-id-1 label.sk-toggleable__label-arrow:before {content: \"▸\";float: left;margin-right: 0.25em;color: #696969;}#sk-container-id-1 label.sk-toggleable__label-arrow:hover:before {color: black;}#sk-container-id-1 div.sk-estimator:hover label.sk-toggleable__label-arrow:before {color: black;}#sk-container-id-1 div.sk-toggleable__content {max-height: 0;max-width: 0;overflow: hidden;text-align: left;background-color: #f0f8ff;}#sk-container-id-1 div.sk-toggleable__content pre {margin: 0.2em;color: black;border-radius: 0.25em;background-color: #f0f8ff;}#sk-container-id-1 input.sk-toggleable__control:checked~div.sk-toggleable__content {max-height: 200px;max-width: 100%;overflow: auto;}#sk-container-id-1 input.sk-toggleable__control:checked~label.sk-toggleable__label-arrow:before {content: \"▾\";}#sk-container-id-1 div.sk-estimator input.sk-toggleable__control:checked~label.sk-toggleable__label {background-color: #d4ebff;}#sk-container-id-1 div.sk-label input.sk-toggleable__control:checked~label.sk-toggleable__label {background-color: #d4ebff;}#sk-container-id-1 input.sk-hidden--visually {border: 0;clip: rect(1px 1px 1px 1px);clip: rect(1px, 1px, 1px, 1px);height: 1px;margin: -1px;overflow: hidden;padding: 0;position: absolute;width: 1px;}#sk-container-id-1 div.sk-estimator {font-family: monospace;background-color: #f0f8ff;border: 1px dotted black;border-radius: 0.25em;box-sizing: border-box;margin-bottom: 0.5em;}#sk-container-id-1 div.sk-estimator:hover {background-color: #d4ebff;}#sk-container-id-1 div.sk-parallel-item::after {content: \"\";width: 100%;border-bottom: 1px solid gray;flex-grow: 1;}#sk-container-id-1 div.sk-label:hover label.sk-toggleable__label {background-color: #d4ebff;}#sk-container-id-1 div.sk-serial::before {content: \"\";position: absolute;border-left: 1px solid gray;box-sizing: border-box;top: 0;bottom: 0;left: 50%;z-index: 0;}#sk-container-id-1 div.sk-serial {display: flex;flex-direction: column;align-items: center;background-color: white;padding-right: 0.2em;padding-left: 0.2em;position: relative;}#sk-container-id-1 div.sk-item {position: relative;z-index: 1;}#sk-container-id-1 div.sk-parallel {display: flex;align-items: stretch;justify-content: center;background-color: white;position: relative;}#sk-container-id-1 div.sk-item::before, #sk-container-id-1 div.sk-parallel-item::before {content: \"\";position: absolute;border-left: 1px solid gray;box-sizing: border-box;top: 0;bottom: 0;left: 50%;z-index: -1;}#sk-container-id-1 div.sk-parallel-item {display: flex;flex-direction: column;z-index: 1;position: relative;background-color: white;}#sk-container-id-1 div.sk-parallel-item:first-child::after {align-self: flex-end;width: 50%;}#sk-container-id-1 div.sk-parallel-item:last-child::after {align-self: flex-start;width: 50%;}#sk-container-id-1 div.sk-parallel-item:only-child::after {width: 0;}#sk-container-id-1 div.sk-dashed-wrapped {border: 1px dashed gray;margin: 0 0.4em 0.5em 0.4em;box-sizing: border-box;padding-bottom: 0.4em;background-color: white;}#sk-container-id-1 div.sk-label label {font-family: monospace;font-weight: bold;display: inline-block;line-height: 1.2em;}#sk-container-id-1 div.sk-label-container {text-align: center;}#sk-container-id-1 div.sk-container {/* jupyter's `normalize.less` sets `[hidden] { display: none; }` but bootstrap.min.css set `[hidden] { display: none !important; }` so we also need the `!important` here to be able to override the default hidden behavior on the sphinx rendered scikit-learn.org. See: https://github.com/scikit-learn/scikit-learn/issues/21755 */display: inline-block !important;position: relative;}#sk-container-id-1 div.sk-text-repr-fallback {display: none;}</style><div id=\"sk-container-id-1\" class=\"sk-top-container\"><div class=\"sk-text-repr-fallback\"><pre>DecisionTreeClassifier(criterion=&#x27;entropy&#x27;, max_depth=3)</pre><b>In a Jupyter environment, please rerun this cell to show the HTML representation or trust the notebook. <br />On GitHub, the HTML representation is unable to render, please try loading this page with nbviewer.org.</b></div><div class=\"sk-container\" hidden><div class=\"sk-item\"><div class=\"sk-estimator sk-toggleable\"><input class=\"sk-toggleable__control sk-hidden--visually\" id=\"sk-estimator-id-1\" type=\"checkbox\" checked><label for=\"sk-estimator-id-1\" class=\"sk-toggleable__label sk-toggleable__label-arrow\">DecisionTreeClassifier</label><div class=\"sk-toggleable__content\"><pre>DecisionTreeClassifier(criterion=&#x27;entropy&#x27;, max_depth=3)</pre></div></div></div></div></div>"
      ],
      "text/plain": [
       "DecisionTreeClassifier(criterion='entropy', max_depth=3)"
      ]
     },
     "execution_count": 21,
     "metadata": {},
     "output_type": "execute_result"
    }
   ],
   "source": [
    "grid_search.best_estimator_\n"
   ]
  },
  {
   "cell_type": "code",
   "execution_count": 22,
   "id": "30e6880a",
   "metadata": {},
   "outputs": [
    {
     "data": {
      "text/plain": [
       "0"
      ]
     },
     "execution_count": 22,
     "metadata": {},
     "output_type": "execute_result"
    }
   ],
   "source": [
    "grid_search.best_index_"
   ]
  },
  {
   "cell_type": "code",
   "execution_count": 23,
   "id": "594320aa",
   "metadata": {},
   "outputs": [
    {
     "data": {
      "text/plain": [
       "array([0, 1], dtype=int64)"
      ]
     },
     "execution_count": 23,
     "metadata": {},
     "output_type": "execute_result"
    }
   ],
   "source": [
    "grid_search.classes_"
   ]
  },
  {
   "cell_type": "code",
   "execution_count": 24,
   "id": "d4e1fe89",
   "metadata": {},
   "outputs": [
    {
     "data": {
      "text/plain": [
       "5"
      ]
     },
     "execution_count": 24,
     "metadata": {},
     "output_type": "execute_result"
    }
   ],
   "source": [
    "grid_search.cv"
   ]
  },
  {
   "cell_type": "code",
   "execution_count": 25,
   "id": "d6d491dc",
   "metadata": {},
   "outputs": [
    {
     "data": {
      "text/plain": [
       "array(['CustomerID', ' Age', ' Income', ' ShoppingBehaviour',\n",
       "       ' PurchaseAmount'], dtype=object)"
      ]
     },
     "execution_count": 25,
     "metadata": {},
     "output_type": "execute_result"
    }
   ],
   "source": [
    "grid_search.feature_names_in_"
   ]
  },
  {
   "cell_type": "code",
   "execution_count": 26,
   "id": "f9cd058b",
   "metadata": {},
   "outputs": [
    {
     "data": {
      "text/plain": [
       "5"
      ]
     },
     "execution_count": 26,
     "metadata": {},
     "output_type": "execute_result"
    }
   ],
   "source": [
    "grid_search.n_splits_"
   ]
  },
  {
   "cell_type": "code",
   "execution_count": 27,
   "id": "6c966172",
   "metadata": {},
   "outputs": [
    {
     "data": {
      "text/plain": [
       "{'ccp_alpha': 0.0,\n",
       " 'class_weight': None,\n",
       " 'criterion': 'entropy',\n",
       " 'max_depth': None,\n",
       " 'max_features': None,\n",
       " 'max_leaf_nodes': None,\n",
       " 'min_impurity_decrease': 0.0,\n",
       " 'min_samples_leaf': 1,\n",
       " 'min_samples_split': 2,\n",
       " 'min_weight_fraction_leaf': 0.0,\n",
       " 'random_state': None,\n",
       " 'splitter': 'best'}"
      ]
     },
     "execution_count": 27,
     "metadata": {},
     "output_type": "execute_result"
    }
   ],
   "source": [
    "clf.get_params()"
   ]
  },
  {
   "cell_type": "code",
   "execution_count": 28,
   "id": "81965a7f",
   "metadata": {},
   "outputs": [
    {
     "name": "stdout",
     "output_type": "stream",
     "text": [
      "Age: 1.0000\n",
      "CustomerID: 0.0000\n",
      "Income: 0.0000\n",
      "ShoppingBehaviour: 0.0000\n",
      "PurchaseAmount: 0.0000\n"
     ]
    }
   ],
   "source": [
    "# Assuming you have a trained decision tree classifier named 'dt_clf'\n",
    "feature_importance = dt_clf.feature_importances_\n",
    "\n",
    "# Now you can associate the feature importances with feature names\n",
    "feature_names = ['CustomerID', 'Age', 'Income', 'ShoppingBehaviour', 'PurchaseAmount']\n",
    "feature_importance_dict = dict(zip(feature_names, feature_importance))\n",
    "sorted_feature_importance = sorted(feature_importance_dict.items(), key=lambda x: x[1], reverse=True)\n",
    "\n",
    "# Print the most important features\n",
    "for feature, importance in sorted_feature_importance:\n",
    "    print(f'{feature}: {importance:.4f}')\n"
   ]
  },
  {
   "cell_type": "code",
   "execution_count": 29,
   "id": "084f8348",
   "metadata": {},
   "outputs": [
    {
     "name": "stdout",
     "output_type": "stream",
     "text": [
      "Age: 1.0000\n",
      "CustomerID: 0.0000\n",
      "Income: 0.0000\n",
      "ShoppingBehaviour: 0.0000\n",
      "PurchaseAmount: 0.0000\n"
     ]
    }
   ],
   "source": [
    "# Assuming you have a trained decision tree regressor named 'dt_reg'\n",
    "feature_importance = dt_reg.feature_importances_\n",
    "\n",
    "# Now you can associate the feature importances with feature names\n",
    "feature_names = ['CustomerID', 'Age', 'Income', 'ShoppingBehaviour', 'PurchaseAmount']\n",
    "feature_importance_dict = dict(zip(feature_names, feature_importance))\n",
    "sorted_feature_importance = sorted(feature_importance_dict.items(), key=lambda x: x[1], reverse=True)\n",
    "\n",
    "# Print the most important features\n",
    "for feature, importance in sorted_feature_importance:\n",
    "    print(f'{feature}: {importance:.4f}')\n"
   ]
  },
  {
   "cell_type": "markdown",
   "id": "0c75c334",
   "metadata": {},
   "source": [
    "--->Overfitting in the context of decision trees occurs when a tree is too complex and captures noise or random variations in the training data, rather than the true underlying patterns. In other words, an overfit tree is tailored too closely to the training data and fails to generalize well to new, unseen data. The key characteristics of an overfit decision tree are:\n",
    "\n",
    "It may have many levels of depth, resulting in a complex and deep tree.\n",
    "It may create decision nodes that split the data based on very specific and noisy features.\n",
    "It captures outliers or noise in the training data.\n",
    "It exhibits high variance, which means it's sensitive to small changes in the training data.\n",
    "\n",
    "--->To reduce overfitting in decision trees, several techniques and hyperparameters can be used:\n",
    "\n",
    "Pruning: Pruning involves removing branches from the tree that do not provide significant improvements in predictive accuracy. Pruning reduces the tree's complexity and helps it generalize better to new data.\n",
    "\n",
    "Minimum Samples per Leaf (min_samples_leaf): This hyperparameter sets the minimum number of samples required in a leaf node. Setting a higher value encourages the tree to create smaller leaf nodes, which reduces overfitting.\n",
    "\n",
    "Maximum Depth (max_depth): Limiting the maximum depth of the tree restricts the complexity of the tree. This prevents it from becoming too deep and capturing noise in the training data.\n",
    "\n",
    "Minimum Samples per Split (min_samples_split): This hyperparameter sets the minimum number of samples required to split an internal node. Increasing this value discourages the creation of small, noisy splits.\n",
    "\n",
    "Maximum Features (max_features): Limiting the number of features considered for each split can help prevent overfitting.\n",
    "\n",
    "Cross-Validation: Use cross-validation to estimate the model's performance on unseen data. Cross-validation helps identify the optimal tree complexity and hyperparameter settings that minimize overfitting."
   ]
  },
  {
   "cell_type": "code",
   "execution_count": 31,
   "id": "938088ad",
   "metadata": {},
   "outputs": [
    {
     "name": "stdout",
     "output_type": "stream",
     "text": [
      "****************************************************************************************************\n",
      "Decison Tree Pruned classifier\n",
      "****************************************************************************************************\n",
      "\n",
      " Training Phase\n",
      "Hyperparameter:\n",
      " {'ccp_alpha': 0.0, 'class_weight': None, 'criterion': 'gini', 'max_depth': 5, 'max_features': None, 'max_leaf_nodes': None, 'min_impurity_decrease': 0.0, 'min_samples_leaf': 1, 'min_samples_split': 2, 'min_weight_fraction_leaf': 0.0, 'random_state': 42, 'splitter': 'best'}\n",
      "Training Completed\n",
      "====================================================================================================\n",
      "\n",
      " Test Phase\n",
      "Predicted class labels for the test samples:\n",
      " [0 1 0 0 1 0 0 0 1 0]\n",
      "\n",
      "Testing completed\n",
      "====================================================================================================\n",
      "****************************************************************************************************\n",
      "Decison Tree - Performance Measures\n",
      "****************************************************************************************************\n",
      "Accuracy Score:\t 0.9\n",
      "====================================================================================================\n",
      "Confusion Matric:\n",
      " [[6 0]\n",
      " [1 3]]\n",
      "====================================================================================================\n",
      "Classification Report\n",
      "               precision    recall  f1-score   support\n",
      "\n",
      "           0       0.86      1.00      0.92         6\n",
      "           1       1.00      0.75      0.86         4\n",
      "\n",
      "    accuracy                           0.90        10\n",
      "   macro avg       0.93      0.88      0.89        10\n",
      "weighted avg       0.91      0.90      0.90        10\n",
      "\n",
      "====================================================================================================\n"
     ]
    }
   ],
   "source": [
    "from sklearn.tree import DecisionTreeClassifier\n",
    "pru_dt_clf=DecisionTreeClassifier(random_state=42,max_depth=5)\n",
    "print('*'*100)\n",
    "print('Decison Tree Pruned classifier')\n",
    "print('*'*100)\n",
    "print('\\n Training Phase')\n",
    "pru_dt_clf.fit(xtrain,ytrain)\n",
    "print('Hyperparameter:\\n',pru_dt_clf.get_params())\n",
    "print('Training Completed')\n",
    "print('='*100)\n",
    "print('\\n Test Phase')\n",
    "ypred=pru_dt_clf.predict(xtest)\n",
    "print('Predicted class labels for the test samples:\\n',ypred)\n",
    "print()\n",
    "print('Testing completed')\n",
    "print('='*100)\n",
    "#import metrics\n",
    "from sklearn.metrics import accuracy_score\n",
    "from sklearn.metrics import confusion_matrix\n",
    "from sklearn.metrics import classification_report\n",
    "print('*'*100)\n",
    "print('Decison Tree - Performance Measures')\n",
    "print('*'*100)\n",
    "print('Accuracy Score:\\t',accuracy_score(ytest,ypred))\n",
    "print('='*100)\n",
    "print('Confusion Matric:\\n',confusion_matrix(ytest,ypred))\n",
    "print('='*100)\n",
    "print('Classification Report\\n',classification_report(ytest,ypred))\n",
    "print('='*100)"
   ]
  },
  {
   "cell_type": "code",
   "execution_count": 32,
   "id": "415743e0",
   "metadata": {},
   "outputs": [
    {
     "name": "stdout",
     "output_type": "stream",
     "text": [
      "Mean Squared Error (MSE): 0.10\n",
      "R-squared (R^2): 0.58\n"
     ]
    }
   ],
   "source": [
    "from sklearn.model_selection import train_test_split\n",
    "from sklearn.tree import DecisionTreeRegressor\n",
    "from sklearn.metrics import mean_squared_error, r2_score\n",
    "pru_dt_reg= DecisionTreeRegressor(random_state=42,max_depth=5)\n",
    "pru_dt_reg.fit(xtrain, ytrain)\n",
    "\n",
    "# Make predictions on the test set\n",
    "y_pred = pru_dt_reg.predict(xtest)\n",
    "\n",
    "# Evaluate the model's performance\n",
    "mse = mean_squared_error(ytest, y_pred)\n",
    "r2 = r2_score(ytest, y_pred)\n",
    "\n",
    "print(f'Mean Squared Error (MSE): {mse:.2f}')\n",
    "print(f'R-squared (R^2): {r2:.2f}')"
   ]
  },
  {
   "cell_type": "markdown",
   "id": "08c7ec9f",
   "metadata": {},
   "source": [
    "Practical Applications of Customer Satisfaction Prediction and Sales Forecasting in the Retail Industry:\n",
    "\n",
    "Customer Satisfaction Prediction:\n",
    "\n",
    "Customer Retention: Identifying dissatisfied customers allows retailers to address their concerns and improve satisfaction, reducing churn.\n",
    "Product and Service Improvement: Feedback from customer satisfaction prediction can guide product development and service enhancements.\n",
    "Personalization: Tailoring marketing and offers to individual preferences boosts customer loyalty and sales.\n",
    "Sales Forecasting:\n",
    "\n",
    "Inventory Management: Accurate sales forecasts optimize inventory levels, preventing overstock or stockouts.\n",
    "Staffing and Resource Allocation: Forecasting helps retailers schedule staff and allocate resources efficiently.\n",
    "Promotion Planning: Anticipating sales trends informs strategic pricing and promotional campaigns for maximum impact."
   ]
  },
  {
   "cell_type": "markdown",
   "id": "760079a5",
   "metadata": {},
   "source": [
    "The potential benefits of using predictive models in retail business operations and decision-making include:\n",
    "\n",
    "Demand Forecasting: Predictive models help optimize inventory management, reducing carrying costs and minimizing stockouts, ultimately increasing profitability.\n",
    "\n",
    "Customer Segmentation: Targeted marketing and personalized recommendations enhance customer satisfaction and loyalty, driving sales.\n",
    "\n",
    "Price Optimization: Models inform pricing strategies to maximize revenue and profits while remaining competitive.\n",
    "\n",
    "Inventory Optimization: Minimizing excess stock reduces waste, improves cash flow, and ensures products are readily available when customers demand them.\n",
    "\n",
    "Fraud Detection: Predictive models identify fraudulent activities and protect the retail business from financial losses.\n",
    "\n",
    "Optimized Supply Chain: Streamlined supply chain operations lead to cost reductions and efficient product delivery.\n",
    "\n",
    "Employee Productivity: Predictive analytics improve staff scheduling, leading to enhanced operational efficiency and customer service.\n",
    "\n",
    "Market Basket Analysis: Understanding customer purchase patterns allows for effective cross-selling and upselling.\n",
    "\n",
    "Risk Management: Predictive models can help manage financial risks and optimize credit decisions.\n",
    "\n",
    "Competitive Advantage: Utilizing data-driven insights provides a competitive edge in a rapidly evolving industry."
   ]
  },
  {
   "cell_type": "markdown",
   "id": "131911da",
   "metadata": {},
   "source": [
    "we can compare two models by checking these:\n",
    "Decision Tree Classification Model Evaluation:\n",
    "Accuracy,Precision, Recall,F1-Score,Confusion Matrix\n",
    "\n",
    "Decision Tree Regression Model Evaluation:\n",
    "Mean Absolute Error (MAE),Mean Squared Error (MSE),R-squared (R^2)"
   ]
  },
  {
   "cell_type": "markdown",
   "id": "7f89373e",
   "metadata": {},
   "source": [
    "-->Advantages:\n",
    "\n",
    "Interpretability: Decision trees are highly interpretable, making them suitable for explaining decision logic to non-technical stakeholders.\n",
    "\n",
    "Feature Importance: Decision trees can identify the most important features, aiding in feature selection and understanding data.\n",
    "\n",
    "Non-Parametric: They don't make strong assumptions about data distribution and can handle both categorical and numerical features.\n",
    "\n",
    "-->Limitations:\n",
    "\n",
    "Overfitting: Decision trees are prone to overfitting, especially when not properly pruned, leading to poor generalization.\n",
    "\n",
    "Instability: Small changes in data can result in different tree structures, making them less robust.\n",
    "\n",
    "Limited Expressiveness: Decision trees may struggle to capture complex relationships in data compared to more advanced models.\n",
    "\n",
    "-->Trade-offs by Task:\n",
    "\n",
    "Classification:\n",
    "\n",
    "Advantage: Decision trees are useful for interpretable binary or multi-class classification tasks with relatively simple decision boundaries.\n",
    "Trade-off: They may underperform in highly imbalanced datasets and tasks with complex decision boundaries.\n",
    "Regression:\n",
    "\n",
    "Advantage: Decision trees are effective for regression tasks when relationships between features and the target variable are non-linear.\n",
    "Trade-off: They may struggle with extrapolation beyond the training data range and require careful handling of outliers.\n",
    "Anomaly Detection:\n",
    "\n",
    "Advantage: Decision trees can be used for anomaly detection by identifying unusual data points based on decision paths.\n",
    "Trade-off: They may not be the best choice for tasks with rare and subtle anomalies.\n",
    "Feature Selection:\n",
    "\n",
    "Advantage: Decision trees can help identify important features for subsequent modeling.\n",
    "Trade-off: They may not be the most efficient method for high-dimensional datasets.\n",
    "Time Series Forecasting:\n",
    "\n",
    "Advantage: Decision trees can handle time series data with periodic patterns.\n",
    "Trade-off: They may not capture long-term dependencies as well as specialized time series models.\n"
   ]
  },
  {
   "cell_type": "code",
   "execution_count": null,
   "id": "ac31ab47",
   "metadata": {},
   "outputs": [],
   "source": []
  }
 ],
 "metadata": {
  "kernelspec": {
   "display_name": "Python 3 (ipykernel)",
   "language": "python",
   "name": "python3"
  },
  "language_info": {
   "codemirror_mode": {
    "name": "ipython",
    "version": 3
   },
   "file_extension": ".py",
   "mimetype": "text/x-python",
   "name": "python",
   "nbconvert_exporter": "python",
   "pygments_lexer": "ipython3",
   "version": "3.11.4"
  }
 },
 "nbformat": 4,
 "nbformat_minor": 5
}
