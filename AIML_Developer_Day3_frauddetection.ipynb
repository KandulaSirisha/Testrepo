{
 "cells": [
  {
   "cell_type": "markdown",
   "id": "9af7d6b2",
   "metadata": {},
   "source": [
    "# Fraud Detection with Logistic Regression and Feature Engineering\n",
    "\n",
    "You are a data scientist at a financial institution, and your primary task is to develop a fraud detection model using logistic regression. The dataset you have is highly imbalanced, with only a small fraction of transactions being fraudulent. Your objective is to create an effective model by implementing logistic regression and employing various feature engineering techniques to improve the model's performance:\n",
    "\n",
    "Data Preparation:\n",
    "a. Load the dataset, and provide an overview of the available features, including transaction details, customer information, and labels (fraudulent or non-fraudulent).\n",
    "\n",
    "b. Describe the class distribution of fraudulent and non-fraudulent transactions and discuss the imbalance issue.\n",
    "\n",
    "Initial Logistic Regression Model:\n",
    "a. Implement a basic logistic regression model using the raw dataset.\n",
    "\n",
    "b. Evaluate the model's performance using standard metrics like accuracy, precision, recall, and F1-score\n",
    "\n",
    "Feature Engineering:\n",
    "a. Apply feature engineering techniques to enhance the predictive power of the model. These techniques may include:\n",
    "\n",
    "-Creating new features.\n",
    "\n",
    "-Scaling or normalizing features.\n",
    "\n",
    "-Handling missing values.\n",
    "\n",
    "-Encoding categorical variables.\n",
    "\n",
    "b. Explain why each feature engineering technique is relevant for fraud detection.\n",
    "\n",
    "Handling Imbalanced Data:\n",
    "a. Discuss the challenges associated with imbalanced datasets in the context of fraud detection.\n",
    "\n",
    "b. Implement strategies to address class imbalance, such as:\n",
    "\n",
    "Oversampling the minority class.\n",
    "-Undersampling the majority class.\n",
    "\n",
    "-Using synthetic data generation techniques (e.g., SMOTE).\n",
    "\n",
    "Logistic Regression with Feature-Engineered Data:\n",
    "a. Train a logistic regression model using the feature-engineered dataset and the methods for handling imbalanced data. I\n",
    "\n",
    "b. Evaluate the model's performance using appropriate evaluation metrics.\n",
    "\n",
    "Model Interpretation:\n",
    "a. Interpret the coefficients of the logistic regression model and discuss which features have the most influence on fraud detection.\n",
    "\n",
    "b. Explain how the logistic regression model can be used for decision-making in identifying potential fraud.\n",
    "\n",
    "Model Comparison:\n",
    "a. Compare the performance of the initial logistic regression model with the feature-engineered and balanced data model.\n",
    "\n",
    "b. Discuss the advantages and limitations of each approach.\n",
    "\n",
    "Presentation and Recommendations:\n",
    "a. Prepare a presentation or report summarizing your analysis, results, and recommendations for the financial institution. Highlight the importance of feature engineering and handling imbalanced data in building an effective fraud detection system.\n",
    "\n",
    "In this case study, you are required to showcase your ability to preprocess data, implement logistic regression, apply feature engineering techniques, and address class imbalance to improve the model's performance. Your analysis should also demonstrate your understanding of the nuances of fraud detection in a financial context."
   ]
  },
  {
   "cell_type": "code",
   "execution_count": 1,
   "id": "1ef06d61",
   "metadata": {},
   "outputs": [],
   "source": [
    "import numpy as np\n",
    "import pandas as pd\n",
    "import matplotlib.pyplot as plt\n",
    "import seaborn as sns\n",
    "\n",
    "from sklearn.model_selection import train_test_split\n",
    "from sklearn.linear_model import LogisticRegression"
   ]
  },
  {
   "cell_type": "code",
   "execution_count": 2,
   "id": "10c49800",
   "metadata": {},
   "outputs": [
    {
     "data": {
      "text/html": [
       "<div>\n",
       "<style scoped>\n",
       "    .dataframe tbody tr th:only-of-type {\n",
       "        vertical-align: middle;\n",
       "    }\n",
       "\n",
       "    .dataframe tbody tr th {\n",
       "        vertical-align: top;\n",
       "    }\n",
       "\n",
       "    .dataframe thead th {\n",
       "        text-align: right;\n",
       "    }\n",
       "</style>\n",
       "<table border=\"1\" class=\"dataframe\">\n",
       "  <thead>\n",
       "    <tr style=\"text-align: right;\">\n",
       "      <th></th>\n",
       "      <th>TransactionID</th>\n",
       "      <th>Amount</th>\n",
       "      <th>Time</th>\n",
       "      <th>Type</th>\n",
       "      <th>Location</th>\n",
       "      <th>CardHolder</th>\n",
       "      <th>IsFraud</th>\n",
       "    </tr>\n",
       "  </thead>\n",
       "  <tbody>\n",
       "    <tr>\n",
       "      <th>0</th>\n",
       "      <td>1</td>\n",
       "      <td>120.75</td>\n",
       "      <td>1</td>\n",
       "      <td>Debit</td>\n",
       "      <td>Local</td>\n",
       "      <td>John Doe</td>\n",
       "      <td>0.0</td>\n",
       "    </tr>\n",
       "    <tr>\n",
       "      <th>1</th>\n",
       "      <td>2</td>\n",
       "      <td>50.00</td>\n",
       "      <td>2</td>\n",
       "      <td>Credit</td>\n",
       "      <td>International</td>\n",
       "      <td>Jane Smith</td>\n",
       "      <td>0.0</td>\n",
       "    </tr>\n",
       "    <tr>\n",
       "      <th>2</th>\n",
       "      <td>3</td>\n",
       "      <td>200.00</td>\n",
       "      <td>3</td>\n",
       "      <td>Debit</td>\n",
       "      <td>Local</td>\n",
       "      <td>Bob Johnson</td>\n",
       "      <td>0.0</td>\n",
       "    </tr>\n",
       "    <tr>\n",
       "      <th>3</th>\n",
       "      <td>4</td>\n",
       "      <td>30.25</td>\n",
       "      <td>4</td>\n",
       "      <td>Debit</td>\n",
       "      <td>Local</td>\n",
       "      <td>Alice Williams</td>\n",
       "      <td>0.0</td>\n",
       "    </tr>\n",
       "    <tr>\n",
       "      <th>4</th>\n",
       "      <td>5</td>\n",
       "      <td>500.50</td>\n",
       "      <td>5</td>\n",
       "      <td>Credit</td>\n",
       "      <td>International</td>\n",
       "      <td>Charlie Brown</td>\n",
       "      <td>1.0</td>\n",
       "    </tr>\n",
       "  </tbody>\n",
       "</table>\n",
       "</div>"
      ],
      "text/plain": [
       "   TransactionID  Amount  Time    Type       Location      CardHolder  IsFraud\n",
       "0              1  120.75     1   Debit          Local        John Doe      0.0\n",
       "1              2   50.00     2  Credit  International      Jane Smith      0.0\n",
       "2              3  200.00     3   Debit          Local     Bob Johnson      0.0\n",
       "3              4   30.25     4   Debit          Local  Alice Williams      0.0\n",
       "4              5  500.50     5  Credit  International   Charlie Brown      1.0"
      ]
     },
     "execution_count": 2,
     "metadata": {},
     "output_type": "execute_result"
    }
   ],
   "source": [
    "#Load the dataset\n",
    "data=pd.read_csv(\"fraud.csv\")\n",
    "data.head()"
   ]
  },
  {
   "cell_type": "code",
   "execution_count": 3,
   "id": "fc90d4ca",
   "metadata": {},
   "outputs": [
    {
     "name": "stdout",
     "output_type": "stream",
     "text": [
      "<class 'pandas.core.frame.DataFrame'>\n",
      "RangeIndex: 105 entries, 0 to 104\n",
      "Data columns (total 7 columns):\n",
      " #   Column         Non-Null Count  Dtype  \n",
      "---  ------         --------------  -----  \n",
      " 0   TransactionID  105 non-null    int64  \n",
      " 1   Amount         105 non-null    float64\n",
      " 2   Time           105 non-null    int64  \n",
      " 3   Type           105 non-null    object \n",
      " 4   Location       105 non-null    object \n",
      " 5   CardHolder     105 non-null    object \n",
      " 6   IsFraud        104 non-null    float64\n",
      "dtypes: float64(2), int64(2), object(3)\n",
      "memory usage: 5.9+ KB\n"
     ]
    }
   ],
   "source": [
    "data.info()"
   ]
  },
  {
   "cell_type": "code",
   "execution_count": 4,
   "id": "cb08c9cb",
   "metadata": {},
   "outputs": [
    {
     "data": {
      "text/html": [
       "<div>\n",
       "<style scoped>\n",
       "    .dataframe tbody tr th:only-of-type {\n",
       "        vertical-align: middle;\n",
       "    }\n",
       "\n",
       "    .dataframe tbody tr th {\n",
       "        vertical-align: top;\n",
       "    }\n",
       "\n",
       "    .dataframe thead th {\n",
       "        text-align: right;\n",
       "    }\n",
       "</style>\n",
       "<table border=\"1\" class=\"dataframe\">\n",
       "  <thead>\n",
       "    <tr style=\"text-align: right;\">\n",
       "      <th></th>\n",
       "      <th>count</th>\n",
       "      <th>mean</th>\n",
       "      <th>std</th>\n",
       "      <th>min</th>\n",
       "      <th>25%</th>\n",
       "      <th>50%</th>\n",
       "      <th>75%</th>\n",
       "      <th>max</th>\n",
       "    </tr>\n",
       "  </thead>\n",
       "  <tbody>\n",
       "    <tr>\n",
       "      <th>TransactionID</th>\n",
       "      <td>105.0</td>\n",
       "      <td>53.000000</td>\n",
       "      <td>30.454885</td>\n",
       "      <td>1.00</td>\n",
       "      <td>27.0</td>\n",
       "      <td>53.00</td>\n",
       "      <td>79.0</td>\n",
       "      <td>105.0</td>\n",
       "    </tr>\n",
       "    <tr>\n",
       "      <th>Amount</th>\n",
       "      <td>105.0</td>\n",
       "      <td>156.766667</td>\n",
       "      <td>133.783326</td>\n",
       "      <td>25.75</td>\n",
       "      <td>55.2</td>\n",
       "      <td>120.75</td>\n",
       "      <td>200.0</td>\n",
       "      <td>500.5</td>\n",
       "    </tr>\n",
       "    <tr>\n",
       "      <th>Time</th>\n",
       "      <td>105.0</td>\n",
       "      <td>53.000000</td>\n",
       "      <td>30.454885</td>\n",
       "      <td>1.00</td>\n",
       "      <td>27.0</td>\n",
       "      <td>53.00</td>\n",
       "      <td>79.0</td>\n",
       "      <td>105.0</td>\n",
       "    </tr>\n",
       "    <tr>\n",
       "      <th>IsFraud</th>\n",
       "      <td>104.0</td>\n",
       "      <td>0.144231</td>\n",
       "      <td>0.353025</td>\n",
       "      <td>0.00</td>\n",
       "      <td>0.0</td>\n",
       "      <td>0.00</td>\n",
       "      <td>0.0</td>\n",
       "      <td>1.0</td>\n",
       "    </tr>\n",
       "  </tbody>\n",
       "</table>\n",
       "</div>"
      ],
      "text/plain": [
       "               count        mean         std    min   25%     50%    75%  \\\n",
       "TransactionID  105.0   53.000000   30.454885   1.00  27.0   53.00   79.0   \n",
       "Amount         105.0  156.766667  133.783326  25.75  55.2  120.75  200.0   \n",
       "Time           105.0   53.000000   30.454885   1.00  27.0   53.00   79.0   \n",
       "IsFraud        104.0    0.144231    0.353025   0.00   0.0    0.00    0.0   \n",
       "\n",
       "                 max  \n",
       "TransactionID  105.0  \n",
       "Amount         500.5  \n",
       "Time           105.0  \n",
       "IsFraud          1.0  "
      ]
     },
     "execution_count": 4,
     "metadata": {},
     "output_type": "execute_result"
    }
   ],
   "source": [
    "#b.Describe the class distribution of fraudulent and non-fraudulent transactions and discuss the imbalance issue.\n",
    "data.describe().T"
   ]
  },
  {
   "cell_type": "code",
   "execution_count": 5,
   "id": "2377d22f",
   "metadata": {},
   "outputs": [
    {
     "data": {
      "text/plain": [
       "TransactionID    0\n",
       "Amount           0\n",
       "Time             0\n",
       "Type             0\n",
       "Location         0\n",
       "CardHolder       0\n",
       "IsFraud          1\n",
       "dtype: int64"
      ]
     },
     "execution_count": 5,
     "metadata": {},
     "output_type": "execute_result"
    }
   ],
   "source": [
    "data.isna().sum()"
   ]
  },
  {
   "cell_type": "code",
   "execution_count": 6,
   "id": "77cb55d0",
   "metadata": {},
   "outputs": [
    {
     "data": {
      "text/plain": [
       "TransactionID    0\n",
       "Amount           0\n",
       "Time             0\n",
       "Type             0\n",
       "Location         0\n",
       "CardHolder       0\n",
       "IsFraud          0\n",
       "dtype: int64"
      ]
     },
     "execution_count": 6,
     "metadata": {},
     "output_type": "execute_result"
    }
   ],
   "source": [
    "data= data.fillna(method=\"bfill\")\n",
    "data.isna().sum()"
   ]
  },
  {
   "cell_type": "code",
   "execution_count": 9,
   "id": "aac46119",
   "metadata": {},
   "outputs": [
    {
     "data": {
      "text/html": [
       "<div>\n",
       "<style scoped>\n",
       "    .dataframe tbody tr th:only-of-type {\n",
       "        vertical-align: middle;\n",
       "    }\n",
       "\n",
       "    .dataframe tbody tr th {\n",
       "        vertical-align: top;\n",
       "    }\n",
       "\n",
       "    .dataframe thead th {\n",
       "        text-align: right;\n",
       "    }\n",
       "</style>\n",
       "<table border=\"1\" class=\"dataframe\">\n",
       "  <thead>\n",
       "    <tr style=\"text-align: right;\">\n",
       "      <th></th>\n",
       "      <th>TransactionID</th>\n",
       "      <th>Amount</th>\n",
       "      <th>Time</th>\n",
       "    </tr>\n",
       "  </thead>\n",
       "  <tbody>\n",
       "    <tr>\n",
       "      <th>0</th>\n",
       "      <td>1</td>\n",
       "      <td>120.75</td>\n",
       "      <td>1</td>\n",
       "    </tr>\n",
       "    <tr>\n",
       "      <th>1</th>\n",
       "      <td>2</td>\n",
       "      <td>50.00</td>\n",
       "      <td>2</td>\n",
       "    </tr>\n",
       "    <tr>\n",
       "      <th>2</th>\n",
       "      <td>3</td>\n",
       "      <td>200.00</td>\n",
       "      <td>3</td>\n",
       "    </tr>\n",
       "    <tr>\n",
       "      <th>3</th>\n",
       "      <td>4</td>\n",
       "      <td>30.25</td>\n",
       "      <td>4</td>\n",
       "    </tr>\n",
       "    <tr>\n",
       "      <th>4</th>\n",
       "      <td>5</td>\n",
       "      <td>500.50</td>\n",
       "      <td>5</td>\n",
       "    </tr>\n",
       "  </tbody>\n",
       "</table>\n",
       "</div>"
      ],
      "text/plain": [
       "   TransactionID  Amount  Time\n",
       "0              1  120.75     1\n",
       "1              2   50.00     2\n",
       "2              3  200.00     3\n",
       "3              4   30.25     4\n",
       "4              5  500.50     5"
      ]
     },
     "execution_count": 9,
     "metadata": {},
     "output_type": "execute_result"
    }
   ],
   "source": [
    "x = data.iloc[:,:3]\n",
    "x.head()"
   ]
  },
  {
   "cell_type": "code",
   "execution_count": 12,
   "id": "b0d5677b",
   "metadata": {},
   "outputs": [
    {
     "data": {
      "text/html": [
       "<div>\n",
       "<style scoped>\n",
       "    .dataframe tbody tr th:only-of-type {\n",
       "        vertical-align: middle;\n",
       "    }\n",
       "\n",
       "    .dataframe tbody tr th {\n",
       "        vertical-align: top;\n",
       "    }\n",
       "\n",
       "    .dataframe thead th {\n",
       "        text-align: right;\n",
       "    }\n",
       "</style>\n",
       "<table border=\"1\" class=\"dataframe\">\n",
       "  <thead>\n",
       "    <tr style=\"text-align: right;\">\n",
       "      <th></th>\n",
       "      <th>IsFraud</th>\n",
       "    </tr>\n",
       "  </thead>\n",
       "  <tbody>\n",
       "    <tr>\n",
       "      <th>0</th>\n",
       "      <td>0.0</td>\n",
       "    </tr>\n",
       "    <tr>\n",
       "      <th>1</th>\n",
       "      <td>0.0</td>\n",
       "    </tr>\n",
       "    <tr>\n",
       "      <th>2</th>\n",
       "      <td>0.0</td>\n",
       "    </tr>\n",
       "    <tr>\n",
       "      <th>3</th>\n",
       "      <td>0.0</td>\n",
       "    </tr>\n",
       "    <tr>\n",
       "      <th>4</th>\n",
       "      <td>1.0</td>\n",
       "    </tr>\n",
       "  </tbody>\n",
       "</table>\n",
       "</div>"
      ],
      "text/plain": [
       "   IsFraud\n",
       "0      0.0\n",
       "1      0.0\n",
       "2      0.0\n",
       "3      0.0\n",
       "4      1.0"
      ]
     },
     "execution_count": 12,
     "metadata": {},
     "output_type": "execute_result"
    }
   ],
   "source": [
    "y = data.iloc[:,-1:]\n",
    "y.head()"
   ]
  },
  {
   "cell_type": "markdown",
   "id": "e0dbb061",
   "metadata": {},
   "source": [
    "# Split the data for Training and Testing"
   ]
  },
  {
   "cell_type": "code",
   "execution_count": 13,
   "id": "f2c32595",
   "metadata": {},
   "outputs": [
    {
     "name": "stdout",
     "output_type": "stream",
     "text": [
      "******************Training Data shape***************\n",
      "\n",
      "Training data-x-Shape:\t (84, 3)\n",
      "\n",
      "Training data-y-Shape:\t (84, 1)\n",
      "\n",
      "******************Testing Data shape*****************\n",
      "\n",
      "Testing data(x-Input) shape:\t (21, 3)\n",
      "\n",
      "Testing data(y-outcome)shape:\t (21, 1)\n"
     ]
    }
   ],
   "source": [
    "xtrain,xtest,ytrain,ytest=train_test_split(x,y,test_size=0.2)\n",
    "print('******************Training Data shape***************\\n')\n",
    "print('Training data-x-Shape:\\t',xtrain.shape)\n",
    "print()\n",
    "print('Training data-y-Shape:\\t',ytrain.shape)\n",
    "print()\n",
    "print('******************Testing Data shape*****************\\n')\n",
    "print('Testing data(x-Input) shape:\\t',xtest.shape)\n",
    "print()\n",
    "print('Testing data(y-outcome)shape:\\t',ytest.shape)"
   ]
  },
  {
   "cell_type": "markdown",
   "id": "44095767",
   "metadata": {},
   "source": [
    "# Model Development with Logistic Regression Algorithm"
   ]
  },
  {
   "cell_type": "code",
   "execution_count": 14,
   "id": "51abfdf4",
   "metadata": {},
   "outputs": [
    {
     "name": "stdout",
     "output_type": "stream",
     "text": [
      "********************Logistic Regression**********************\n",
      "Training Started.......\n",
      "\n",
      "\n",
      "[LibLinear]Training completed.....\n",
      "\n",
      "Testing invoked......\n",
      "\n",
      "Predicted Class Labels are: \n",
      " [0. 0. 0. 0. 0. 0. 0. 0. 0. 0. 0. 0. 0. 1. 0. 0. 0. 0. 0. 0. 0.]\n",
      "\n",
      "Testing is also completed....\n",
      "\n",
      "Testing samples are:\t 21\n"
     ]
    },
    {
     "name": "stderr",
     "output_type": "stream",
     "text": [
      "C:\\Users\\SIRISHA\\anaconda3\\Lib\\site-packages\\sklearn\\utils\\validation.py:1183: DataConversionWarning: A column-vector y was passed when a 1d array was expected. Please change the shape of y to (n_samples, ), for example using ravel().\n",
      "  y = column_or_1d(y, warn=True)\n"
     ]
    }
   ],
   "source": [
    "#invoke the log reg algorithm from sklearn\n",
    "\n",
    "log_reg=LogisticRegression(solver='liblinear',verbose=2)\n",
    "print('********************Logistic Regression**********************')\n",
    "#train the model\n",
    "print(\"Training Started.......\\n\")\n",
    "print()\n",
    "log_reg.fit(xtrain,ytrain)\n",
    "print('Training completed.....')\n",
    "print()\n",
    "#test the model\n",
    "print('Testing invoked......\\n')\n",
    "ypred=log_reg.predict(xtest)\n",
    "print('Predicted Class Labels are: \\n',ypred)\n",
    "print('\\nTesting is also completed....\\n')\n",
    "print('Testing samples are:\\t',len(ypred))"
   ]
  },
  {
   "cell_type": "markdown",
   "id": "42e3b8a2",
   "metadata": {},
   "source": [
    "# Performance Measures"
   ]
  },
  {
   "cell_type": "code",
   "execution_count": 15,
   "id": "0eb1bc7f",
   "metadata": {},
   "outputs": [
    {
     "name": "stdout",
     "output_type": "stream",
     "text": [
      "*******************Performance Measures for Logistic Regression*************\n",
      "Accuracy Score:\t 0.9047619047619048\n",
      "\n",
      "Confusion Matrix:\n",
      " [[18  0]\n",
      " [ 2  1]]\n",
      "\n",
      "Classification Report:\n",
      "               precision    recall  f1-score   support\n",
      "\n",
      "         0.0       0.90      1.00      0.95        18\n",
      "         1.0       1.00      0.33      0.50         3\n",
      "\n",
      "    accuracy                           0.90        21\n",
      "   macro avg       0.95      0.67      0.72        21\n",
      "weighted avg       0.91      0.90      0.88        21\n",
      "\n",
      "\n",
      "Precision Score:\t 1.0\n",
      "\n",
      "Recall Score:\t 0.3333333333333333\n",
      "\n",
      "F1 Score:\t 0.5\n"
     ]
    }
   ],
   "source": [
    "from sklearn.metrics import accuracy_score\n",
    "from sklearn.metrics import confusion_matrix\n",
    "from sklearn.metrics import classification_report\n",
    "from sklearn.metrics import precision_score, recall_score, f1_score\n",
    "\n",
    "\n",
    "print('*******************Performance Measures for Logistic Regression*************')\n",
    "print('Accuracy Score:\\t',accuracy_score(ytest,ypred))\n",
    "print()\n",
    "print('Confusion Matrix:\\n',confusion_matrix(ytest,ypred))\n",
    "print()\n",
    "print('Classification Report:\\n',classification_report(ytest,ypred))\n",
    "print()\n",
    "print('Precision Score:\\t',precision_score(ytest,ypred))\n",
    "print()\n",
    "print('Recall Score:\\t',recall_score(ytest,ypred))\n",
    "print()\n",
    "print('F1 Score:\\t',f1_score(ytest,ypred))"
   ]
  },
  {
   "cell_type": "code",
   "execution_count": 16,
   "id": "098754c2",
   "metadata": {},
   "outputs": [
    {
     "data": {
      "text/plain": [
       "array([0., 1.])"
      ]
     },
     "execution_count": 16,
     "metadata": {},
     "output_type": "execute_result"
    }
   ],
   "source": [
    "log_reg.classes_"
   ]
  },
  {
   "cell_type": "code",
   "execution_count": 17,
   "id": "76cc12b9",
   "metadata": {},
   "outputs": [
    {
     "data": {
      "text/plain": [
       "array([[-0.0082292 ,  0.00826213, -0.0082292 ]])"
      ]
     },
     "execution_count": 17,
     "metadata": {},
     "output_type": "execute_result"
    }
   ],
   "source": [
    "log_reg.coef_"
   ]
  },
  {
   "cell_type": "code",
   "execution_count": 18,
   "id": "959d1838",
   "metadata": {},
   "outputs": [
    {
     "data": {
      "text/plain": [
       "<bound method LinearClassifierMixin.decision_function of LogisticRegression(solver='liblinear', verbose=2)>"
      ]
     },
     "execution_count": 18,
     "metadata": {},
     "output_type": "execute_result"
    }
   ],
   "source": [
    "log_reg.decision_function"
   ]
  },
  {
   "cell_type": "code",
   "execution_count": 19,
   "id": "b92eb93d",
   "metadata": {},
   "outputs": [
    {
     "data": {
      "text/plain": [
       "False"
      ]
     },
     "execution_count": 19,
     "metadata": {},
     "output_type": "execute_result"
    }
   ],
   "source": [
    "log_reg.dual"
   ]
  },
  {
   "cell_type": "code",
   "execution_count": 20,
   "id": "c84419b6",
   "metadata": {},
   "outputs": [
    {
     "data": {
      "text/plain": [
       "array(['TransactionID', 'Amount', 'Time'], dtype=object)"
      ]
     },
     "execution_count": 20,
     "metadata": {},
     "output_type": "execute_result"
    }
   ],
   "source": [
    "log_reg.feature_names_in_"
   ]
  },
  {
   "cell_type": "code",
   "execution_count": 21,
   "id": "04e4758b",
   "metadata": {},
   "outputs": [
    {
     "data": {
      "text/plain": [
       "True"
      ]
     },
     "execution_count": 21,
     "metadata": {},
     "output_type": "execute_result"
    }
   ],
   "source": [
    "log_reg.fit_intercept"
   ]
  },
  {
   "cell_type": "code",
   "execution_count": 22,
   "id": "4ff68b7f",
   "metadata": {},
   "outputs": [
    {
     "data": {
      "text/plain": [
       "array([-2.40471908])"
      ]
     },
     "execution_count": 22,
     "metadata": {},
     "output_type": "execute_result"
    }
   ],
   "source": [
    "log_reg.intercept_"
   ]
  },
  {
   "cell_type": "code",
   "execution_count": 23,
   "id": "b1ac2e63",
   "metadata": {},
   "outputs": [
    {
     "data": {
      "text/plain": [
       "{'C': 1.0,\n",
       " 'class_weight': None,\n",
       " 'dual': False,\n",
       " 'fit_intercept': True,\n",
       " 'intercept_scaling': 1,\n",
       " 'l1_ratio': None,\n",
       " 'max_iter': 100,\n",
       " 'multi_class': 'auto',\n",
       " 'n_jobs': None,\n",
       " 'penalty': 'l2',\n",
       " 'random_state': None,\n",
       " 'solver': 'liblinear',\n",
       " 'tol': 0.0001,\n",
       " 'verbose': 2,\n",
       " 'warm_start': False}"
      ]
     },
     "execution_count": 23,
     "metadata": {},
     "output_type": "execute_result"
    }
   ],
   "source": [
    "log_reg.get_params()"
   ]
  },
  {
   "cell_type": "markdown",
   "id": "6c937940",
   "metadata": {},
   "source": [
    "# ROC curve"
   ]
  },
  {
   "cell_type": "code",
   "execution_count": 24,
   "id": "17da0f42",
   "metadata": {},
   "outputs": [
    {
     "data": {
      "text/plain": [
       "array([0.13159636, 0.27562803, 0.04688517, 0.16015347, 0.06064261,\n",
       "       0.0347541 , 0.05527696, 0.08233546, 0.050395  , 0.1795998 ,\n",
       "       0.30966868, 0.06399201, 0.10732688, 0.72905781, 0.30721145,\n",
       "       0.07962086, 0.10489254, 0.07909951, 0.49924629, 0.03903085,\n",
       "       0.24400669])"
      ]
     },
     "execution_count": 24,
     "metadata": {},
     "output_type": "execute_result"
    }
   ],
   "source": [
    "y_probs=log_reg.predict_proba(xtest)[:,1]\n",
    "y_probs"
   ]
  },
  {
   "cell_type": "code",
   "execution_count": 25,
   "id": "f932a323",
   "metadata": {},
   "outputs": [
    {
     "data": {
      "image/png": "[encoded data removed]",
      "text/plain": [
       "<Figure size 800x600 with 1 Axes>"
      ]
     },
     "metadata": {},
     "output_type": "display_data"
    }
   ],
   "source": [
    "from sklearn.metrics import roc_curve,roc_auc_score,auc\n",
    "\n",
    "#Calculate ROC & AUC\n",
    "fpr,tpr,thresholds=roc_curve(ytest,y_probs)\n",
    "roc_auc=auc(fpr,tpr)\n",
    "\n",
    "#plot ROC Curve\n",
    "plt.figure(figsize=(8,6))\n",
    "plt.plot(fpr,tpr,label='ROC Curve')\n",
    "plt.xlabel('False Positive Rate')\n",
    "plt.ylabel('True Positive Rate')\n",
    "plt.title('ROC Curve')\n",
    "plt.legend()\n",
    "plt.show()"
   ]
  },
  {
   "cell_type": "code",
   "execution_count": 26,
   "id": "83086c8a",
   "metadata": {},
   "outputs": [
    {
     "data": {
      "text/plain": [
       "0.9074074074074074"
      ]
     },
     "execution_count": 26,
     "metadata": {},
     "output_type": "execute_result"
    }
   ],
   "source": [
    "#Area under ROC curve\n",
    "roc_auc"
   ]
  },
  {
   "cell_type": "code",
   "execution_count": 27,
   "id": "6db5d29a",
   "metadata": {},
   "outputs": [
    {
     "data": {
      "text/plain": [
       "array([[18,  0],\n",
       "       [ 2,  1]], dtype=int64)"
      ]
     },
     "execution_count": 27,
     "metadata": {},
     "output_type": "execute_result"
    }
   ],
   "source": [
    "cm=confusion_matrix(ytest,ypred)\n",
    "cm"
   ]
  },
  {
   "cell_type": "markdown",
   "id": "d5a20574",
   "metadata": {},
   "source": [
    "# Feature Engineering(for improving performance of the model) using Scaling Method"
   ]
  },
  {
   "cell_type": "code",
   "execution_count": 28,
   "id": "5d442289",
   "metadata": {},
   "outputs": [],
   "source": [
    "#Scaling the model\n",
    "from sklearn.preprocessing import StandardScaler\n",
    "sc=StandardScaler()\n",
    "sc_x=sc.fit_transform(x)"
   ]
  },
  {
   "cell_type": "code",
   "execution_count": 29,
   "id": "ccbc7234",
   "metadata": {},
   "outputs": [
    {
     "data": {
      "text/plain": [
       "(105, 3)"
      ]
     },
     "execution_count": 29,
     "metadata": {},
     "output_type": "execute_result"
    }
   ],
   "source": [
    "sc_x.shape"
   ]
  },
  {
   "cell_type": "code",
   "execution_count": 30,
   "id": "be3ba4b5",
   "metadata": {},
   "outputs": [
    {
     "data": {
      "text/plain": [
       "array([-1.71563289, -0.27050762, -1.71563289])"
      ]
     },
     "execution_count": 30,
     "metadata": {},
     "output_type": "execute_result"
    }
   ],
   "source": [
    "sc_x[0]"
   ]
  },
  {
   "cell_type": "code",
   "execution_count": 31,
   "id": "7e0a0558",
   "metadata": {},
   "outputs": [
    {
     "data": {
      "text/plain": [
       "array([[ 5.88296587e-01, -6.20209002e-01,  5.88296587e-01],\n",
       "       [ 7.51928750e-01, -6.93494493e-01,  7.51928750e-01],\n",
       "       [ 1.50463670e+00,  1.43178474e+00,  1.50463670e+00],\n",
       "       [ 7.84655182e-01,  1.92527092e-01,  7.84655182e-01],\n",
       "       [-1.11347791e+00,  1.43178474e+00, -1.11347791e+00],\n",
       "       [-5.89854988e-01,  1.80004433e+00, -5.89854988e-01],\n",
       "       [-1.40801580e+00, -3.20929379e-02, -1.40801580e+00],\n",
       "       [ 6.53749452e-01,  3.32502379e-01,  6.53749452e-01],\n",
       "       [-4.26222825e-01, -7.28671528e-01, -4.26222825e-01],\n",
       "       [-1.53892153e+00, -7.97926317e-01, -1.53892153e+00],\n",
       "       [-9.89584987e-02, -3.20929379e-02, -9.89584987e-02],\n",
       "       [ 3.91937991e-01,  2.53473138e+00,  3.91937991e-01],\n",
       "       [-2.95317095e-01, -9.11518828e-01, -2.95317095e-01],\n",
       "       [ 1.14464594e+00,  1.06535729e+00,  1.14464594e+00],\n",
       "       [-1.47346867e+00,  1.06535729e+00, -1.47346867e+00],\n",
       "       [ 1.43918384e+00,  1.92527092e-01,  1.43918384e+00],\n",
       "       [ 1.30126530e-01,  1.92527092e-01,  1.30126530e-01],\n",
       "       [-3.93496392e-01, -2.48285136e-01, -3.93496392e-01],\n",
       "       [ 1.04646664e+00,  2.53473138e+00,  1.04646664e+00],\n",
       "       [ 1.30827810e+00,  3.32502379e-01,  1.30827810e+00],\n",
       "       [ 4.90117289e-01,  1.06535729e+00,  4.90117289e-01],\n",
       "       [-1.24438364e+00,  1.80004433e+00, -1.24438364e+00],\n",
       "       [-1.34256294e+00, -4.34796710e-01, -1.34256294e+00],\n",
       "       [ 1.95579395e-01,  1.43178474e+00,  1.95579395e-01],\n",
       "       [-3.28043527e-01,  3.32502379e-01, -3.28043527e-01],\n",
       "       [-6.22581421e-01, -5.79901982e-01, -6.22581421e-01],\n",
       "       [-1.21165721e+00, -6.93494493e-01, -1.21165721e+00],\n",
       "       [-7.79200777e-04,  3.32502379e-01, -7.79200777e-04],\n",
       "       [ 1.40645740e+00, -6.93494493e-01,  1.40645740e+00],\n",
       "       [-2.29864229e-01, -7.97926317e-01, -2.29864229e-01],\n",
       "       [-3.35056334e-02, -4.34796710e-01, -3.35056334e-02],\n",
       "       [-1.66982727e+00, -7.66779984e-01, -1.66982727e+00],\n",
       "       [-1.01529861e+00, -7.66779984e-01, -1.01529861e+00],\n",
       "       [ 5.55570154e-01, -3.20929379e-02,  5.55570154e-01],\n",
       "       [ 7.19202317e-01,  1.80004433e+00,  7.19202317e-01],\n",
       "       [ 1.47191027e+00, -9.44497299e-01,  1.47191027e+00],\n",
       "       [ 1.37373097e+00,  1.80004433e+00,  1.37373097e+00],\n",
       "       [-6.55307854e-01,  3.32502379e-01, -6.55307854e-01],\n",
       "       [-6.62320660e-02, -6.20209002e-01, -6.62320660e-02],\n",
       "       [ 1.53736313e+00, -7.28671528e-01,  1.53736313e+00],\n",
       "       [-9.49845747e-01, -9.11518828e-01, -9.49845747e-01],\n",
       "       [-1.14620434e+00, -9.44497299e-01, -1.14620434e+00],\n",
       "       [ 3.26485126e-01,  3.32502379e-01,  3.26485126e-01],\n",
       "       [ 1.01374021e+00, -9.11518828e-01,  1.01374021e+00],\n",
       "       [ 3.59211558e-01, -9.11518828e-01,  3.59211558e-01],\n",
       "       [-4.91675690e-01, -9.44497299e-01, -4.91675690e-01],\n",
       "       [ 1.07919308e+00, -7.97926317e-01,  1.07919308e+00],\n",
       "       [ 1.27555167e+00, -4.34796710e-01,  1.27555167e+00],\n",
       "       [-1.70255370e+00, -2.48285136e-01, -1.70255370e+00],\n",
       "       [ 5.22843721e-01, -5.42526382e-01,  5.22843721e-01],\n",
       "       [ 4.24664423e-01, -7.97926317e-01,  4.24664423e-01],\n",
       "       [-7.20760719e-01, -6.20209002e-01, -7.20760719e-01],\n",
       "       [-1.17893078e+00,  1.92527092e-01, -1.17893078e+00],\n",
       "       [-1.97137797e-01, -2.47918708e-01, -1.97137797e-01],\n",
       "       [-1.31684931e-01, -5.42526382e-01, -1.31684931e-01],\n",
       "       [ 4.57390856e-01, -2.47918708e-01,  4.57390856e-01],\n",
       "       [ 1.66826886e+00, -9.11518828e-01,  1.66826886e+00],\n",
       "       [ 6.86475885e-01, -5.79901982e-01,  6.86475885e-01],\n",
       "       [-1.04802505e+00, -2.48285136e-01, -1.04802505e+00],\n",
       "       [ 8.17381615e-01, -9.44497299e-01,  8.17381615e-01],\n",
       "       [ 3.19472319e-02, -5.79901982e-01,  3.19472319e-02],\n",
       "       [-1.64411364e-01,  1.06535729e+00, -1.64411364e-01],\n",
       "       [ 9.48287346e-01, -7.66779984e-01,  9.48287346e-01],\n",
       "       [-7.86213584e-01, -5.42526382e-01, -7.86213584e-01],\n",
       "       [ 1.60281600e+00, -7.66779984e-01,  1.60281600e+00],\n",
       "       [-4.58949258e-01,  1.43178474e+00, -4.58949258e-01],\n",
       "       [ 1.62852962e-01, -9.44497299e-01,  1.62852962e-01],\n",
       "       [-9.17119315e-01,  2.53473138e+00, -9.17119315e-01],\n",
       "       [ 8.82834480e-01, -7.28671528e-01,  8.82834480e-01],\n",
       "       [-1.57164797e+00,  2.53473138e+00, -1.57164797e+00],\n",
       "       [ 1.21009881e+00, -3.20929379e-02,  1.21009881e+00],\n",
       "       [ 9.74000971e-02, -6.93494493e-01,  9.74000971e-02],\n",
       "       [-1.60437440e+00, -9.11518828e-01, -1.60437440e+00],\n",
       "       [-8.18940017e-01,  1.06535729e+00, -8.18940017e-01],\n",
       "       [-8.51666449e-01, -2.47918708e-01, -8.51666449e-01],\n",
       "       [ 6.21023019e-01, -4.34796710e-01,  6.21023019e-01],\n",
       "       [ 1.57008957e+00, -2.48285136e-01,  1.57008957e+00],\n",
       "       [-1.37528937e+00, -6.20209002e-01, -1.37528937e+00],\n",
       "       [-5.57128556e-01, -6.93494493e-01, -5.57128556e-01],\n",
       "       [-1.50619510e+00, -2.47918708e-01, -1.50619510e+00],\n",
       "       [-1.08075148e+00, -7.28671528e-01, -1.08075148e+00],\n",
       "       [-1.27711007e+00, -5.79901982e-01, -1.27711007e+00],\n",
       "       [ 1.70099530e+00,  2.53473138e+00,  1.70099530e+00],\n",
       "       [ 1.34100454e+00, -5.79901982e-01,  1.34100454e+00]])"
      ]
     },
     "execution_count": 31,
     "metadata": {},
     "output_type": "execute_result"
    }
   ],
   "source": [
    "sc_train_x=sc.fit_transform(xtrain)\n",
    "sc_train_x"
   ]
  },
  {
   "cell_type": "code",
   "execution_count": 32,
   "id": "af4f4c4d",
   "metadata": {},
   "outputs": [
    {
     "data": {
      "text/plain": [
       "(84, 3)"
      ]
     },
     "execution_count": 32,
     "metadata": {},
     "output_type": "execute_result"
    }
   ],
   "source": [
    "sc_train_x.shape"
   ]
  },
  {
   "cell_type": "code",
   "execution_count": 33,
   "id": "855dafcc",
   "metadata": {},
   "outputs": [
    {
     "data": {
      "text/plain": [
       "array([ 0.58829659, -0.620209  ,  0.58829659])"
      ]
     },
     "execution_count": 33,
     "metadata": {},
     "output_type": "execute_result"
    }
   ],
   "source": [
    "sc_train_x[0]"
   ]
  },
  {
   "cell_type": "code",
   "execution_count": 34,
   "id": "301766a2",
   "metadata": {},
   "outputs": [
    {
     "data": {
      "text/plain": [
       "array([[-1.49839289, -0.71423072, -1.49839289],\n",
       "       [-1.36187987,  0.29240884, -1.36187987],\n",
       "       [ 0.3104046 , -0.97221372,  0.3104046 ],\n",
       "       [-0.78169955, -0.12702431, -0.78169955],\n",
       "       [ 0.95884144, -0.37573341,  0.95884144],\n",
       "       [ 1.30012398, -0.80359738,  1.30012398],\n",
       "       [ 1.16361097, -0.37531187,  1.16361097],\n",
       "       [ 0.27627635, -0.37573341,  0.27627635],\n",
       "       [ 0.24214809, -0.92837347,  0.24214809],\n",
       "       [-0.54280176,  0.13138023, -0.54280176],\n",
       "       [-1.70316242,  0.29240884, -1.70316242],\n",
       "       [-0.37216049, -0.97221372, -0.37216049],\n",
       "       [ 1.02709795,  0.29240884,  1.02709795],\n",
       "       [-0.26977573,  2.82586937, -0.26977573],\n",
       "       [ 0.89058493,  1.5570314 ,  0.89058493],\n",
       "       [ 1.70966304,  0.29240884,  1.70966304],\n",
       "       [-0.71344304, -0.59029771, -0.71344304],\n",
       "       [-0.91821256, -1.0080447 , -0.91821256],\n",
       "       [ 0.07150682,  1.98067996,  0.07150682],\n",
       "       [ 1.23186748, -0.71423072,  1.23186748],\n",
       "       [-1.02059733,  0.29240884, -1.02059733]])"
      ]
     },
     "execution_count": 34,
     "metadata": {},
     "output_type": "execute_result"
    }
   ],
   "source": [
    "sc_test_x=sc.fit_transform(xtest)\n",
    "sc_test_x"
   ]
  },
  {
   "cell_type": "code",
   "execution_count": 35,
   "id": "12cf0ffb",
   "metadata": {},
   "outputs": [
    {
     "data": {
      "text/plain": [
       "(21, 3)"
      ]
     },
     "execution_count": 35,
     "metadata": {},
     "output_type": "execute_result"
    }
   ],
   "source": [
    "sc_test_x.shape"
   ]
  },
  {
   "cell_type": "code",
   "execution_count": 36,
   "id": "b41adb40",
   "metadata": {},
   "outputs": [
    {
     "data": {
      "text/plain": [
       "array([-1.49839289, -0.71423072, -1.49839289])"
      ]
     },
     "execution_count": 36,
     "metadata": {},
     "output_type": "execute_result"
    }
   ],
   "source": [
    "sc_test_x[0]"
   ]
  },
  {
   "cell_type": "markdown",
   "id": "626df1bb",
   "metadata": {},
   "source": [
    "# After Scaling-Build Logistic Regression model"
   ]
  },
  {
   "cell_type": "code",
   "execution_count": 37,
   "id": "d6fc33f6",
   "metadata": {},
   "outputs": [
    {
     "name": "stdout",
     "output_type": "stream",
     "text": [
      "********************Logistic Regression**********************\n",
      "Training Started.......\n",
      "\n",
      "\n",
      "[LibLinear]Training completed.....\n",
      "\n",
      "Testing invoked......\n",
      "\n",
      "Predicted Class Labels are: \n",
      " [0. 0. 0. 0. 0. 0. 0. 0. 0. 0. 0. 0. 0. 1. 0. 0. 0. 0. 1. 0. 0.]\n",
      "\n",
      "Testing is also completed....\n",
      "\n",
      "Testing samples are:\t 21\n"
     ]
    },
    {
     "name": "stderr",
     "output_type": "stream",
     "text": [
      "C:\\Users\\SIRISHA\\anaconda3\\Lib\\site-packages\\sklearn\\utils\\validation.py:1183: DataConversionWarning: A column-vector y was passed when a 1d array was expected. Please change the shape of y to (n_samples, ), for example using ravel().\n",
      "  y = column_or_1d(y, warn=True)\n"
     ]
    }
   ],
   "source": [
    "log_reg_sc=LogisticRegression(solver='liblinear',verbose=2)\n",
    "print('********************Logistic Regression**********************')\n",
    "#train the model\n",
    "print(\"Training Started.......\\n\")\n",
    "print()\n",
    "log_reg_sc.fit(sc_train_x,ytrain)\n",
    "print('Training completed.....')\n",
    "print()\n",
    "#test the model\n",
    "print('Testing invoked......\\n')\n",
    "ypred=log_reg_sc.predict(sc_test_x)\n",
    "print('Predicted Class Labels are: \\n',ypred)\n",
    "print('\\nTesting is also completed....\\n')\n",
    "print('Testing samples are:\\t',len(ypred))"
   ]
  },
  {
   "cell_type": "code",
   "execution_count": 38,
   "id": "62debbef",
   "metadata": {},
   "outputs": [
    {
     "name": "stdout",
     "output_type": "stream",
     "text": [
      "*******************Performance Measures for Logistic Regression*************\n",
      "Accuracy Score:\t 0.9523809523809523\n",
      "\n",
      "Confusion Matrix:\n",
      " [[18  0]\n",
      " [ 1  2]]\n",
      "\n",
      "Classification Report:\n",
      "               precision    recall  f1-score   support\n",
      "\n",
      "         0.0       0.95      1.00      0.97        18\n",
      "         1.0       1.00      0.67      0.80         3\n",
      "\n",
      "    accuracy                           0.95        21\n",
      "   macro avg       0.97      0.83      0.89        21\n",
      "weighted avg       0.95      0.95      0.95        21\n",
      "\n",
      "\n",
      "Precision Score:\t 1.0\n",
      "\n",
      "Recall Score:\t 0.6666666666666666\n",
      "\n",
      "F1 Score:\t 0.8\n"
     ]
    }
   ],
   "source": [
    "#Performance Measures for log reg model which is built after scaling\n",
    "from sklearn.metrics import accuracy_score\n",
    "from sklearn.metrics import confusion_matrix\n",
    "from sklearn.metrics import classification_report\n",
    "from sklearn.metrics import precision_score, recall_score, f1_score\n",
    "\n",
    "\n",
    "print('*******************Performance Measures for Logistic Regression*************')\n",
    "print('Accuracy Score:\\t',accuracy_score(ytest,ypred))\n",
    "print()\n",
    "print('Confusion Matrix:\\n',confusion_matrix(ytest,ypred))\n",
    "print()\n",
    "print('Classification Report:\\n',classification_report(ytest,ypred))\n",
    "print()\n",
    "print('Precision Score:\\t',precision_score(ytest,ypred))\n",
    "print()\n",
    "print('Recall Score:\\t',recall_score(ytest,ypred))\n",
    "print()\n",
    "print('F1 Score:\\t',f1_score(ytest,ypred))"
   ]
  },
  {
   "cell_type": "markdown",
   "id": "621a6e76",
   "metadata": {},
   "source": [
    "# Oversampling of minority class\n",
    "1.)BY importing RandomOverSampler 2.)By importing SMOTE"
   ]
  },
  {
   "cell_type": "markdown",
   "id": "4ed6e90e",
   "metadata": {},
   "source": [
    "# 1.)Using RandomOverSampler"
   ]
  },
  {
   "cell_type": "code",
   "execution_count": 40,
   "id": "fd97d74e",
   "metadata": {},
   "outputs": [],
   "source": [
    "from imblearn.over_sampling import RandomOverSampler"
   ]
  },
  {
   "cell_type": "code",
   "execution_count": 41,
   "id": "4098d040",
   "metadata": {},
   "outputs": [],
   "source": [
    "ros=RandomOverSampler(random_state=42)\n",
    "ros_x,ros_y=ros.fit_resample(sc_train_x,ytrain)"
   ]
  },
  {
   "cell_type": "markdown",
   "id": "d1c9ad82",
   "metadata": {},
   "source": [
    "# Build log reg model with Oversampling data(RandomOverSampler)"
   ]
  },
  {
   "cell_type": "code",
   "execution_count": 42,
   "id": "8e2a856e",
   "metadata": {},
   "outputs": [
    {
     "name": "stdout",
     "output_type": "stream",
     "text": [
      "********************Logistic Regression with oversampling data(RandomOverSampler)**********************\n",
      "Training Started.......\n",
      "\n",
      "\n",
      "[LibLinear]Training completed.....\n",
      "\n",
      "Testing invoked......\n",
      "\n",
      "Predicted Class Labels are: \n",
      " [0. 0. 0. 0. 0. 0. 0. 0. 0. 0. 0. 0. 0. 1. 1. 0. 0. 0. 1. 0. 0.]\n",
      "\n",
      "Testing is also completed....\n",
      "\n",
      "Testing samples are:\t 21\n"
     ]
    },
    {
     "name": "stderr",
     "output_type": "stream",
     "text": [
      "C:\\Users\\SIRISHA\\anaconda3\\Lib\\site-packages\\sklearn\\utils\\validation.py:1183: DataConversionWarning: A column-vector y was passed when a 1d array was expected. Please change the shape of y to (n_samples, ), for example using ravel().\n",
      "  y = column_or_1d(y, warn=True)\n"
     ]
    }
   ],
   "source": [
    "log_reg_ros=LogisticRegression(solver='liblinear',verbose=2)\n",
    "print('********************Logistic Regression with oversampling data(RandomOverSampler)**********************')\n",
    "#train the model\n",
    "print(\"Training Started.......\\n\")\n",
    "print()\n",
    "log_reg_ros.fit(ros_x,ros_y)\n",
    "print('Training completed.....')\n",
    "print()\n",
    "#test the model\n",
    "print('Testing invoked......\\n')\n",
    "ypred_ros=log_reg_ros.predict(sc_test_x)\n",
    "print('Predicted Class Labels are: \\n',ypred_ros)\n",
    "print('\\nTesting is also completed....\\n')\n",
    "print('Testing samples are:\\t',len(ypred_ros))"
   ]
  },
  {
   "cell_type": "code",
   "execution_count": 43,
   "id": "f36926c7",
   "metadata": {},
   "outputs": [
    {
     "name": "stdout",
     "output_type": "stream",
     "text": [
      "*******************Performance Measures for Logistic Regression after oversampling*************\n",
      "Accuracy Score:\t 0.9047619047619048\n",
      "\n",
      "Confusion Matrix:\n",
      " [[17  1]\n",
      " [ 1  2]]\n",
      "\n",
      "Classification Report:\n",
      "               precision    recall  f1-score   support\n",
      "\n",
      "         0.0       0.94      0.94      0.94        18\n",
      "         1.0       0.67      0.67      0.67         3\n",
      "\n",
      "    accuracy                           0.90        21\n",
      "   macro avg       0.81      0.81      0.81        21\n",
      "weighted avg       0.90      0.90      0.90        21\n",
      "\n",
      "\n",
      "Precision Score:\t 0.6666666666666666\n",
      "\n",
      "Recall Score:\t 0.6666666666666666\n",
      "\n",
      "F1 Score:\t 0.6666666666666666\n"
     ]
    }
   ],
   "source": [
    "#Performance Measures\n",
    "from sklearn.metrics import accuracy_score\n",
    "from sklearn.metrics import confusion_matrix\n",
    "from sklearn.metrics import classification_report\n",
    "from sklearn.metrics import precision_score, recall_score, f1_score\n",
    "\n",
    "\n",
    "print('*******************Performance Measures for Logistic Regression after oversampling*************')\n",
    "print('Accuracy Score:\\t',accuracy_score(ytest,ypred_ros))\n",
    "print()\n",
    "print('Confusion Matrix:\\n',confusion_matrix(ytest,ypred_ros))\n",
    "print()\n",
    "print('Classification Report:\\n',classification_report(ytest,ypred_ros))\n",
    "print()\n",
    "print('Precision Score:\\t',precision_score(ytest,ypred_ros))\n",
    "print()\n",
    "print('Recall Score:\\t',recall_score(ytest,ypred_ros))\n",
    "print()\n",
    "print('F1 Score:\\t',f1_score(ytest,ypred_ros))"
   ]
  },
  {
   "cell_type": "markdown",
   "id": "2c3406f5",
   "metadata": {},
   "source": [
    "# 2.)Using SMOTE"
   ]
  },
  {
   "cell_type": "code",
   "execution_count": 44,
   "id": "87e1ce52",
   "metadata": {},
   "outputs": [],
   "source": [
    "from imblearn.over_sampling import SMOTE"
   ]
  },
  {
   "cell_type": "code",
   "execution_count": 45,
   "id": "90146c90",
   "metadata": {},
   "outputs": [],
   "source": [
    "# Create an instance of the SMOTE class\n",
    "smote = SMOTE(random_state=42)\n",
    "\n",
    "# Fit and apply SMOTE to the training data\n",
    "sm_train_x, sm_train_y = smote.fit_resample(sc_train_x, ytrain)"
   ]
  },
  {
   "cell_type": "markdown",
   "id": "35ff86b1",
   "metadata": {},
   "source": [
    "# Build log reg model with Oversampling data(SMOTE)"
   ]
  },
  {
   "cell_type": "code",
   "execution_count": 47,
   "id": "e754ecba",
   "metadata": {},
   "outputs": [
    {
     "name": "stdout",
     "output_type": "stream",
     "text": [
      "********************Logistic Regression with oversampling data(SMOTE)**********************\n",
      "Training Started.......\n",
      "\n",
      "\n",
      "[LibLinear]Training completed.....\n",
      "\n",
      "Testing invoked......\n",
      "\n",
      "Predicted Class Labels are: \n",
      " [0. 0. 0. 0. 0. 0. 0. 0. 0. 0. 0. 0. 0. 1. 1. 1. 0. 0. 1. 0. 0.]\n",
      "\n",
      "Testing is also completed....\n",
      "\n",
      "Testing samples are:\t 21\n"
     ]
    },
    {
     "name": "stderr",
     "output_type": "stream",
     "text": [
      "C:\\Users\\SIRISHA\\anaconda3\\Lib\\site-packages\\sklearn\\utils\\validation.py:1183: DataConversionWarning: A column-vector y was passed when a 1d array was expected. Please change the shape of y to (n_samples, ), for example using ravel().\n",
      "  y = column_or_1d(y, warn=True)\n"
     ]
    }
   ],
   "source": [
    "log_reg_sm=LogisticRegression(solver='liblinear',verbose=2)\n",
    "print('********************Logistic Regression with oversampling data(SMOTE)**********************')\n",
    "#train the model\n",
    "print(\"Training Started.......\\n\")\n",
    "print()\n",
    "log_reg_sm.fit(sm_train_x,sm_train_y)\n",
    "print('Training completed.....')\n",
    "print()\n",
    "#test the model\n",
    "print('Testing invoked......\\n')\n",
    "ypred_sm=log_reg_sm.predict(sc_test_x)\n",
    "print('Predicted Class Labels are: \\n',ypred_sm)\n",
    "print('\\nTesting is also completed....\\n')\n",
    "print('Testing samples are:\\t',len(ypred_sm))"
   ]
  },
  {
   "cell_type": "code",
   "execution_count": 48,
   "id": "b3a3b20a",
   "metadata": {},
   "outputs": [
    {
     "name": "stdout",
     "output_type": "stream",
     "text": [
      "*******************Performance Measures of log reg after oversampling*************\n",
      "Accuracy Score:\t 0.8571428571428571\n",
      "\n",
      "Confusion Matrix:\n",
      " [[16  2]\n",
      " [ 1  2]]\n",
      "\n",
      "Classification Report:\n",
      "               precision    recall  f1-score   support\n",
      "\n",
      "         0.0       0.94      0.89      0.91        18\n",
      "         1.0       0.50      0.67      0.57         3\n",
      "\n",
      "    accuracy                           0.86        21\n",
      "   macro avg       0.72      0.78      0.74        21\n",
      "weighted avg       0.88      0.86      0.87        21\n",
      "\n",
      "\n",
      "Precision Score:\t 0.5\n",
      "\n",
      "Recall Score:\t 0.6666666666666666\n",
      "\n",
      "F1 Score:\t 0.5714285714285715\n"
     ]
    }
   ],
   "source": [
    "#Performance Measures\n",
    "from sklearn.metrics import accuracy_score\n",
    "from sklearn.metrics import confusion_matrix\n",
    "from sklearn.metrics import classification_report\n",
    "from sklearn.metrics import precision_score, recall_score, f1_score\n",
    "\n",
    "\n",
    "print('*******************Performance Measures of log reg after oversampling*************')\n",
    "print('Accuracy Score:\\t',accuracy_score(ytest,ypred_sm))\n",
    "print()\n",
    "print('Confusion Matrix:\\n',confusion_matrix(ytest,ypred_sm))\n",
    "print()\n",
    "print('Classification Report:\\n',classification_report(ytest,ypred_sm))\n",
    "print()\n",
    "print('Precision Score:\\t',precision_score(ytest,ypred_sm))\n",
    "print()\n",
    "print('Recall Score:\\t',recall_score(ytest,ypred_sm))\n",
    "print()\n",
    "print('F1 Score:\\t',f1_score(ytest,ypred_sm))"
   ]
  },
  {
   "cell_type": "markdown",
   "id": "dc6f85ef",
   "metadata": {},
   "source": [
    "# Undersampling of Majority class(Only method-using RandomUnderSampler)"
   ]
  },
  {
   "cell_type": "code",
   "execution_count": 49,
   "id": "02dd22a7",
   "metadata": {},
   "outputs": [],
   "source": [
    "from imblearn.under_sampling import RandomUnderSampler"
   ]
  },
  {
   "cell_type": "code",
   "execution_count": 50,
   "id": "7592fbe8",
   "metadata": {},
   "outputs": [
    {
     "name": "stdout",
     "output_type": "stream",
     "text": [
      "[[-1.11347791  1.43178474 -1.11347791]\n",
      " [-0.81894002  1.06535729 -0.81894002]\n",
      " [ 0.1955794   1.43178474  0.1955794 ]\n",
      " [ 0.58829659 -0.620209    0.58829659]\n",
      " [ 1.47191027 -0.9444973   1.47191027]\n",
      " [-1.04802505 -0.24828514 -1.04802505]\n",
      " [-1.47346867  1.06535729 -1.47346867]\n",
      " [ 0.32648513  0.33250238  0.32648513]\n",
      " [ 0.13012653  0.19252709  0.13012653]\n",
      " [ 0.94828735 -0.76677998  0.94828735]\n",
      " [ 0.45739086 -0.24791871  0.45739086]\n",
      " [ 1.53736313 -0.72867153  1.53736313]\n",
      " [-0.58985499  1.80004433 -0.58985499]\n",
      " [-1.4080158  -0.03209294 -1.4080158 ]\n",
      " [-0.0989585  -0.03209294 -0.0989585 ]\n",
      " [ 0.39193799  2.53473138  0.39193799]\n",
      " [-1.24438364  1.80004433 -1.24438364]\n",
      " [ 0.55557015 -0.03209294  0.55557015]\n",
      " [ 0.71920232  1.80004433  0.71920232]\n",
      " [ 1.37373097  1.80004433  1.37373097]\n",
      " [-0.91711931  2.53473138 -0.91711931]\n",
      " [-1.57164797  2.53473138 -1.57164797]\n",
      " [ 1.21009881 -0.03209294  1.21009881]\n",
      " [ 1.7009953   2.53473138  1.7009953 ]]     IsFraud\n",
      "0       0.0\n",
      "1       0.0\n",
      "2       0.0\n",
      "3       0.0\n",
      "4       0.0\n",
      "5       0.0\n",
      "6       0.0\n",
      "7       0.0\n",
      "8       0.0\n",
      "9       0.0\n",
      "10      0.0\n",
      "11      0.0\n",
      "12      1.0\n",
      "13      1.0\n",
      "14      1.0\n",
      "15      1.0\n",
      "16      1.0\n",
      "17      1.0\n",
      "18      1.0\n",
      "19      1.0\n",
      "20      1.0\n",
      "21      1.0\n",
      "22      1.0\n",
      "23      1.0\n"
     ]
    }
   ],
   "source": [
    "# Create a RandomUnderSampler instance\n",
    "rus = RandomUnderSampler(random_state=42)\n",
    "\n",
    "# Fit and resample the training data\n",
    "rus_train_x, rus_train_y = rus.fit_resample(sc_train_x, ytrain)\n",
    "print(rus_train_x,rus_train_y)"
   ]
  },
  {
   "cell_type": "markdown",
   "id": "76a3a2e7",
   "metadata": {},
   "source": [
    "# Build log reg model with Undersampling data"
   ]
  },
  {
   "cell_type": "code",
   "execution_count": 51,
   "id": "d447fb18",
   "metadata": {},
   "outputs": [
    {
     "name": "stdout",
     "output_type": "stream",
     "text": [
      "********************Logistic Regression with undersampling data(RandomUnderSampler)**********************\n",
      "Training Started.......\n",
      "\n",
      "\n",
      "[LibLinear]Training completed.....\n",
      "\n",
      "Testing invoked......\n",
      "\n",
      "Predicted Class Labels are: \n",
      " [0. 0. 0. 0. 0. 0. 0. 0. 0. 0. 0. 0. 0. 1. 1. 1. 0. 0. 1. 0. 0.]\n",
      "\n",
      "Testing is also completed....\n",
      "\n",
      "Testing samples are:\t 21\n"
     ]
    },
    {
     "name": "stderr",
     "output_type": "stream",
     "text": [
      "C:\\Users\\SIRISHA\\anaconda3\\Lib\\site-packages\\sklearn\\utils\\validation.py:1183: DataConversionWarning: A column-vector y was passed when a 1d array was expected. Please change the shape of y to (n_samples, ), for example using ravel().\n",
      "  y = column_or_1d(y, warn=True)\n"
     ]
    }
   ],
   "source": [
    "log_reg_rus=LogisticRegression(solver='liblinear',verbose=2)\n",
    "print('********************Logistic Regression with undersampling data(RandomUnderSampler)**********************')\n",
    "#train the model\n",
    "print(\"Training Started.......\\n\")\n",
    "print()\n",
    "log_reg_rus.fit(rus_train_x,rus_train_y)\n",
    "print('Training completed.....')\n",
    "print()\n",
    "#test the model\n",
    "print('Testing invoked......\\n')\n",
    "ypred_rus=log_reg_rus.predict(sc_test_x)\n",
    "print('Predicted Class Labels are: \\n',ypred_rus)\n",
    "print('\\nTesting is also completed....\\n')\n",
    "print('Testing samples are:\\t',len(ypred_rus))"
   ]
  },
  {
   "cell_type": "code",
   "execution_count": 52,
   "id": "f8972b01",
   "metadata": {},
   "outputs": [
    {
     "name": "stdout",
     "output_type": "stream",
     "text": [
      "*******************Performance Measures after undersampling*************\n",
      "Accuracy Score:\t 0.8571428571428571\n",
      "\n",
      "Confusion Matrix:\n",
      " [[16  2]\n",
      " [ 1  2]]\n",
      "\n",
      "Classification Report:\n",
      "               precision    recall  f1-score   support\n",
      "\n",
      "         0.0       0.94      0.89      0.91        18\n",
      "         1.0       0.50      0.67      0.57         3\n",
      "\n",
      "    accuracy                           0.86        21\n",
      "   macro avg       0.72      0.78      0.74        21\n",
      "weighted avg       0.88      0.86      0.87        21\n",
      "\n",
      "\n",
      "Precision Score:\t 0.5\n",
      "\n",
      "Recall Score:\t 0.6666666666666666\n",
      "\n",
      "F1 Score:\t 0.5714285714285715\n"
     ]
    }
   ],
   "source": [
    "#Performance Measures\n",
    "from sklearn.metrics import accuracy_score\n",
    "from sklearn.metrics import confusion_matrix\n",
    "from sklearn.metrics import classification_report\n",
    "from sklearn.metrics import precision_score, recall_score, f1_score\n",
    "\n",
    "\n",
    "print('*******************Performance Measures after undersampling*************')\n",
    "print('Accuracy Score:\\t',accuracy_score(ytest,ypred_rus))\n",
    "print()\n",
    "print('Confusion Matrix:\\n',confusion_matrix(ytest,ypred_rus))\n",
    "print()\n",
    "print('Classification Report:\\n',classification_report(ytest,ypred_rus))\n",
    "print()\n",
    "print('Precision Score:\\t',precision_score(ytest,ypred_rus))\n",
    "print()\n",
    "print('Recall Score:\\t',recall_score(ytest,ypred_rus))\n",
    "print()\n",
    "print('F1 Score:\\t',f1_score(ytest,ypred_rus))"
   ]
  },
  {
   "cell_type": "code",
   "execution_count": null,
   "id": "b132b96b",
   "metadata": {},
   "outputs": [],
   "source": []
  }
 ],
 "metadata": {
  "kernelspec": {
   "display_name": "Python 3 (ipykernel)",
   "language": "python",
   "name": "python3"
  },
  "language_info": {
   "codemirror_mode": {
    "name": "ipython",
    "version": 3
   },
   "file_extension": ".py",
   "mimetype": "text/x-python",
   "name": "python",
   "nbconvert_exporter": "python",
   "pygments_lexer": "ipython3",
   "version": "3.11.4"
  }
 },
 "nbformat": 4,
 "nbformat_minor": 5
}
