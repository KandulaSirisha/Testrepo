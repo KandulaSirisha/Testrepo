{
 "cells": [
  {
   "cell_type": "markdown",
   "id": "b1e73c17",
   "metadata": {},
   "source": [
    "# 1.Write a python Function to list even and odd numbers in a list."
   ]
  },
  {
   "cell_type": "code",
   "execution_count": 1,
   "id": "617f2a24",
   "metadata": {},
   "outputs": [
    {
     "name": "stdout",
     "output_type": "stream",
     "text": [
      "Even numbers: [2, 4, 6, 8]\n",
      "Odd numbers: [1, 3, 5, 7, 9]\n"
     ]
    }
   ],
   "source": [
    "def list_even_odd(numbers):\n",
    "    even = []\n",
    "    odd = []\n",
    "    for num in numbers:\n",
    "        if num % 2 == 0:\n",
    "            even.append(num)\n",
    "        else:\n",
    "            odd.append(num)\n",
    "\n",
    "    return even,odd\n",
    "numbers = [1, 2, 3, 4, 5, 6, 7, 8, 9]\n",
    "even, odd = list_even_odd(numbers)\n",
    "\n",
    "print(\"Even numbers:\", even)\n",
    "print(\"Odd numbers:\", odd)"
   ]
  },
  {
   "cell_type": "markdown",
   "id": "b251f6c8",
   "metadata": {},
   "source": [
    "# 2.Write and run a python program that asks the user to enter 8 integers (one at a time), and then prints out how many of those integers were even numbers. For example, if the user entered 19, 6, 9, 20, 13, 7, 6, and 1, then your program should print out 3 since 3 of those numbers were even."
   ]
  },
  {
   "cell_type": "code",
   "execution_count": 17,
   "id": "56022810",
   "metadata": {},
   "outputs": [
    {
     "name": "stdout",
     "output_type": "stream",
     "text": [
      "Enter integer:19\n",
      "Enter integer:6\n",
      "Enter integer:9\n",
      "Enter integer:20\n",
      "Enter integer:13\n",
      "Enter integer:7\n",
      "Enter integer:6\n",
      "Enter integer:1\n",
      "even numbers are: 3\n"
     ]
    }
   ],
   "source": [
    "even_count = 0\n",
    "for i in range(8):\n",
    "    num = int(input(\"Enter integer:\"))\n",
    "    if num % 2 == 0:\n",
    "        even_count += 1\n",
    "print(\"even numbers are:\",even_count)"
   ]
  },
  {
   "cell_type": "markdown",
   "id": "30465419",
   "metadata": {},
   "source": [
    "# 3.Write a python program where you take any positive integer n, if n is even, divide it by 2 to get n / 2. If n is odd, multiply it by 3 and add 1 to obtain 3n+1. Repeat the process until you reach 1.         "
   ]
  },
  {
   "cell_type": "code",
   "execution_count": 82,
   "id": "ba2071d6",
   "metadata": {},
   "outputs": [
    {
     "name": "stdout",
     "output_type": "stream",
     "text": [
      "Enter a positive integer: 4\n",
      "Starting from: 4\n",
      "2\n",
      "1\n"
     ]
    }
   ],
   "source": [
    "n = int(input(\"Enter a positive integer: \"))\n",
    "if n <= 0:\n",
    "    print(\"Please enter a positive integer.\")\n",
    "else:\n",
    "    print(\"Starting from:\",n)\n",
    "    while n != 1:\n",
    "        if n % 2 == 0:\n",
    "            n = n // 2\n",
    "        else:\n",
    "            n = 3 * n + 1\n",
    "        print(n)"
   ]
  },
  {
   "cell_type": "markdown",
   "id": "ea30110f",
   "metadata": {},
   "source": [
    "# 4.Write a python program to compute the sum of all the multiples of 3 or 5 below 500."
   ]
  },
  {
   "cell_type": "code",
   "execution_count": 36,
   "id": "8c7cdaad",
   "metadata": {},
   "outputs": [
    {
     "name": "stdout",
     "output_type": "stream",
     "text": [
      "sum of all multiples of 3 or 5 below 500 is: 57918\n"
     ]
    }
   ],
   "source": [
    "all_sum = 0\n",
    "for number in range(1, 500):\n",
    "    if number % 3 == 0 or number % 5 == 0:\n",
    "        all_sum += number\n",
    "print(\"sum of all multiples of 3 or 5 below 500 is:\",all_sum)"
   ]
  },
  {
   "cell_type": "markdown",
   "id": "a105e556",
   "metadata": {},
   "source": [
    "# 5.To write a python program to find 'n' prime numbers from a list of given numbers."
   ]
  },
  {
   "cell_type": "code",
   "execution_count": 55,
   "id": "1d2f42fe",
   "metadata": {},
   "outputs": [
    {
     "name": "stdout",
     "output_type": "stream",
     "text": [
      "[2, 3, 4, 5, 6, 7, 8, 9, 10, 11, 12]\n",
      "enter number from the list:6\n",
      "The prime numbers from a list are: [2, 3, 5, 7, 11]\n"
     ]
    }
   ],
   "source": [
    "def is_prime(num):\n",
    "    if num<=1:\n",
    "        return False\n",
    "    for i in range(2,int(num**0.5)+1):\n",
    "        if num%i==0:\n",
    "            return False\n",
    "    return True\n",
    "def find_first_n_primes(numbers,n):\n",
    "    prime_numbers=[]\n",
    "    for num in numbers:\n",
    "        if is_prime(num):\n",
    "            prime_numbers.append(num)\n",
    "            if len(prime_numbers)==n:\n",
    "                break\n",
    "    return prime_numbers\n",
    "given_list = [2, 3, 4, 5, 6, 7, 8, 9, 10, 11, 12]\n",
    "print(given_list)\n",
    "n = int(input(\"enter number from the list:\"))\n",
    "prime_numbers = find_first_n_primes(given_list,n)\n",
    "print(\"The prime numbers from a list are:\", prime_numbers)"
   ]
  },
  {
   "cell_type": "markdown",
   "id": "fa10fe6a",
   "metadata": {},
   "source": [
    "# 6.To write a python program to compute matrix multipliction."
   ]
  },
  {
   "cell_type": "code",
   "execution_count": 38,
   "id": "6ea4a699",
   "metadata": {},
   "outputs": [
    {
     "name": "stdout",
     "output_type": "stream",
     "text": [
      "[58, 64]\n",
      "[139, 154]\n"
     ]
    }
   ],
   "source": [
    "def matrix_multiply(A, B):\n",
    "    if len(A[0]) != len(B):\n",
    "        raise Error(\"Matrix not sufficient for multiplication\")\n",
    "    result = [[0 for x in range(len(B[0]))] for x in range(len(A))]\n",
    "    for i in range(len(A)):\n",
    "        for j in range(len(B[0])):\n",
    "            for k in range(len(B)):\n",
    "                result[i][j] += A[i][k] * B[k][j]\n",
    "\n",
    "    return result\n",
    "A = [[1, 2, 3], [4, 5, 6]]\n",
    "B = [[7, 8], [9, 10], [11, 12]]\n",
    "result = matrix_multiply(A, B)\n",
    "for row in result:\n",
    "    print(row)"
   ]
  },
  {
   "cell_type": "markdown",
   "id": "99e881f9",
   "metadata": {},
   "source": [
    "# 7.Write a python Function to count the number of vowels in a string."
   ]
  },
  {
   "cell_type": "code",
   "execution_count": 83,
   "id": "1aa58ef6",
   "metadata": {},
   "outputs": [
    {
     "name": "stdout",
     "output_type": "stream",
     "text": [
      "enter string:SIRISHA\n",
      "No. of vowels : 3\n"
     ]
    }
   ],
   "source": [
    "def vowel_count(str):\n",
    "    count = 0\n",
    "    vowel = set(\"aeiouAEIOU\")\n",
    "    for alphabet in str:\n",
    "        if alphabet in vowel:\n",
    "            count = count + 1\n",
    "    print(\"No. of vowels :\", count)\n",
    "str =input(\"enter string:\")\n",
    "vowel_count(str)"
   ]
  },
  {
   "cell_type": "markdown",
   "id": "8aace5ba",
   "metadata": {},
   "source": [
    "# 8.Write a pythonFunction for finding factorial for the given number using a recursive function."
   ]
  },
  {
   "cell_type": "code",
   "execution_count": 45,
   "id": "1443b981",
   "metadata": {},
   "outputs": [
    {
     "name": "stdout",
     "output_type": "stream",
     "text": [
      "Enter a number: 3\n",
      "The factorial is 6\n"
     ]
    }
   ],
   "source": [
    "def find_factorial(n):  \n",
    "   if n == 1:  \n",
    "       return n  \n",
    "   else:  \n",
    "       return n*find_factorial(n-1)   \n",
    "num = int(input(\"Enter a number: \"))  \n",
    "if num < 0:  \n",
    "   print(\"factorial does not exist for negative numbers\")  \n",
    "elif num == 0:  \n",
    "   print(\"The factorial is 1\")  \n",
    "else:  \n",
    "   print(\"The factorial is\",find_factorial(num))  "
   ]
  },
  {
   "cell_type": "markdown",
   "id": "ee24280d",
   "metadata": {},
   "source": [
    "# 9.Write a python Function for generating the Fibonacci series using the function."
   ]
  },
  {
   "cell_type": "code",
   "execution_count": 80,
   "id": "4a4b494b",
   "metadata": {},
   "outputs": [
    {
     "name": "stdout",
     "output_type": "stream",
     "text": [
      "enter number:5\n",
      "Fibonacci Series:\n",
      "[0, 1, 1, 2, 3]\n"
     ]
    }
   ],
   "source": [
    "def fibonacci_recursive(n):\n",
    "    if n <= 0:\n",
    "        return []\n",
    "    elif n == 1:\n",
    "        return [0]\n",
    "    elif n == 2:\n",
    "        return [0, 1]\n",
    "    else:\n",
    "        fib_series = fibonacci_recursive(n - 1)\n",
    "        fib_series.append(fib_series[-1] + fib_series[-2])\n",
    "        return fib_series\n",
    "num_terms = int(input(\"enter number:\"))\n",
    "fib_series = fibonacci_recursive(num_terms)\n",
    "print(\"Fibonacci Series:\")\n",
    "print(fib_series)"
   ]
  },
  {
   "cell_type": "markdown",
   "id": "bb28dcde",
   "metadata": {},
   "source": [
    "# 10.Python program to display the given integer in reverse order using the funtion without an in-built function."
   ]
  },
  {
   "cell_type": "code",
   "execution_count": 114,
   "id": "ecb14a7a",
   "metadata": {},
   "outputs": [
    {
     "name": "stdout",
     "output_type": "stream",
     "text": [
      "Enter the number: 125\n",
      "reversed number: 521\n"
     ]
    }
   ],
   "source": [
    "num = int(input(\"Enter the number: \"))  \n",
    "rev_num = 0    \n",
    "while num!=0:\n",
    "    digit=num%10\n",
    "    rev_num=rev_num*10+digit\n",
    "    num//=10\n",
    "print(\"reversed number:\",rev_num)"
   ]
  },
  {
   "cell_type": "markdown",
   "id": "1a9d329e",
   "metadata": {},
   "source": [
    "# 11.Write a python Function to display all integers within the range 200-300 whose sum of digits is an even number."
   ]
  },
  {
   "cell_type": "code",
   "execution_count": 2,
   "id": "5fc26973",
   "metadata": {},
   "outputs": [
    {
     "name": "stdout",
     "output_type": "stream",
     "text": [
      "\n",
      "All integers within the range 200 to 300 whose sum of digits is an even number is :\n",
      "\n",
      " ['200', '202', '204', '206', '208', '211', '213', '215', '217', '219', '220', '222', '224', '226', '228', '231', '233', '235', '237', '239', '240', '242', '244', '246', '248', '251', '253', '255', '257', '259', '260', '262', '264', '266', '268', '271', '273', '275', '277', '279', '280', '282', '284', '286', '288', '291', '293', '295', '297', '299']\n"
     ]
    }
   ],
   "source": [
    "def sum_of_even(start, end):\n",
    "    for i in range(start, end + 1):  \n",
    "        i = str(i)              \n",
    "        sum = 0                 \n",
    "        for j in i:           \n",
    "            j = int(j)          \n",
    "            sum = sum + j         \n",
    "        if (sum % 2 == 0):          \n",
    "            my_list.append(i) \n",
    "    return my_list\n",
    "\n",
    "my_list = [] \n",
    "start = 200\n",
    "end = 300  \n",
    "even_digit = sum_of_even(start, end)\n",
    "print('\\nAll integers within the range', start,'to', end,'whose sum of digits is an even number is :\\n\\n',even_digit)"
   ]
  },
  {
   "cell_type": "markdown",
   "id": "941ef049",
   "metadata": {},
   "source": [
    "# 12.Write python Function to find the number of digits and sum of digits for a given integer. "
   ]
  },
  {
   "cell_type": "code",
   "execution_count": 94,
   "id": "901a29cd",
   "metadata": {},
   "outputs": [
    {
     "name": "stdout",
     "output_type": "stream",
     "text": [
      "Enter an integer: 3211\n",
      "Number of digits: 4\n",
      "Sum of digits: 7\n"
     ]
    }
   ],
   "source": [
    "def find_sum_digit(number):\n",
    "    digit_count=0\n",
    "    digit_sum=0\n",
    "    number = abs(number)\n",
    "    while number > 0:\n",
    "        digit = number % 10\n",
    "        digit_count += 1\n",
    "        digit_sum += digit\n",
    "        number //= 10  \n",
    "    return digit_count, digit_sum\n",
    "input_number = int(input(\"Enter an integer: \"))\n",
    "count,total_sum = find_sum_digit(input_number)\n",
    "print(\"Number of digits:\",count)\n",
    "print(\"Sum of digits:\",total_sum)"
   ]
  },
  {
   "cell_type": "markdown",
   "id": "83691472",
   "metadata": {},
   "source": [
    "# 13.Write functions called is_sorted that takes a list as a parameter and returns True if the list is sorted in ascending order and False otherwise and has_duplicates that takes a list and returns True if there is any element that appears more than once. It should not modify the original list."
   ]
  },
  {
   "cell_type": "code",
   "execution_count": 5,
   "id": "4f95f0c6",
   "metadata": {},
   "outputs": [
    {
     "name": "stdout",
     "output_type": "stream",
     "text": [
      "is_sorted(sorted_list): True\n",
      "is_sorted(unsorted_list): False\n",
      "has_duplicates(sorted_list): False\n",
      "has_duplicates(list_with_duplicates): True\n"
     ]
    }
   ],
   "source": [
    "def is_sorted(input_list):\n",
    "    # Check if the input list is sorted in ascending order\n",
    "    return all(input_list[i] <= input_list[i+1] for i in range(len(input_list) - 1))\n",
    "\n",
    "def has_duplicates(input_list):\n",
    "    # Check if there are any duplicate elements in the input list\n",
    "    seen = set()\n",
    "    for item in input_list:\n",
    "        if item in seen:\n",
    "            return True\n",
    "        seen.add(item)\n",
    "    return False\n",
    "\n",
    "# Example:\n",
    "sorted_list = [1, 2, 3, 4, 5]\n",
    "unsorted_list = [4, 2, 1, 3, 5]\n",
    "list_with_duplicates = [1, 2, 3, 2, 4]\n",
    "\n",
    "print(\"is_sorted(sorted_list):\", is_sorted(sorted_list))  \n",
    "print(\"is_sorted(unsorted_list):\", is_sorted(unsorted_list))\n",
    "print(\"has_duplicates(sorted_list):\", has_duplicates(sorted_list))\n",
    "print(\"has_duplicates(list_with_duplicates):\", has_duplicates(list_with_duplicates))  "
   ]
  },
  {
   "cell_type": "markdown",
   "id": "1f3862fb",
   "metadata": {},
   "source": [
    "# 14.Write functions called nested_sum that takes a list of integers and adds up the elements from all the nested lists and cumsum that takes a list of numbers and returns the cumulative sum; that is, a new list where the ith element is the sum of the first i+1 elements from the original list."
   ]
  },
  {
   "cell_type": "code",
   "execution_count": 2,
   "id": "8b25716b",
   "metadata": {},
   "outputs": [
    {
     "name": "stdout",
     "output_type": "stream",
     "text": [
      "Nested sum of nested_list: 36\n",
      "Cumulative sum of original_list: [1, 3, 6, 10, 15]\n"
     ]
    }
   ],
   "source": [
    "\n",
    "def nested_sum(nested_list):\n",
    "    total = 0\n",
    "    for sublist in nested_list:\n",
    "        total += sum(sublist)\n",
    "    return total\n",
    "\n",
    "def cumsum(input_list):\n",
    "    cumulative_sum = [sum(input_list[:i+1]) for i in range(len(input_list))]\n",
    "    return cumulative_sum\n",
    "\n",
    "# Example:\n",
    "nested_list = [[1, 2, 3], [4, 5], [6, 7, 8]]\n",
    "original_list = [1, 2, 3, 4, 5]\n",
    "\n",
    "result_nested_sum = nested_sum(nested_list)\n",
    "result_cumsum = cumsum(original_list)\n",
    "\n",
    "print(\"Nested sum of nested_list:\", result_nested_sum)  \n",
    "print(\"Cumulative sum of original_list:\", result_cumsum)  "
   ]
  }
 ],
 "metadata": {
  "kernelspec": {
   "display_name": "Python 3 (ipykernel)",
   "language": "python",
   "name": "python3"
  },
  "language_info": {
   "codemirror_mode": {
    "name": "ipython",
    "version": 3
   },
   "file_extension": ".py",
   "mimetype": "text/x-python",
   "name": "python",
   "nbconvert_exporter": "python",
   "pygments_lexer": "ipython3",
   "version": "3.11.4"
  }
 },
 "nbformat": 4,
 "nbformat_minor": 5
}
