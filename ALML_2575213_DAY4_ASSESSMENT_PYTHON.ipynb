{
 "cells": [
  {
   "cell_type": "markdown",
   "id": "e33933e6",
   "metadata": {},
   "source": [
    "# Exceptions and Command-Line Arguments\n",
    "\n",
    "1.Write a python program with Exception handling to input marks for five subjects Physics, Chemistry, Biology, Mathematics, and Computer. Calculate the percentage and grade according\n",
    "\n",
    "to the following:\n",
    "i)Percentage >= 90%: Grade A\n",
    "\n",
    "ii)Percentage >= 80%: Grade B\n",
    "\n",
    "iii)Percentage >= 70%: Grade C\n",
    "\n",
    "iv)Percentage >= 60%: Grade D\n",
    "\n",
    "v)Percentage >= 40%: Grade E\n",
    "\n",
    "vi)Percentage < 40% : Grade F"
   ]
  },
  {
   "cell_type": "code",
   "execution_count": 4,
   "id": "b28f28fc",
   "metadata": {},
   "outputs": [
    {
     "name": "stdout",
     "output_type": "stream",
     "text": [
      "Enter marks for Physics:98\n",
      "Enter marks for Chemistry:89\n",
      "Enter marks for Biology:78\n",
      "Enter marks for Mathematics:86\n",
      "Enter marks for Computer:85\n",
      "Percentage:  87.2 %\n",
      "Grade: Grade B\n"
     ]
    }
   ],
   "source": [
    "def calculate_grade(marks):\n",
    "   \n",
    "    if percentage >= 90:\n",
    "        return \"Grade A\"\n",
    "    elif percentage >= 80:\n",
    "        return \"Grade B\"\n",
    "    elif percentage >= 70:\n",
    "        return \"Grade C\"\n",
    "    elif percentage >= 60:\n",
    "        return \"Grade D\"\n",
    "    elif percentage >= 40:\n",
    "        return \"Grade E\"\n",
    "    else:\n",
    "        return \"Grade F\"\n",
    "\n",
    "try:\n",
    "    marks = []\n",
    "    for subject in [\"Physics\", \"Chemistry\", \"Biology\", \"Mathematics\", \"Computer\"]:\n",
    "        mark = float(input(f\"Enter marks for {subject}:\"))\n",
    "        if mark < 0 or mark > 100:\n",
    "            raise ValueError(\"Marks should be between 0 and 100\")\n",
    "        marks.append(mark)\n",
    "    percentage = sum(marks) / 5.0\n",
    "    grade = calculate_grade(marks)\n",
    "    print(\"Percentage: \",percentage,\"%\")\n",
    "    print(\"Grade:\",grade)\n",
    "\n",
    "except ValueError as e:\n",
    "    print(\"Error!Please enter valid marks between 0 and 100.\",e)\n",
    "except Exception as e:\n",
    "    print(\"An error occurred:\",e)"
   ]
  },
  {
   "cell_type": "markdown",
   "id": "031d7466",
   "metadata": {},
   "source": [
    "# 2. Write a python program with Exception handling to input electricity unit charges and calculate the total electricity bill according to the given condition:\n",
    "\n",
    "1) For the first 50 units Rs. 0.50/unit\n",
    "\n",
    "ii) For the next 100 units Rs. 0.75/unit\n",
    "\n",
    "iii)For the next 100 units Rs. 1.20/unit\n",
    "\n",
    "iv) For units above 250 Rs. 1.50/unit\n",
    "\n",
    "v)An additional surcharge of 20% is added to the bill."
   ]
  },
  {
   "cell_type": "code",
   "execution_count": 6,
   "id": "f2f6a4d0",
   "metadata": {},
   "outputs": [
    {
     "name": "stdout",
     "output_type": "stream",
     "text": [
      "Enter electricity unit charges: 150\n",
      "Total Electricity Bill: Rs. 120.0\n"
     ]
    }
   ],
   "source": [
    "try:\n",
    "    units = float(input(\"Enter electricity unit charges: \"))\n",
    "    if units < 0:\n",
    "        raise ValueError(\"Units cannot be negative.\")\n",
    "\n",
    "    if units <= 50:\n",
    "        total_bill = units * 0.50\n",
    "    elif units <= 150:\n",
    "        total_bill = 50 * 0.50 + (units - 50) * 0.75\n",
    "    elif units <= 250:\n",
    "        total_bill = 50 * 0.50 + 100 * 0.75 + (units - 150) * 1.20\n",
    "    else:\n",
    "        total_bill = 50 * 0.50 + 100 * 0.75 + 100 * 1.20 + (units - 250) * 1.50\n",
    "\n",
    "    surcharge = 0.20 * total_bill\n",
    "    total_bill += surcharge\n",
    "\n",
    "    print(\"Total Electricity Bill: Rs.\",total_bill)\n",
    "\n",
    "except ValueError as e:\n",
    "    print(\"Error! enter a valid positive number for unit charges.\",e)\n",
    "except Exception as e:\n",
    "    print(\"An error occurred:\",e)"
   ]
  },
  {
   "cell_type": "markdown",
   "id": "65942224",
   "metadata": {},
   "source": [
    "# 3. Write a python program with Exception handling to input the week number and print the weekday."
   ]
  },
  {
   "cell_type": "code",
   "execution_count": 15,
   "id": "93037c41",
   "metadata": {},
   "outputs": [
    {
     "name": "stdout",
     "output_type": "stream",
     "text": [
      "Enter a week number (1-7):5\n",
      "Weekday: Thursday\n"
     ]
    }
   ],
   "source": [
    "try:\n",
    "    week_number = int(input(\"Enter a week number (1-7):\"))\n",
    "    weekdays = {\n",
    "        1: \"Sunday\",\n",
    "        2: \"Monday\",\n",
    "        3: \"Tuesday\",\n",
    "        4: \"Wednesday\",\n",
    "        5: \"Thursday\",\n",
    "        6: \"Friday\",\n",
    "        7: \"Saturday\"\n",
    "        \n",
    "    }\n",
    "    if 1 <= week_number <= 7:\n",
    "        print(\"Weekday:\",weekdays[week_number])\n",
    "    else:\n",
    "        print(\"Invalid input! Week number should be between 1 and 7.\")\n",
    "\n",
    "except ValueError:\n",
    "    print(\"Invalid input! Please enter a valid week number (1-7).\")\n",
    "except Exception as e:\n",
    "    print(\"An error occurred:\",e)\n"
   ]
  },
  {
   "cell_type": "markdown",
   "id": "4500a532",
   "metadata": {},
   "source": [
    "# 4. Write a Python program to implement word count using command line arguments.\n",
    "\n",
    "i) Create a text document \"apple.txt\" which contains text for wordcount.\n",
    "ii) Create a wordcount program which calls the \"apple.txt\" document by opening the file.\n",
    "iii) If the word is present again in the \"apple.txt\",the wordcount is incremented by 1 until all the words are counted in the document.\n",
    "iv) Close the file.\n",
    "v) Create a command.py program which imports the wordcount.py program.\n",
    "vi) Count the number of words using command line arguments.\n",
    "vii) Print each word and its count."
   ]
  },
  {
   "cell_type": "code",
   "execution_count": null,
   "id": "0434a20d",
   "metadata": {},
   "outputs": [],
   "source": [
    "#wordcount.py\n",
    "import sys\n",
    "\n",
    "def word_count(file_name):\n",
    "    try:\n",
    "        # Open the file in read mode\n",
    "        with open(file_name, 'r') as file:\n",
    "            text = file.read()\n",
    "\n",
    "            # Split the text into words using whitespace as a delimiter\n",
    "            words = text.split()\n",
    "\n",
    "            # Initialize a dictionary to store word counts\n",
    "            word_counts = {}\n",
    "\n",
    "            # Count the occurrence of each word\n",
    "            for word in words:\n",
    "                word = word.lower()  # Convert to lowercase to count words case-insensitively\n",
    "                if word in word_counts:\n",
    "                    word_counts[word] += 1\n",
    "                else:\n",
    "                    word_counts[word] = 1\n",
    "\n",
    "            return word_counts\n",
    "\n",
    "    except FileNotFoundError:\n",
    "        print(f\"Error: {file_name} not found.\")\n",
    "        return {}\n",
    "    except Exception as e:\n",
    "        print(f\"An error occurred: {e}\")\n",
    "        return {}\n",
    "\n",
    "\n",
    "if len(sys.argv) != 2:\n",
    "    print(\"Usage: python word_count.py <file_name>\")\n",
    "else:\n",
    "    file_name = sys.argv[1]\n",
    "    word_counts = word_count(file_name)\n",
    "\n",
    "    for word, count in word_counts.items():\n",
    "        print(f\"{word}: {count}\")"
   ]
  },
  {
   "cell_type": "code",
   "execution_count": null,
   "id": "34534f71",
   "metadata": {},
   "outputs": [],
   "source": [
    "#command.py\n",
    "import sys\n",
    "from wordcount import word_count\n",
    "\n",
    "if len(sys.argv) != 2:\n",
    "    print(\"Usage: python command.py <file_name>\")\n",
    "else:\n",
    "    file_name = sys.argv[1]\n",
    "    word_counts = word_count(file_name)\n",
    "\n",
    "    for word, count in word_counts.items():\n",
    "        print(f\"{word}: {count}\")"
   ]
  },
  {
   "cell_type": "markdown",
   "id": "d4b167a0",
   "metadata": {},
   "source": [
    "# 5. Write a Python program for finding the most frequent words in a text read from a file.\n",
    "i) Initially open the text file in read mode.\n",
    "ii) Make all the letters in the document into lowercase letters and split the words in each line.\n",
    "iii) Get the words in an order.\n",
    "iv) Sort the words for finding the most frequent words in the file.\n",
    "v) Print the most frequent words in the file."
   ]
  },
  {
   "cell_type": "code",
   "execution_count": 8,
   "id": "eca7a553",
   "metadata": {},
   "outputs": [
    {
     "name": "stdout",
     "output_type": "stream",
     "text": [
      "Most frequent words in the file:\n",
      "limited : 2 times\n",
      "is : 2 times\n",
      "an : 2 times\n",
      "and : 2 times\n",
      "consulting : 2 times\n",
      "company : 2 times\n",
      "based : 2 times\n",
      "in : 2 times\n",
      "mphasis : 1 times\n",
      "indian : 1 times\n",
      "multinational : 1 times\n",
      "information : 1 times\n",
      "technology : 1 times\n",
      "services : 1 times\n",
      "bengaluru.mphasis : 1 times\n",
      "bengaluru. : 1 times\n",
      "our : 1 times\n",
      "new : 1 times\n",
      "business : 1 times\n",
      "unit : 1 times\n",
      "focusses : 1 times\n",
      "on : 1 times\n",
      "transforming : 1 times\n",
      "organizations : 1 times\n",
      "globally : 1 times\n",
      "by : 1 times\n",
      "unlocking : 1 times\n",
      "the : 1 times\n",
      "potential : 1 times\n",
      "of : 1 times\n",
      "artificial : 1 times\n",
      "intelligence : 1 times\n"
     ]
    }
   ],
   "source": [
    "#i) Initially open the text file in read mode.\n",
    "try:\n",
    "    with open('word_count_file.txt', 'r') as file:\n",
    "        text = file.read()\n",
    "\n",
    "#ii) Make all the letters in the document into lowercase letters and split the words in each line.\n",
    "    words = text.lower().split()\n",
    "#iii) Get the words in an order.\n",
    "    word_count={}\n",
    "    for word in words:\n",
    "        word_count[word]=word_count.get(word, 0) + 1\n",
    "\n",
    "#iv) Sort the words for finding the most frequent words in the file.\n",
    "    sorted_words=sorted(word_count.items(),key=lambda x:x[1],reverse=True)\n",
    "\n",
    "#v)Print the most frequent words in the file.\n",
    "    print(\"Most frequent words in the file:\")\n",
    "    for word,count in sorted_words:\n",
    "        print(word,\":\",count,\"times\")\n",
    "except FileNotFoundError:\n",
    "    print(\"File not found.\")\n",
    "except Exception as e:\n",
    "    print(\"An error occurred:\",e)"
   ]
  },
  {
   "cell_type": "markdown",
   "id": "9d89e3f0",
   "metadata": {},
   "source": [
    "# 6. File Processing with Command-Line Arguments- Scenario: You are developing a command-line utility that processes text files. Users can specify input and output file paths as command-line arguments. Your program should handle exceptions gracefully.\n",
    "\n",
    "i)Design a Python program that takes two command-line arguments: the input file path and the output file path. Ensure that the program checks if both arguments are provided and that the input file exists.\n",
    "\n",
    "ii)Implement error handling to deal with scenarios such as missing input files, invalid file paths, or permission issues when writing to the output file.\n",
    "\n",
    "iii)If an error occurs during file processing, display a user-friendly error message, and exit the program with a non-zero exit code.\n",
    "\n",
    "iv)Write test cases that cover various scenarios, including providing valid and invalid file paths as command-line arguments."
   ]
  },
  {
   "cell_type": "code",
   "execution_count": null,
   "id": "a38ab407",
   "metadata": {},
   "outputs": [],
   "source": [
    "import sys\n",
    "import os\n",
    "\n",
    "def main():\n",
    "    # Check if both input and output file paths are provided as command-line arguments\n",
    "    if len(sys.argv) != 3:\n",
    "        print(\"Usage: python program.py <input_6> <output_6>\")\n",
    "        sys.exit(1)\n",
    "\n",
    "    input_6 = sys.argv[1]\n",
    "    output_6 = sys.argv[2]\n",
    "\n",
    "    # Check if the input file exists\n",
    "    if not os.path.isfile(input_6):\n",
    "        print(f\"Error: Input file '{input_6}' does not exist.\")\n",
    "        sys.exit(1)\n",
    "\n",
    "    # Your file processing logic\n",
    "    #just copy the content from input to output\n",
    "    try:\n",
    "        with open(input_6, 'r') as infile, open(output_6, 'w') as outfile:\n",
    "            outfile.write(infile.read())\n",
    "        print(f\"File '{input_6}' copied to '{output_6}' successfully.\")\n",
    "    except Exception as e:\n",
    "        print(f\"An error occurred: {e}\")\n",
    "        sys.exit(1)\n",
    "\n",
    "if __name__ == \"__main__\":\n",
    "    main()"
   ]
  }
 ],
 "metadata": {
  "kernelspec": {
   "display_name": "Python 3 (ipykernel)",
   "language": "python",
   "name": "python3"
  },
  "language_info": {
   "codemirror_mode": {
    "name": "ipython",
    "version": 3
   },
   "file_extension": ".py",
   "mimetype": "text/x-python",
   "name": "python",
   "nbconvert_exporter": "python",
   "pygments_lexer": "ipython3",
   "version": "3.11.4"
  }
 },
 "nbformat": 4,
 "nbformat_minor": 5
}
