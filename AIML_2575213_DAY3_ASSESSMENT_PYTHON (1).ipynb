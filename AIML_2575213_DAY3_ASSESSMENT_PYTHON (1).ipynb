{
 "cells": [
  {
   "cell_type": "markdown",
   "id": "7e1da9fd",
   "metadata": {},
   "source": [
    "# File Handling"
   ]
  },
  {
   "cell_type": "markdown",
   "id": "caec4a54",
   "metadata": {},
   "source": [
    "# 1.Write a python function that copies a file reading and writing up to 50 characters at a time."
   ]
  },
  {
   "cell_type": "code",
   "execution_count": 56,
   "id": "6fc978d9",
   "metadata": {},
   "outputs": [
    {
     "name": "stdout",
     "output_type": "stream",
     "text": [
      "Notebook 7 to learn 4 about the new features and t\n"
     ]
    }
   ],
   "source": [
    "def fun():\n",
    "    file1=open('file1.txt','r')\n",
    "    file2=open('file2.txt','w')\n",
    "    read_write_file=file1.read(50)\n",
    "    print(read_write_file)\n",
    "    file2.write(read_write_file)\n",
    "    file1.close()\n",
    "    file2.close()  \n",
    "fun()"
   ]
  },
  {
   "cell_type": "markdown",
   "id": "5850df87",
   "metadata": {},
   "source": [
    "# 2.Print all numbers present in the text file and print the number of blank spaces in that file."
   ]
  },
  {
   "cell_type": "code",
   "execution_count": 51,
   "id": "7078bd20",
   "metadata": {},
   "outputs": [
    {
     "name": "stdout",
     "output_type": "stream",
     "text": [
      "7 4 \n",
      "Number of numbers: 2\n",
      "Number of blank spaces: 10\n"
     ]
    }
   ],
   "source": [
    "file=open('file2.txt', \"r\")\n",
    "number_count = 0\n",
    "blank_space_count = 0\n",
    "for line in file:\n",
    "    for character in line:\n",
    "        if character.isdigit():\n",
    "            print(character, end=\" \")\n",
    "            number_count += 1\n",
    "        elif character.isspace():\n",
    "            blank_space_count += 1\n",
    "print()\n",
    "print(\"Number of numbers:\", number_count)\n",
    "print(\"Number of blank spaces:\", blank_space_count)"
   ]
  },
  {
   "cell_type": "markdown",
   "id": "2aa1f03c",
   "metadata": {},
   "source": [
    "# 3.Write a function called sed that takes as arguments a pattern string,a replacement string,and two filenames;it should read the first file and write the contents into the second file(creating it if necessary).If the pattern string appears anywhere in the file,it should be replaced with the replacement string.If an error occurs while opening,reading,writing,or closing files,your problem should catch the exception,print an error message,and exit."
   ]
  },
  {
   "cell_type": "code",
   "execution_count": 4,
   "id": "ee716caf",
   "metadata": {},
   "outputs": [
    {
     "name": "stdout",
     "output_type": "stream",
     "text": [
      "File processed and saved\n"
     ]
    }
   ],
   "source": [
    "def sed(pattern, replacement, input_file, output_file):\n",
    "    try:\n",
    "        with open(input_file, 'r') as infile:\n",
    "            content = infile.read()\n",
    "        modified_content = content.replace(pattern, replacement)\n",
    "\n",
    "        with open(output_file, 'w') as outfile:\n",
    "            outfile.write(modified_content)\n",
    "\n",
    "        print(\"File processed and saved\")\n",
    "\n",
    "    except FileNotFoundError:\n",
    "        print(\"Error: File not found.\")\n",
    "    except Exception as e:\n",
    "        print(\"An error occurred\")\n",
    "        \n",
    "pattern = \"my\"\n",
    "replacement = \"our\"   \n",
    "input_file = 'pattern.txt' \n",
    "output_file = 'rep.txt'\n",
    "sed(pattern, replacement, input_file, output_file)\n"
   ]
  },
  {
   "cell_type": "markdown",
   "id": "2956e604",
   "metadata": {},
   "source": [
    "# 4. Log File Analysis: You have a log file containing records of user activities on a website. Each line in the file represents a log entry with details like timestamp, user ID, and action performed. Your task is to analyze this log file.\n",
    "\n",
    "a. Write Python code to read the log file and extract specific information, such as the number of unique users or the most common action.\n",
    "\n",
    "b. How would you handle large log files efficiently without loading the entire file into memory?"
   ]
  },
  {
   "cell_type": "code",
   "execution_count": 1,
   "id": "258ab15c",
   "metadata": {},
   "outputs": [
    {
     "name": "stdout",
     "output_type": "stream",
     "text": [
      "Date: [2023-09-0\n",
      "Total Entries: 1613\n",
      "Sample Entries:\n",
      "1. 21:51:29] Executing bootstrap tasks\n",
      "2. 21:51:29] OpenJDK Runtime Environment 17.0.7+7\n",
      "3. 21:51:29] Product org.eclipse.products.epp.package.java.2023-06\n",
      "4. 21:51:29] Bundle org.eclipse.oomph.setup 1.26.0.v20230416-0656, build=5945, branch=c5558820f367665758d4d719b7553a02ff4954e0\n",
      "5. 21:51:29] Bundle org.eclipse.oomph.setup.core 1.27.0.v20230402-0730, build=5945, branch=c5558820f367665758d4d719b7553a02ff4954e0\n",
      "---------\n"
     ]
    }
   ],
   "source": [
    "def parse_log_file(log_file_path):\n",
    "    log_entries_by_date = {}\n",
    "    with open(log_file_path,'r') as log_file:\n",
    "        for line in log_file:\n",
    "            parts = line.strip().split(' ',1)\n",
    "            if len(parts) == 2:\n",
    "                timestamp,message = parts\n",
    "                date = timestamp[:10]\n",
    "                if date in log_entries_by_date:\n",
    "                    log_entries_by_date[date].append(message)\n",
    "                else:\n",
    "                    log_entries_by_date[date] = [message]\n",
    "    return log_entries_by_date\n",
    "\n",
    "def analyze_log_data(log_entries_by_date):\n",
    "    for date, entries in log_entries_by_date.items():\n",
    "        print(f\"Date: {date}\")\n",
    "        print(f\"Total Entries: {len(entries)}\")\n",
    "        print(\"Sample Entries:\")\n",
    "        for i, entry in enumerate(entries[:5],start=1):\n",
    "            print(f\"{i}. {entry}\")\n",
    "        print(\"---------\")\n",
    "log_file_path = \"logfile.txt\"\n",
    "log_entries_by_date = parse_log_file(log_file_path)\n",
    "analyze_log_data(log_entries_by_date)"
   ]
  },
  {
   "cell_type": "markdown",
   "id": "c15174a1",
   "metadata": {},
   "source": [
    "# 5. Text File Search and Replace: You have a text file with a large amount of text, and you want to search for specific words or phrases and replace them with new content.\n",
    "\n",
    "a. Write Python code to search for and replace text within a text file.\n",
    "\n",
    "b. How would you handle cases where you need to perform multiple replacements in a single pass?"
   ]
  },
  {
   "cell_type": "code",
   "execution_count": 97,
   "id": "78411d87",
   "metadata": {},
   "outputs": [
    {
     "name": "stdout",
     "output_type": "stream",
     "text": [
      "\n",
      "Search and replace was completed successfully!\n"
     ]
    }
   ],
   "source": [
    "#a. Write Python code to search for and replace text within a text file.\n",
    "def search_and_replace(file, text_or_phrase, replace_with):\n",
    "    try:\n",
    "        with open(file, 'r') as read_file:\n",
    "            content = read_file.read()\n",
    "        updated_content = content.replace(text_or_phrase, replace_with)\n",
    "        with open(file, 'w') as write_file:\n",
    "            write_file.write(updated_content)\n",
    "        print('\\nSearch and replace was completed successfully!')\n",
    "        \n",
    "    except FileNotFoundError:\n",
    "        print('File is not found')\n",
    "    except Exception as e:\n",
    "        print(e,'Error')\n",
    "\n",
    "file = 'file1.txt'\n",
    "text_or_phrase = 'to'\n",
    "replace_with = 'WOW'\n",
    "search_and_replace(file, text_or_phrase, replace_with)"
   ]
  },
  {
   "cell_type": "code",
   "execution_count": 98,
   "id": "16fccd9e",
   "metadata": {},
   "outputs": [
    {
     "name": "stdout",
     "output_type": "stream",
     "text": [
      "\n",
      "Search and replace of multiple replacements in a single pass was completed successfully in file1.txt\n"
     ]
    }
   ],
   "source": [
    "#b.How would you handle cases where you need to perform multiple replacements in a single pass?\n",
    "def search_and_replace(file, replacements):\n",
    "    try:\n",
    "        with open(file, 'r') as read_file:\n",
    "            content = read_file.read()\n",
    "\n",
    "        for search_text, replace_text in replacements:\n",
    "            content = content.replace(search_text, replace_text)\n",
    "\n",
    "        with open(file, 'w') as write_file:\n",
    "            write_file.write(content)\n",
    "        print('\\nSearch and replace of multiple replacements in a single pass was completed successfully in', file)\n",
    "\n",
    "    except FileNotFoundError:\n",
    "        print('File is not found')\n",
    "    except Exception as e:\n",
    "        print('Error:', e)\n",
    "\n",
    "file = 'file1.txt'\n",
    "replacements = [('the', 'THE'),('book', 'Book'),('and', 'AND')]\n",
    "\n",
    "search_and_replace(file, replacements)"
   ]
  },
  {
   "cell_type": "markdown",
   "id": "95fb7d38",
   "metadata": {},
   "source": [
    "# 6. Write a Python script that concatenates the contents of multiple text files into a single output file. Allow the user to specify the input files and the output file."
   ]
  },
  {
   "cell_type": "code",
   "execution_count": 88,
   "id": "e3c5fd75",
   "metadata": {},
   "outputs": [
    {
     "name": "stdout",
     "output_type": "stream",
     "text": [
      "enter 1st file name:data1.csv\n",
      "enter 2nd file name:data2.csv\n",
      "concatenated\n"
     ]
    }
   ],
   "source": [
    "#for two files\n",
    "import csv\n",
    "input1=input(\"enter 1st file name:\")\n",
    "input2=input(\"enter 2nd file name:\")\n",
    "# Open the source CSV files\n",
    "file1 = open(input1, 'r')\n",
    "file2 = open(input2, 'r')\n",
    "\n",
    "# Read the contents of the CSV files\n",
    "csv_reader1 = csv.reader(file1)\n",
    "csv_reader2 = csv.reader(file2)\n",
    "\n",
    "# Create a new CSV file for the concatenated data\n",
    "destination_file = open('concate_two_files.csv', 'w', newline='')\n",
    "csv_writer = csv.writer(destination_file)\n",
    "\n",
    "# Write the headers to the destination file\n",
    "headers = next(csv_reader1)\n",
    "csv_writer.writerow(headers)\n",
    "\n",
    "# Write the rows from the first CSV file\n",
    "for row in csv_reader1:\n",
    "   csv_writer.writerow(row)\n",
    "\n",
    "# Write the rows from the second CSV file\n",
    "for row in csv_reader2:\n",
    "   csv_writer.writerow(row)\n",
    "print(\"concatenated\")\n",
    "# Close all the files\n",
    "file1.close()\n",
    "file2.close()\n",
    "destination_file.close()"
   ]
  },
  {
   "cell_type": "code",
   "execution_count": 96,
   "id": "d76fec22",
   "metadata": {},
   "outputs": [
    {
     "name": "stdout",
     "output_type": "stream",
     "text": [
      "\n",
      "Enter the input text file to concatenate or press enter if there are not any : data1.csv\n",
      "\n",
      "Enter the input text file to concatenate or press enter if there are not any : data2.csv\n",
      "\n",
      "Enter the input text file to concatenate or press enter if there are not any : lowercase.csv\n",
      "\n",
      "Enter the input text file to concatenate or press enter if there are not any : \n",
      "\n",
      "Enter the output text file to store the output: mul_con.csv\n",
      "\n",
      "All input files are concatenated and are stored in output file\n"
     ]
    }
   ],
   "source": [
    "#for multiple files\n",
    "def concat_files(input_files, output_file):\n",
    "    with open(output_file, 'w') as output_file:\n",
    "        for input_file in input_files:\n",
    "            with open(input_file, \"r\") as input_file:\n",
    "                output_file.write(input_file.read())\n",
    "        print('\\nAll input files are concatenated and are stored in output file')\n",
    "        \n",
    "inp_files = []\n",
    "while True:\n",
    "    inp_file = input('\\nEnter the input text file to concatenate or press enter if there are not any : ')\n",
    "    if inp_file == '':\n",
    "        break\n",
    "    inp_files.append(inp_file)\n",
    "output_file = input('\\nEnter the output text file to store the output: ')\n",
    "\n",
    "concat_files(inp_files, output_file)"
   ]
  },
  {
   "cell_type": "markdown",
   "id": "38f35ec8",
   "metadata": {},
   "source": [
    "# 7. You are given a text file named input.txt containing a list of words, one word per line. Your task is to create a Python program that reads the contents of input.txt, processes the words, and writes the result to an output file named output.txt.\n",
    "\n",
    "a. The program should perform the following operations:\n",
    "\n",
    "  i. Read the words from input.txt.\n",
    "  ii. For each word in the input file, calculate the length of the word and store it in a dictionary where the word is the key,       and the length is the value.\n",
    "  iii. Write the word-length dictionary to output.txt in the following format:\n",
    "  iv. Close both input and output files properly.\n",
    "  v. Write Python code to accomplish this task. Ensure proper error handling for file operations."
   ]
  },
  {
   "cell_type": "code",
   "execution_count": 93,
   "id": "a28481e5",
   "metadata": {},
   "outputs": [
    {
     "name": "stdout",
     "output_type": "stream",
     "text": [
      "apple\n",
      "mango\n",
      "banana\n",
      "watermelon \n"
     ]
    }
   ],
   "source": [
    " #i. Read the words from input.txt.\n",
    "try:\n",
    "    with open('input.txt','r') as input_file:\n",
    "        content=input_file.read()\n",
    "        print(content)\n",
    "finally:\n",
    "    input_file.close()"
   ]
  },
  {
   "cell_type": "code",
   "execution_count": 147,
   "id": "8e482b37",
   "metadata": {},
   "outputs": [
    {
     "name": "stdout",
     "output_type": "stream",
     "text": [
      "\n",
      "Printing dict with word as key & length as value\n",
      "\n"
     ]
    }
   ],
   "source": [
    "#ii. For each word in the input file, calculate the length of the word and store it in a dictionary where the word is the key,\n",
    "#and the length is the value.\n",
    "word_length_dict = {}\n",
    "try:\n",
    "    with open('input.txt','r') as input_file:\n",
    "        for line in input_file:\n",
    "            word = line.strip() \n",
    "            word_length = len(word) \n",
    "            word_length_dict[word] = word_length \n",
    "    print('\\nPrinting dict with word as key & length as value\\n')\n",
    "    \n",
    "\n",
    "except FileNotFoundError:\n",
    "    print('File is not found')\n",
    "except Exception as e:\n",
    "    print('Error:', e)"
   ]
  },
  {
   "cell_type": "code",
   "execution_count": 144,
   "id": "c106ff28",
   "metadata": {},
   "outputs": [
    {
     "name": "stdout",
     "output_type": "stream",
     "text": [
      "\n",
      "Word-length dictionary is copied to output.txt\n",
      "\n"
     ]
    }
   ],
   "source": [
    "#iii. Write the word-length dictionary to output.txt in the following format:\n",
    "file = 'output.txt'\n",
    "with open(file, 'w') as output_file:\n",
    "        for word, length in word_length_dict.items():\n",
    "            output_file.write('{}: {}\\n'.format(word, length))\n",
    "print('\\nWord-length dictionary is copied to output.txt\\n')"
   ]
  },
  {
   "cell_type": "code",
   "execution_count": 141,
   "id": "3c0988de",
   "metadata": {},
   "outputs": [],
   "source": [
    "#iv. Close both input and output files properly.\n",
    "input_file.close()\n",
    "output_file.close()"
   ]
  },
  {
   "cell_type": "code",
   "execution_count": 148,
   "id": "d5d5751c",
   "metadata": {},
   "outputs": [
    {
     "name": "stdout",
     "output_type": "stream",
     "text": [
      "\n",
      "Word-length dictionary is copied to output.txt as follows:\n",
      "\n",
      "apple: 5\n",
      "mango: 5\n",
      "banana: 6\n",
      "watermelon: 10\n",
      "\n"
     ]
    }
   ],
   "source": [
    "#v. Write Python code to accomplish this task. Ensure proper error handling for file operations.\n",
    "file = 'output.txt'\n",
    "try:\n",
    "    print('\\nWord-length dictionary is copied to output.txt as follows:\\n')\n",
    "    with open(file, 'w') as output_file:\n",
    "        for word, length in word_length_dict.items():\n",
    "            output_file.write('{}: {}\\n'.format(word, length))\n",
    "    file = open('output.txt','r')        \n",
    "    content = file.read()\n",
    "    print(content)\n",
    "\n",
    "except FileNotFoundError:\n",
    "    print('File is not found')\n",
    "except Exception as e:\n",
    "    print('Error:', e)"
   ]
  },
  {
   "cell_type": "markdown",
   "id": "08137436",
   "metadata": {},
   "source": [
    "# 8. Assume that you are developing a student gradebook system for a school. The system should allow teachers to input student grades for various subjects, store the data in files, and provide students with the ability to view their grades.\n",
    "\n",
    "Design a Python program that accomplishes the following tasks:\n",
    "\n",
    "i. Teachers should be able to input grades for students in different subjects.\n",
    "\n",
    "ii. Store the student grade data in separate text files for each subject. iii. Students should be able to view their grades for each subject.\n",
    "\n",
    "iv. Implement error handling for file operations, such as file not found or permission issues."
   ]
  },
  {
   "cell_type": "code",
   "execution_count": 1,
   "id": "cb2d5b26",
   "metadata": {},
   "outputs": [
    {
     "name": "stdout",
     "output_type": "stream",
     "text": [
      "\n",
      "Student Gradebook System\n",
      "1. Input Grades\n",
      "2. View Grades\n",
      "3. Exit\n",
      "Enter your choice (1/2/3): 1\n",
      "Enter the subject: maths\n",
      "Enter student name: ram\n",
      "Enter maths grade for ram: 9\n",
      "Grade for ram in maths has been recorded.\n",
      "\n",
      "Student Gradebook System\n",
      "1. Input Grades\n",
      "2. View Grades\n",
      "3. Exit\n",
      "Enter your choice (1/2/3): 1\n",
      "Enter the subject: python\n",
      "Enter student name: siri\n",
      "Enter python grade for siri: 8\n",
      "Grade for siri in python has been recorded.\n",
      "\n",
      "Student Gradebook System\n",
      "1. Input Grades\n",
      "2. View Grades\n",
      "3. Exit\n",
      "Enter your choice (1/2/3): 2\n",
      "Enter the subject: python\n",
      "Grades for python:\n",
      "siri: 9\n",
      "siri: 8\n",
      "\n",
      "Student Gradebook System\n",
      "1. Input Grades\n",
      "2. View Grades\n",
      "3. Exit\n",
      "Enter your choice (1/2/3): 3\n",
      "your are exited\n"
     ]
    }
   ],
   "source": [
    "import os\n",
    "\n",
    "# Function to input and store student grades for a subject\n",
    "def input_grades(subject):\n",
    "    try:\n",
    "        file_name = f\"{subject}.txt\"\n",
    "        with open(file_name, \"a\") as file:\n",
    "            student_name = input(\"Enter student name: \")\n",
    "            grade = input(f\"Enter {subject} grade for {student_name}: \")\n",
    "            file.write(f\"{student_name}: {grade}\\n\")\n",
    "        print(f\"Grade for {student_name} in {subject} has been recorded.\")\n",
    "    except IOError as e:\n",
    "        print(f\"Error: {e}\")\n",
    "\n",
    "# Function to view student grades for a subject\n",
    "def view_grades(subject):\n",
    "    try:\n",
    "        file_name = f\"{subject}.txt\"\n",
    "        if not os.path.exists(file_name):\n",
    "            print(f\"No grades recorded for {subject} yet.\")\n",
    "            return\n",
    "\n",
    "        with open(file_name, \"r\") as file:\n",
    "            print(f\"Grades for {subject}:\")\n",
    "            for line in file:\n",
    "                print(line.strip())\n",
    "    except IOError as e:\n",
    "        print(f\"Error: {e}\")\n",
    "\n",
    "# Main program loop\n",
    "while True:\n",
    "    print(\"\\nStudent Gradebook System\")\n",
    "    print(\"1. Input Grades\")\n",
    "    print(\"2. View Grades\")\n",
    "    print(\"3. Exit\")\n",
    "\n",
    "    choice = input(\"Enter your choice (1/2/3): \")\n",
    "\n",
    "    if choice == \"1\":\n",
    "        subject = input(\"Enter the subject: \")\n",
    "        input_grades(subject)\n",
    "    elif choice == \"2\":\n",
    "        subject = input(\"Enter the subject: \")\n",
    "        view_grades(subject)\n",
    "    elif choice == \"3\":\n",
    "        break\n",
    "    else:\n",
    "        print(\"Invalid choice. Please enter 1, 2, or 3.\")\n",
    "\n",
    "print(\"your are exited\")"
   ]
  }
 ],
 "metadata": {
  "kernelspec": {
   "display_name": "Python 3 (ipykernel)",
   "language": "python",
   "name": "python3"
  },
  "language_info": {
   "codemirror_mode": {
    "name": "ipython",
    "version": 3
   },
   "file_extension": ".py",
   "mimetype": "text/x-python",
   "name": "python",
   "nbconvert_exporter": "python",
   "pygments_lexer": "ipython3",
   "version": "3.11.4"
  }
 },
 "nbformat": 4,
 "nbformat_minor": 5
}
