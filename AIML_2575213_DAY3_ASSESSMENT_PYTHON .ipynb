{
 "cells": [
  {
   "cell_type": "markdown",
   "id": "7e1da9fd",
   "metadata": {},
   "source": [
    "# File Handling"
   ]
  },
  {
   "cell_type": "code",
   "execution_count": null,
   "id": "526a82a6",
   "metadata": {},
   "outputs": [],
   "source": [
    "#1.Write a python function that copies a file reading and writing up to 50 characters at a time."
   ]
  },
  {
   "cell_type": "code",
   "execution_count": null,
   "id": "272dca81",
   "metadata": {},
   "outputs": [],
   "source": [
    "#2.Print all numbers present in the text file and print the number of blank spaces in that file."
   ]
  },
  {
   "cell_type": "code",
   "execution_count": null,
   "id": "5263b130",
   "metadata": {},
   "outputs": [],
   "source": [
    "#3.Write a function called sed that takes as arguments a pattern string,a replacement string,and two filenames;it should read the first file and write the contents into the second file(creating it if necessary).If the pattern string appears anywhere in the file,it should be replaced with the replacement string.If an error occurs while opening,reading,writing,or closing files,your problem should catch the exception,print an error message,and exit."
   ]
  }
 ],
 "metadata": {
  "kernelspec": {
   "display_name": "Python 3 (ipykernel)",
   "language": "python",
   "name": "python3"
  },
  "language_info": {
   "codemirror_mode": {
    "name": "ipython",
    "version": 3
   },
   "file_extension": ".py",
   "mimetype": "text/x-python",
   "name": "python",
   "nbconvert_exporter": "python",
   "pygments_lexer": "ipython3",
   "version": "3.11.4"
  }
 },
 "nbformat": 4,
 "nbformat_minor": 5
}
