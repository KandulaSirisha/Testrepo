{
 "cells": [
  {
   "cell_type": "markdown",
   "id": "1958375d",
   "metadata": {},
   "source": [
    "# 1. Create a 3 x 3 x 3 array with random values"
   ]
  },
  {
   "cell_type": "code",
   "execution_count": 12,
   "id": "23d73e3c",
   "metadata": {},
   "outputs": [
    {
     "name": "stdout",
     "output_type": "stream",
     "text": [
      "[[[0.85887746 0.97229672 0.00343349]\n",
      "  [0.88710438 0.29366692 0.61562693]\n",
      "  [0.2032968  0.03254088 0.76660874]]\n",
      "\n",
      " [[0.79900224 0.13714697 0.87069256]\n",
      "  [0.74503111 0.23435305 0.99237637]\n",
      "  [0.99324978 0.03179033 0.67583545]]\n",
      "\n",
      " [[0.94230067 0.31431567 0.55355076]\n",
      "  [0.15695701 0.42913222 0.69605722]\n",
      "  [0.72507255 0.41780905 0.66242187]]]\n"
     ]
    },
    {
     "data": {
      "text/plain": [
       "3"
      ]
     },
     "execution_count": 12,
     "metadata": {},
     "output_type": "execute_result"
    }
   ],
   "source": [
    "import numpy as np\n",
    "array=np.random.random((3,3,3))\n",
    "print(array)\n",
    "np.ndim(array)"
   ]
  },
  {
   "cell_type": "markdown",
   "id": "fc5c7492",
   "metadata": {},
   "source": [
    "# 2.Create a 5 x 5 matrix with values 1,2,3,4 just below the diagonal"
   ]
  },
  {
   "cell_type": "code",
   "execution_count": 40,
   "id": "36083a16",
   "metadata": {},
   "outputs": [
    {
     "name": "stdout",
     "output_type": "stream",
     "text": [
      "[[0. 0. 0. 0. 0.]\n",
      " [1. 0. 0. 0. 0.]\n",
      " [0. 2. 0. 0. 0.]\n",
      " [0. 0. 3. 0. 0.]\n",
      " [0. 0. 0. 4. 0.]]\n"
     ]
    }
   ],
   "source": [
    "array=np.zeros((5,5))\n",
    "for i in range(1,5):\n",
    "    array[i,i-1]=i\n",
    "print(array)"
   ]
  },
  {
   "cell_type": "markdown",
   "id": "2b246839",
   "metadata": {},
   "source": [
    "# 3.Create a 8 x 8 matrix and fill it with a checkerboard pattern"
   ]
  },
  {
   "cell_type": "code",
   "execution_count": 54,
   "id": "ae63fb15",
   "metadata": {},
   "outputs": [
    {
     "name": "stdout",
     "output_type": "stream",
     "text": [
      "[[0 1 0 1 0 1 0 1]\n",
      " [1 0 1 0 1 0 1 0]\n",
      " [0 1 0 1 0 1 0 1]\n",
      " [1 0 1 0 1 0 1 0]\n",
      " [0 1 0 1 0 1 0 1]\n",
      " [1 0 1 0 1 0 1 0]\n",
      " [0 1 0 1 0 1 0 1]\n",
      " [1 0 1 0 1 0 1 0]]\n"
     ]
    }
   ],
   "source": [
    "array=np.zeros((8,8),dtype=int)\n",
    "array[1::2, ::2] = 1\n",
    "array[::2, 1::2] = 1\n",
    "print(array)"
   ]
  },
  {
   "cell_type": "markdown",
   "id": "d41c85f4",
   "metadata": {},
   "source": [
    "# 4. Normalize a 5 x 5 random matrix"
   ]
  },
  {
   "cell_type": "code",
   "execution_count": 57,
   "id": "969b5d95",
   "metadata": {},
   "outputs": [
    {
     "name": "stdout",
     "output_type": "stream",
     "text": [
      "Original Random Matrix:\n",
      "[[0.89352467 0.74559987 0.64423944 0.45500181 0.81376224]\n",
      " [0.78727602 0.48401484 0.36898506 0.87833334 0.63475617]\n",
      " [0.00193071 0.68262574 0.81905205 0.3964481  0.87719788]\n",
      " [0.79423222 0.06343745 0.4965055  0.50584715 0.63099634]\n",
      " [0.36414175 0.86859576 0.78782043 0.09057878 0.11031614]]\n",
      "\n",
      "Normalized Matrix:\n",
      "[[ 1.19094265  0.65007263  0.27945991 -0.41246568  0.89930052]\n",
      " [ 0.80245671 -0.30638288 -0.72697602  1.13539729  0.24478541]\n",
      " [-2.06906801  0.41981501  0.9186421  -0.62656059  1.13124562]\n",
      " [ 0.82789122 -1.84417566 -0.26071223 -0.22655558  0.23103804]\n",
      " [-0.74468503  1.09979296  0.80444728 -1.74493652 -1.67276916]]\n"
     ]
    }
   ],
   "source": [
    "import numpy as np\n",
    "\n",
    "# Create a 5x5 random matrix with values between 0 and 1\n",
    "random_matrix = np.random.random((5, 5))\n",
    "\n",
    "# Calculate the mean and standard deviation of the matrix\n",
    "mean = np.mean(random_matrix)\n",
    "std_dev = np.std(random_matrix)\n",
    "\n",
    "# Normalize the matrix to have mean 0 and standard deviation 1\n",
    "normalized_matrix = (random_matrix - mean) / std_dev\n",
    "\n",
    "print(\"Original Random Matrix:\")\n",
    "print(random_matrix)\n",
    "print(\"\\nNormalized Matrix:\")\n",
    "print(normalized_matrix)\n"
   ]
  },
  {
   "cell_type": "markdown",
   "id": "d724b10e",
   "metadata": {},
   "source": [
    "# 5. How to find common values between two arrays?"
   ]
  },
  {
   "cell_type": "code",
   "execution_count": 69,
   "id": "ac879b26",
   "metadata": {},
   "outputs": [
    {
     "name": "stdout",
     "output_type": "stream",
     "text": [
      "[3 5 7]\n"
     ]
    }
   ],
   "source": [
    "array1 = np.array([1, 7, 3, 9, 5])\n",
    "array2 = np.array([3, 4, 5, 6, 7])\n",
    "\n",
    "common_values = np.intersect1d(array1, array2)\n",
    "print(common_values)\n"
   ]
  },
  {
   "cell_type": "markdown",
   "id": "cd625bad",
   "metadata": {},
   "source": [
    "# 6. How to get the dates of yesterday, today and tomorrow?"
   ]
  },
  {
   "cell_type": "code",
   "execution_count": 71,
   "id": "813aa4df",
   "metadata": {},
   "outputs": [
    {
     "name": "stdout",
     "output_type": "stream",
     "text": [
      "Yesterday: 2023-09-20\n",
      "Today: 2023-09-21\n",
      "Tomorrow: 2023-09-22\n"
     ]
    }
   ],
   "source": [
    "import datetime\n",
    "\n",
    "# Get the current date\n",
    "today = datetime.date.today()\n",
    "\n",
    "# Calculate the dates for yesterday and tomorrow\n",
    "yesterday = today - datetime.timedelta(days=1)\n",
    "tomorrow = today + datetime.timedelta(days=1)\n",
    "\n",
    "print(\"Yesterday:\", yesterday)\n",
    "print(\"Today:\", today)\n",
    "print(\"Tomorrow:\", tomorrow)"
   ]
  },
  {
   "cell_type": "markdown",
   "id": "369c7809",
   "metadata": {},
   "source": [
    "# 7. Consider two random array A and B, check if they are equal"
   ]
  },
  {
   "cell_type": "code",
   "execution_count": 79,
   "id": "a89ff03d",
   "metadata": {},
   "outputs": [
    {
     "name": "stdout",
     "output_type": "stream",
     "text": [
      "Arrays A and B are not equal.\n"
     ]
    }
   ],
   "source": [
    "# Create two random arrays A and B \n",
    "A = np.random.rand(2, 2)\n",
    "B = np.random.rand(2, 2)\n",
    "\n",
    "# Check if A and B are equal\n",
    "equal = np.array_equal(A, B)\n",
    "if equal:\n",
    "    print(\"Arrays A and B are equal.\")\n",
    "else:\n",
    "    print(\"Arrays A and B are not equal.\")\n"
   ]
  },
  {
   "cell_type": "markdown",
   "id": "653d209b",
   "metadata": {},
   "source": [
    "# 8.Create random vector of size 10 and replace the maximum value by 0"
   ]
  },
  {
   "cell_type": "code",
   "execution_count": 82,
   "id": "9b75c28b",
   "metadata": {},
   "outputs": [
    {
     "name": "stdout",
     "output_type": "stream",
     "text": [
      "Random Vector with the Maximum Value Replaced:\n",
      "[0.15716709 0.52669615 0.8835886  0.16415051 0.5236441  0.23037497\n",
      " 0.40190082 0.3366641  0.03585011 0.        ]\n"
     ]
    }
   ],
   "source": [
    "import numpy as np\n",
    "\n",
    "# Create a random vector of size 10\n",
    "random_vector = np.random.rand(10)\n",
    "\n",
    "# Find the index of the maximum value in the vector\n",
    "max_index = np.argmax(random_vector)\n",
    "\n",
    "# Replace the maximum value with 0\n",
    "random_vector[max_index] = 0\n",
    "\n",
    "print(\"Random Vector with the Maximum Value Replaced:\")\n",
    "print(random_vector)\n"
   ]
  },
  {
   "cell_type": "markdown",
   "id": "90678c53",
   "metadata": {},
   "source": [
    "# 9. How to print all the values of an array?"
   ]
  },
  {
   "cell_type": "code",
   "execution_count": 98,
   "id": "847ad2ec",
   "metadata": {},
   "outputs": [
    {
     "name": "stdout",
     "output_type": "stream",
     "text": [
      "1\n",
      "2\n",
      "3\n",
      "4\n"
     ]
    }
   ],
   "source": [
    "# Create a NumPy array\n",
    "array = np.array([1, 2, 3, 4])\n",
    "for i in array:\n",
    "    print(i)\n"
   ]
  },
  {
   "cell_type": "markdown",
   "id": "5eb32fb7",
   "metadata": {},
   "source": [
    "# 10.Subtract the mean of each row of a matrix"
   ]
  },
  {
   "cell_type": "code",
   "execution_count": 99,
   "id": "b2fa532b",
   "metadata": {},
   "outputs": [
    {
     "name": "stdout",
     "output_type": "stream",
     "text": [
      "Original Matrix:\n",
      "[[1 2 3]\n",
      " [4 5 6]\n",
      " [7 8 9]]\n",
      "\n",
      "Matrix with Row Means Subtracted:\n",
      "[[-1.  0.  1.]\n",
      " [-1.  0.  1.]\n",
      " [-1.  0.  1.]]\n"
     ]
    }
   ],
   "source": [
    "import numpy as np\n",
    "\n",
    "# Create a sample matrix (replace this with your own matrix)\n",
    "matrix = np.array([[1, 2, 3],\n",
    "                   [4, 5, 6],\n",
    "                   [7, 8, 9]])\n",
    "\n",
    "# Calculate the mean of each row (axis=1) and reshape it to a column vector\n",
    "row_means = matrix.mean(axis=1, keepdims=True)\n",
    "\n",
    "# Subtract the row means from the original matrix\n",
    "matrix_centered = matrix - row_means\n",
    "\n",
    "print(\"Original Matrix:\")\n",
    "print(matrix)\n",
    "\n",
    "print(\"\\nMatrix with Row Means Subtracted:\")\n",
    "print(matrix_centered)\n"
   ]
  },
  {
   "cell_type": "markdown",
   "id": "954d251b",
   "metadata": {},
   "source": [
    "# 11.Consider a given vector, how to add 1 to each element indexed by a second vector (be careful with repeated indices)?"
   ]
  },
  {
   "cell_type": "code",
   "execution_count": 104,
   "id": "19335596",
   "metadata": {},
   "outputs": [
    {
     "name": "stdout",
     "output_type": "stream",
     "text": [
      "Updated Vector:\n",
      "[1 2 4 4 6 7]\n"
     ]
    }
   ],
   "source": [
    "import numpy as np\n",
    "\n",
    "# Given vector\n",
    "given_vector = np.array([1, 2, 3, 4, 5, 6])\n",
    "\n",
    "# Second vector containing indices (be careful with repeated indices)\n",
    "indices = np.array([2, 4, 5])\n",
    "\n",
    "# Add 1 to the elements at the specified indices\n",
    "given_vector[indices] += 1\n",
    "\n",
    "print(\"Updated Vector:\")\n",
    "print(given_vector)\n"
   ]
  },
  {
   "cell_type": "markdown",
   "id": "9e22b1d3",
   "metadata": {},
   "source": [
    "# 12.How to get the diagonal of a dot product?"
   ]
  },
  {
   "cell_type": "code",
   "execution_count": 105,
   "id": "7ebdc14a",
   "metadata": {},
   "outputs": [
    {
     "name": "stdout",
     "output_type": "stream",
     "text": [
      "Dot Product:\n",
      "[[ 30  24  18]\n",
      " [ 84  69  54]\n",
      " [138 114  90]]\n",
      "\n",
      "Diagonal of Dot Product:\n",
      "[30 69 90]\n"
     ]
    }
   ],
   "source": [
    "import numpy as np\n",
    "\n",
    "# Create two example matrices A and B (replace these with your matrices)\n",
    "A = np.array([[1, 2, 3],\n",
    "              [4, 5, 6],\n",
    "              [7, 8, 9]])\n",
    "\n",
    "B = np.array([[9, 8, 7],\n",
    "              [6, 5, 4],\n",
    "              [3, 2, 1]])\n",
    "\n",
    "# Compute the dot product of matrices A and B\n",
    "dot_product = np.dot(A, B)\n",
    "\n",
    "# Extract the diagonal elements of the dot product matrix\n",
    "diagonal = np.diag(dot_product)\n",
    "\n",
    "print(\"Dot Product:\")\n",
    "print(dot_product)\n",
    "\n",
    "print(\"\\nDiagonal of Dot Product:\")\n",
    "print(diagonal)\n"
   ]
  },
  {
   "cell_type": "markdown",
   "id": "6db2ae87",
   "metadata": {},
   "source": [
    "# 13.How to find the most frequent value in an array?"
   ]
  },
  {
   "cell_type": "code",
   "execution_count": 124,
   "id": "7e14864c",
   "metadata": {},
   "outputs": [
    {
     "name": "stdout",
     "output_type": "stream",
     "text": [
      "[4 3 1 4 2 8 8 5 9 7 0 2 3 8 7 7 0 3 1 6 8 1 7 9 4 6 5 5 9 8 1 7 5 5 5 6 2\n",
      " 7 8 5 6 2 2 7 5 6 0 3 6 4]\n",
      "Most frequent value is: 5\n"
     ]
    }
   ],
   "source": [
    "import numpy as np\n",
    "array = np.random.randint(0,10,50)\n",
    "print( array)\n",
    "most_frequent = np.argmax(np.bincount(array))\n",
    "print('Most frequent value is:', most_frequent)"
   ]
  },
  {
   "cell_type": "markdown",
   "id": "3a3e047f",
   "metadata": {},
   "source": [
    "# 14.How to get the n largest values of an array"
   ]
  },
  {
   "cell_type": "code",
   "execution_count": 117,
   "id": "ba3a86f9",
   "metadata": {},
   "outputs": [
    {
     "name": "stdout",
     "output_type": "stream",
     "text": [
      "N Largest Values: [6 7 9]\n"
     ]
    }
   ],
   "source": [
    "import numpy as np\n",
    "\n",
    "# Create a NumPy array (replace with your own array)\n",
    "my_array = np.array([4, 2, 7, 1, 9, 3, 6])\n",
    "\n",
    "# Get the n largest values (e.g., n=3)\n",
    "n_largest_values = np.partition(my_array, -3)[-3:]\n",
    "\n",
    "print(\"N Largest Values:\", n_largest_values)"
   ]
  },
  {
   "cell_type": "markdown",
   "id": "8799724b",
   "metadata": {},
   "source": [
    "# 15.How to create a record array from a regular array?"
   ]
  },
  {
   "cell_type": "code",
   "execution_count": 123,
   "id": "e4911d1b",
   "metadata": {},
   "outputs": [
    {
     "name": "stdout",
     "output_type": "stream",
     "text": [
      "ID: [1 2 3]\n",
      "Name: ['siri' 'anu' 'sita']\n",
      "Age: [23 30 35]\n"
     ]
    }
   ],
   "source": [
    "import numpy as np\n",
    "\n",
    "# Create a regular array\n",
    "regular_array = [(1, \"siri\", 23),\n",
    "                 (2, \"anu\", 30),\n",
    "                 (3, \"sita\", 35)]\n",
    "\n",
    "# Define the dtype and field names\n",
    "dtype = [('id', int), ('name', 'U10'), ('age', int)]\n",
    "\n",
    "# Create a record array\n",
    "record_array = np.rec.array(regular_array, dtype=dtype)\n",
    "\n",
    "# Access elements by field names\n",
    "print(\"ID:\", record_array.id)\n",
    "print(\"Name:\", record_array.name)\n",
    "print(\"Age:\", record_array.age)"
   ]
  },
  {
   "cell_type": "markdown",
   "id": "c7a56abb",
   "metadata": {},
   "source": [
    "# 16. How to swap two rows of an array?"
   ]
  },
  {
   "cell_type": "code",
   "execution_count": 114,
   "id": "08fd1366",
   "metadata": {},
   "outputs": [
    {
     "name": "stdout",
     "output_type": "stream",
     "text": [
      "Array After Swapping Rows 1 and 2:\n",
      "[[1 2 3]\n",
      " [7 8 9]\n",
      " [4 5 6]]\n"
     ]
    }
   ],
   "source": [
    "import numpy as np\n",
    "\n",
    "# Create a sample 2D array (replace this with your own array)\n",
    "array = np.array([[1, 2, 3],\n",
    "                  [4, 5, 6],\n",
    "                  [7, 8, 9]])\n",
    "\n",
    "# Swap rows 1 and 2 (0-based indexing)\n",
    "array[1], array[2] = array[2].copy(), array[1].copy()\n",
    "\n",
    "# Print the array after swapping\n",
    "print(\"Array After Swapping Rows 1 and 2:\")\n",
    "print(array)\n"
   ]
  },
  {
   "cell_type": "markdown",
   "id": "124d7f9b",
   "metadata": {},
   "source": [
    "# 17. Write python code to reshape to the next dimension of numpy array?"
   ]
  },
  {
   "cell_type": "code",
   "execution_count": 131,
   "id": "a329079d",
   "metadata": {},
   "outputs": [
    {
     "name": "stdout",
     "output_type": "stream",
     "text": [
      "Original 2D Array:\n",
      "[[ 23  34 121]\n",
      " [ 23  22  67]\n",
      " [686 434 123]]\n",
      "\n",
      "Reshaped 3D Array:\n",
      "[[[ 23]\n",
      "  [ 34]\n",
      "  [121]]\n",
      "\n",
      " [[ 23]\n",
      "  [ 22]\n",
      "  [ 67]]\n",
      "\n",
      " [[686]\n",
      "  [434]\n",
      "  [123]]]\n"
     ]
    }
   ],
   "source": [
    "import numpy as np\n",
    "\n",
    "# Create the original 2D array\n",
    "x = np.array([[23, 34, 121],\n",
    "              [23, 22, 67],\n",
    "              [686, 434, 123]])\n",
    "# Reshape the array to the next dimension (3D)\n",
    "reshaped_array = x.reshape((x.shape[0], x.shape[1], 1))\n",
    "\n",
    "print(\"Original 2D Array:\")\n",
    "print(x)\n",
    "\n",
    "print(\"\\nReshaped 3D Array:\")\n",
    "print(reshaped_array)"
   ]
  }
 ],
 "metadata": {
  "kernelspec": {
   "display_name": "Python 3 (ipykernel)",
   "language": "python",
   "name": "python3"
  },
  "language_info": {
   "codemirror_mode": {
    "name": "ipython",
    "version": 3
   },
   "file_extension": ".py",
   "mimetype": "text/x-python",
   "name": "python",
   "nbconvert_exporter": "python",
   "pygments_lexer": "ipython3",
   "version": "3.11.4"
  }
 },
 "nbformat": 4,
 "nbformat_minor": 5
}
