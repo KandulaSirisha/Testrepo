{
 "cells": [
  {
   "cell_type": "code",
   "execution_count": 1,
   "id": "56a6de50",
   "metadata": {},
   "outputs": [],
   "source": [
    "from numpy import exp\n",
    "from numpy import array\n",
    "from numpy import random, dot"
   ]
  },
  {
   "cell_type": "markdown",
   "id": "069adb01",
   "metadata": {},
   "source": [
    "# Create a class - Neural Network"
   ]
  },
  {
   "cell_type": "code",
   "execution_count": 2,
   "id": "8641c10c",
   "metadata": {},
   "outputs": [],
   "source": [
    "class NeuralNetwork():\n",
    "    def __init__(self):\n",
    "        #seed the random number generator, so it generate the same numbers\n",
    "        #every time the program runs \n",
    "        random.seed(2)\n",
    "        #we model a single neuron with 3 input and 1 output connection\n",
    "        #we assign a random weights to a 3*1 matrix with values in the range \n",
    "        self.synaptic_weights=2*random.random((3,1))-1\n",
    "\n",
    "    #Crete a sigmoid activation function\n",
    "    def __sigmoid(self,x): \n",
    "        return 1/1+exp(-x)\n",
    "    def __sigmoid_derivative(self,x): \n",
    "        return x*(1-x)\n",
    "    def think(self, inputs): \n",
    "        return self.__sigmoid (dot(inputs, self.synaptic_weights))\n",
    "    def train(self, training_set_inputs, training_set_outputs, number_of_training_iterations):\n",
    "        for iteration in range(number_of_training_iterations): \n",
    "            output=self.think (training_set_inputs) \n",
    "            error=training_set_outputs-output \n",
    "            adjusment=dot(training_set_inputs.T, error*self.__sigmoid_derivative(output))\n",
    "\n",
    "            #adjust three weights \n",
    "            self.synaptic_weights+=adjusment"
   ]
  },
  {
   "cell_type": "markdown",
   "id": "c6cb05e3",
   "metadata": {},
   "source": [
    "# Intialize the Network"
   ]
  },
  {
   "cell_type": "code",
   "execution_count": 3,
   "id": "c148579f",
   "metadata": {},
   "outputs": [
    {
     "name": "stdout",
     "output_type": "stream",
     "text": [
      "Random starting weights: \n",
      "\n",
      "[[-0.1280102 ]\n",
      " [-0.94814754]\n",
      " [ 0.09932496]]\n"
     ]
    }
   ],
   "source": [
    "# Initialize a single neuron neural networks \n",
    "neural_network=NeuralNetwork()\n",
    "print('Random starting weights: \\n')\n",
    "print(neural_network.synaptic_weights)\n",
    "\n",
    "training_set_inputs=array([[0,0,1],[1,1,1],[1,0,1],[0,1,1]])\n",
    "training_set_outputs=array([[0,1,1,0]]).T"
   ]
  },
  {
   "cell_type": "markdown",
   "id": "55d0c6b1",
   "metadata": {},
   "source": [
    "# Train the neural Network"
   ]
  },
  {
   "cell_type": "code",
   "execution_count": 4,
   "id": "532a1eae",
   "metadata": {},
   "outputs": [
    {
     "name": "stdout",
     "output_type": "stream",
     "text": [
      "**************************Neural Network Training Phase*****************************\n",
      "New weights after training\n",
      "\n",
      "[[27.81236918]\n",
      " [50.86430059]\n",
      " [57.34813037]]\n",
      "\n",
      "Considering the new situation [1,0,0]--> ?:\n",
      "\n",
      "[1.]\n"
     ]
    }
   ],
   "source": [
    "#Train the networks\n",
    "print('**************************Neural Network Training Phase*****************************')\n",
    "neural_network.train(training_set_inputs, training_set_outputs,10000) \n",
    "print('New weights after training\\n') \n",
    "print(neural_network.synaptic_weights)\n",
    "print()\n",
    "\n",
    "#Test the networks\n",
    "print('Considering the new situation [1,0,0]--> ?:')\n",
    "print()\n",
    "print(neural_network.think(array([1,0,0])))"
   ]
  },
  {
   "cell_type": "markdown",
   "id": "e00d9078",
   "metadata": {},
   "source": [
    "# Implement a multilayer perceptron - Practice Assignment"
   ]
  },
  {
   "cell_type": "code",
   "execution_count": 5,
   "id": "f1766363",
   "metadata": {},
   "outputs": [],
   "source": [
    "import numpy as np\n",
    "import sys\n",
    "\n",
    "class NeuralNetwork_MLP:\n",
    "    def __init__(self, input_size, hidden_size, output_size):\n",
    "        # Initialize weights with random values\n",
    "        self.weights_input_hidden = np.random.rand(input_size, hidden_size)\n",
    "        self.weights_hidden_output = np.random.rand(hidden_size, output_size)\n",
    "\n",
    "    def sigmoid(self, x):\n",
    "        # Sigmoid activation function\n",
    "        return 1 / (1 + np.exp(-x))\n",
    "\n",
    "    def sigmoid_derivative(self, x):\n",
    "        # Derivative of the sigmoid function\n",
    "        return x * (1 - x)\n",
    "\n",
    "    def forward(self, inputs):\n",
    "        # Forward pass through the network\n",
    "\n",
    "        # Hidden layer calculation\n",
    "        hidden_inputs = np.dot(inputs, self.weights_input_hidden)\n",
    "        hidden_outputs = self.sigmoid(hidden_inputs)\n",
    "\n",
    "        # Output layer calculation\n",
    "        final_inputs = np.dot(hidden_outputs, self.weights_hidden_output)\n",
    "        final_outputs = self.sigmoid(final_inputs)\n",
    "\n",
    "        return hidden_outputs, final_outputs\n",
    "\n",
    "    def backward(self, inputs, hidden_outputs, final_outputs, target, learning_rate=0.1):\n",
    "        # Backward pass through the network\n",
    "\n",
    "        # Calculate the error\n",
    "        output_error = target - final_outputs\n",
    "\n",
    "        # Output layer gradient\n",
    "        output_delta = output_error * self.sigmoid_derivative(final_outputs)\n",
    "\n",
    "        # Hidden layer error\n",
    "        hidden_error = output_delta.dot(self.weights_hidden_output.T)\n",
    "\n",
    "        # Hidden layer gradient\n",
    "        hidden_delta = hidden_error * self.sigmoid_derivative(hidden_outputs)\n",
    "\n",
    "        # Update weights\n",
    "        self.weights_hidden_output += hidden_outputs.T.dot(output_delta) * learning_rate\n",
    "        self.weights_input_hidden += inputs.T.dot(hidden_delta) * learning_rate\n",
    "\n",
    "    def train(self, inputs, targets, epochs=10000):\n",
    "        # Training the network for a given number of epochs\n",
    "        for epoch in range(epochs):\n",
    "            # Forward pass\n",
    "            hidden_outputs, final_outputs = self.forward(inputs)\n",
    "\n",
    "            # Backward pass\n",
    "            self.backward(inputs, hidden_outputs, final_outputs, targets)\n",
    "\n",
    "            # Print the error for every 1000 epochs\n",
    "            if epoch % 1000 == 0:\n",
    "                error = np.mean(np.abs(targets - final_outputs))"
   ]
  },
  {
   "cell_type": "code",
   "execution_count": 6,
   "id": "b3b74fd0",
   "metadata": {},
   "outputs": [
    {
     "name": "stdout",
     "output_type": "stream",
     "text": [
      "Considering the new situation [1 0 0] --> [0.9928]\n"
     ]
    }
   ],
   "source": [
    "input_size = 3\n",
    "hidden_size = 4\n",
    "output_size = 1\n",
    "\n",
    "# Initialize the MLP\n",
    "mlp = NeuralNetwork_MLP(input_size, hidden_size, output_size)\n",
    "\n",
    "# Example training data\n",
    "training_inputs = np.array([[0, 0, 1], [1, 1, 1], [1, 0, 1], [0, 1, 1]])\n",
    "training_targets = np.array([[0, 1, 1, 0]]).T\n",
    "\n",
    "# Train the MLP\n",
    "mlp.train(training_inputs, training_targets)\n",
    "\n",
    "# Test the trained network\n",
    "new_input = np.array([1, 0, 0])\n",
    "hidden_output, final_output = mlp.forward(new_input)\n",
    "print(f\"Considering the new situation {new_input} --> {final_output}\")"
   ]
  },
  {
   "cell_type": "code",
   "execution_count": null,
   "id": "8015781f",
   "metadata": {},
   "outputs": [],
   "source": []
  }
 ],
 "metadata": {
  "kernelspec": {
   "display_name": "Python 3 (ipykernel)",
   "language": "python",
   "name": "python3"
  },
  "language_info": {
   "codemirror_mode": {
    "name": "ipython",
    "version": 3
   },
   "file_extension": ".py",
   "mimetype": "text/x-python",
   "name": "python",
   "nbconvert_exporter": "python",
   "pygments_lexer": "ipython3",
   "version": "3.11.4"
  }
 },
 "nbformat": 4,
 "nbformat_minor": 5
}
