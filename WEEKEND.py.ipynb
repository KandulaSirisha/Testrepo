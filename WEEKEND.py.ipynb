{
 "cells": [
  {
   "cell_type": "markdown",
   "id": "2536442b",
   "metadata": {},
   "source": [
    "# 1. Case Study: Online Shopping Cart Exception Handling\n",
    "\n",
    "You are working as a Python developer for an e-commerce company, and your team is responsible for building and maintaining the shopping cart module of the website. Customers can add items to their cart, view the cart contents, and proceed to checkout.\n",
    "\n",
    "Recently, there have been reports of unexpected crashes and errors when customers interact with their shopping carts. Your task is to investigate these issues and improve the exception handling in the shopping cart code to make it more robust.\n",
    "\n",
    "Requirements and Scenarios:\n",
    "\n",
    "Scenario 1-Adding Items to Cart:\n",
    "\n",
    "When a customer adds an item to their cart, they provide the product ID and quantity. Handle exceptions that may occur during this process, such as:\n",
    "\n",
    "    i  Product ID not found in the product catalog.\n",
    "\n",
    "    ii. Invalid quantity (eg, negative quantity or non-integer input).\n",
    "\n",
    "Scenario 2-Viewing Cart Contents:\n",
    "\n",
    "When a customer views their cart, display the list of items and their quantities. Handle exceptions that may occur during this process, such as:\n",
    "\n",
    "    i. Empty cart (no items added).\n",
    "\n",
    "    ii. Unexpected errors (eg, network issues when fetching cart data).\n",
    "\n",
    "Scenario 3-Proceeding to Checkout:\n",
    "\n",
    "When a customer proceeds to checkout, validate the cart and process the payment. Handle exceptions that may occur during this process, such as:\n",
    "\n",
    "    i. Insufficient stock for some items in the cart.\n",
    "\n",
    "    ii.Payment gateway errors.            \n",
    "    \n",
    "    iii.Customer payment method declined.\n",
    "\n",
    "Your Tasks:\n",
    "\n",
    "1. Review the existing shopping cart code to identify potential areas where exceptions may occur.\n",
    "\n",
    "2. Enhance the exception handling in the code by adding appropriate try, except, and finally blocks to handle exceptions gracefully. Provide helpful error messages to the user where applicable.\n",
    "\n",
    "3. Ensure that the program continues to run smoothly even when exceptions occur, and customers receive informative feedback.\n",
    "\n",
    "4. Test the shopping cart thoroughly with different scenarios to ensure that it handles exceptions correctly."
   ]
  },
  {
   "cell_type": "code",
   "execution_count": 149,
   "id": "73d86d14",
   "metadata": {},
   "outputs": [
    {
     "name": "stdout",
     "output_type": "stream",
     "text": [
      "\n",
      "Options:\n",
      "1. Add to Cart\n",
      "2. View Cart\n",
      "3. Checkout\n",
      "4. Exit\n",
      "Enter your choice: 1\n",
      "Enter the product ID: 1\n",
      "Enter the quantity: 2\n",
      "Added 2 of Product A to the cart.\n",
      "\n",
      "Options:\n",
      "1. Add to Cart\n",
      "2. View Cart\n",
      "3. Checkout\n",
      "4. Exit\n",
      "Enter your choice: 2\n",
      "Cart Contents:\n",
      "Product A (Quantity: 2)\n",
      "\n",
      "Options:\n",
      "1. Add to Cart\n",
      "2. View Cart\n",
      "3. Checkout\n",
      "4. Exit\n",
      "Enter your choice: 3\n",
      "Checkout successful! Thank you for your purchase.\n",
      "\n",
      "Options:\n",
      "1. Add to Cart\n",
      "2. View Cart\n",
      "3. Checkout\n",
      "4. Exit\n",
      "Enter your choice: 4\n",
      "Goodbye!\n"
     ]
    }
   ],
   "source": [
    "#weekend1.py\n",
    "import mysql.connector\n",
    "\n",
    "class ShoppingCart:\n",
    "    def __init__(self):\n",
    "        self.cart = {}\n",
    "        self.db = mysql.connector.connect(\n",
    "            host=\"127.0.0.1\",\n",
    "            user=\"root\",\n",
    "            password=\"Sirisha@200027\",\n",
    "            database=\"weekend1\"\n",
    "        )\n",
    "        self.cursor = self.db.cursor()\n",
    "\n",
    "    def add_to_cart(self, product_id, quantity):\n",
    "        try:\n",
    "            # Check product existence and stock in the database\n",
    "            self.cursor.execute(\"SELECT name, stock FROM products WHERE id = %s\", (product_id,))\n",
    "            product_data = self.cursor.fetchone()\n",
    "            if not product_data:\n",
    "                raise ValueError(\"Invalid product ID. Please choose a valid product.\")\n",
    "            product_name, product_stock = product_data\n",
    "\n",
    "            if quantity <= 0 or not isinstance(quantity, int):\n",
    "                raise ValueError(\"Invalid quantity. Please enter a positive integer.\")\n",
    "            if quantity > product_stock:\n",
    "                raise ValueError(\"Insufficient stock for the selected product.\")\n",
    "\n",
    "            if product_id in self.cart:\n",
    "                self.cart[product_id] += quantity\n",
    "            else:\n",
    "                self.cart[product_id] = quantity\n",
    "            print(f\"Added {quantity} of {product_name} to the cart.\")\n",
    "        except ValueError as e:\n",
    "            print(f\"Error: {e}\")\n",
    "\n",
    "    def view_cart(self):\n",
    "        try:\n",
    "            if not self.cart:\n",
    "                print(\"Your cart is empty.\")\n",
    "            else:\n",
    "                print(\"Cart Contents:\")\n",
    "                for product_id, quantity in self.cart.items():\n",
    "                    # Fetch the product name from the database\n",
    "                    self.cursor.execute(\"SELECT name FROM products WHERE id = %s\", (product_id,))\n",
    "                    product_name = self.cursor.fetchone()[0]\n",
    "                    print(f\"{product_name} (Quantity: {quantity})\")\n",
    "        except Exception as e:\n",
    "            print(f\"Error: {e}\")\n",
    "\n",
    "    def checkout(self):\n",
    "        try:\n",
    "            if not self.cart:\n",
    "                raise ValueError(\"Your cart is empty. Nothing to checkout.\")\n",
    "            \n",
    "            for product_id, quantity in self.cart.items():\n",
    "                # Check if there's enough stock in the database\n",
    "                self.cursor.execute(\"SELECT stock FROM products WHERE id = %s\", (product_id,))\n",
    "                product_stock = self.cursor.fetchone()[0]\n",
    "                if quantity > product_stock:\n",
    "                    raise ValueError(f\"Insufficient stock for the selected product.\")\n",
    "\n",
    "            # Placeholder for payment gateway logic\n",
    "            payment_successful = self.process_payment()  # Implement your payment gateway here\n",
    "\n",
    "            if payment_successful:\n",
    "                print(\"Checkout successful! Thank you for your purchase.\")\n",
    "                self.cart = {}  # Empty the cart after successful checkout\n",
    "            else:\n",
    "                raise ValueError(\"Payment processing failed. Please try again later.\")\n",
    "        except Exception as e:\n",
    "            print(f\"Error: {e}\")\n",
    "\n",
    "    def process_payment(self):\n",
    "        try:\n",
    "        # Connect to a payment gateway API (This is a placeholder)\n",
    "        # You should replace this with your actual payment gateway integration code\n",
    "            payment_gateway_response = self.connect_to_payment_gateway()\n",
    "\n",
    "        # Check the response to determine if the payment was successful\n",
    "            if payment_gateway_response == \"success\":\n",
    "                return True\n",
    "            else:\n",
    "                return False\n",
    "        except Exception as e:\n",
    "            print(f\"Payment processing error: {e}\")\n",
    "            return False\n",
    "\n",
    "    def connect_to_payment_gateway(self):\n",
    "    # Simulate connecting to a payment gateway (This is a placeholder)\n",
    "    # In a real application, you would integrate with a payment gateway API\n",
    "    # and handle payment processing details.\n",
    "    \n",
    "    # Here, we're just simulating a successful payment for demonstration purposes.\n",
    "        return \"success\"\n",
    "\n",
    "\n",
    "def main():\n",
    "    cart = ShoppingCart()\n",
    "\n",
    "    while True:\n",
    "        print(\"\\nOptions:\")\n",
    "        print(\"1. Add to Cart\")\n",
    "        print(\"2. View Cart\")\n",
    "        print(\"3. Checkout\")\n",
    "        print(\"4. Exit\")\n",
    "\n",
    "        choice = input(\"Enter your choice: \")\n",
    "\n",
    "        if choice == \"1\":\n",
    "            product_id = int(input(\"Enter the product ID: \"))\n",
    "            quantity = int(input(\"Enter the quantity: \"))\n",
    "            cart.add_to_cart(product_id, quantity)\n",
    "        elif choice == \"2\":\n",
    "            cart.view_cart()\n",
    "        elif choice == \"3\":\n",
    "            cart.checkout()\n",
    "        elif choice == \"4\":\n",
    "            print(\"Goodbye!\")\n",
    "            break\n",
    "        else:\n",
    "            print(\"Invalid choice. Please select a valid option.\")\n",
    "\n",
    "main()"
   ]
  },
  {
   "cell_type": "markdown",
   "id": "859937dd",
   "metadata": {},
   "source": [
    "# 2.Create a Python function that checks if two given strings are anagrams of each other."
   ]
  },
  {
   "cell_type": "code",
   "execution_count": 11,
   "id": "eec627ae",
   "metadata": {
    "scrolled": true
   },
   "outputs": [
    {
     "name": "stdout",
     "output_type": "stream",
     "text": [
      "enter string1:SIRI\n",
      "enter string2:IRIS\n",
      "yes,anagrams\n"
     ]
    }
   ],
   "source": [
    "def anagrams_check(str1,str2):\n",
    "    if len(str1)!=len(str2):\n",
    "        print('length is not matched,so not anagrams')\n",
    "    else:\n",
    "        if sorted(str1)==sorted(str2):\n",
    "            print('yes,anagrams')\n",
    "        else:\n",
    "            print('not anagrams')\n",
    "str1=input('enter string1:')\n",
    "str2=input('enter string2:')\n",
    "#anagrams_check('elbow','below')\n",
    "anagrams_check(str1,str2)"
   ]
  },
  {
   "cell_type": "markdown",
   "id": "235202f2",
   "metadata": {},
   "source": [
    "# 4. Case Study: Online Bookstore Database Connectivity\n",
    "\n",
    "You are a Python developer working on the backend of an online bookstore website. The website's database stores information about books, customers, orders, and inventory. Your task is to develop and maintain the database connectivity and interaction components.\n",
    "\n",
    "Requirements and Scenarios:\n",
    "\n",
    "Scenario 1-Customer Registration:\n",
    "\n",
    "When a new customer registers on the website, their information (name, email, password) should be stored in the database.\n",
    "\n",
    "Handle exceptions that may occur during the registration process, such as:\n",
    "\n",
    "1. Duplicate email addresses.\n",
    "\n",
    "2. Database connection errors.\n",
    "\n",
    "Scenario 2-Book Inventory Management:\n",
    "\n",
    "Implement functionality to add new books to the inventory, update existing book details, and delete books.\n",
    "\n",
    "Handle exceptions that may occur during these operations, such as:\n",
    "\n",
    "1. Invalid book data.\n",
    "\n",
    "2. Database errors when updating or deleting books.\n",
    "\n",
    "Scenario 3-Customer Orders:\n",
    "\n",
    "Allow customers to place orders for books. Each order includes customer details and a list of ordered books.\n",
    "\n",
    "Handle exceptions that may occur during order placement, such as:\n",
    "\n",
    "1. Insufficient stock for some books. \n",
    "\n",
    "2. Database errors when recording orders.\n",
    "\n",
    "Scenario 4-Order History:\n",
    "\n",
    "Customers should be able to view their order history, which includes details of past orders.\n",
    "\n",
    "Handle exceptions that may occur when retrieving order history, such as:\n",
    "\n",
    "1. No orders found for the customer.\n",
    "\n",
    "2. Database connection issues.\n",
    "\n",
    "Your Tasks:\n",
    "\n",
    "1.Review the existing database interaction code to identify potential areas where exceptions may occur.\n",
    "\n",
    "2. Enhance the exception handling in the code by adding appropriate try, except, and finally blocks to handle exceptions gracefully. Provide helpful error messages to the user where applicable.\n",
    "\n",
    "3. Ensure that the program continues to run smoothly even when exceptions occur, and customers receive informative feedback.\n",
    "\n",
    "4. Implement database queries and transactions following best practices to maintain data integrity.\n",
    "\n",
    "5. Test the website's database interactions thoroughly with different scenarios to ensure that it handles exceptions correctly."
   ]
  },
  {
   "cell_type": "code",
   "execution_count": 157,
   "id": "d00a8972",
   "metadata": {},
   "outputs": [
    {
     "name": "stdout",
     "output_type": "stream",
     "text": [
      "\n",
      "Options:\n",
      "1. Register Customer\n",
      "2. Add Book to Inventory\n",
      "3. Place Order\n",
      "4. Get Order History\n",
      "5. Exit\n",
      "Enter your choice: 1\n",
      "Enter customer name: ram\n",
      "Enter customer email: ram@gmail.com\n",
      "Enter customer password: ram@password\n",
      "Registration successful.\n",
      "\n",
      "Options:\n",
      "1. Register Customer\n",
      "2. Add Book to Inventory\n",
      "3. Place Order\n",
      "4. Get Order History\n",
      "5. Exit\n",
      "Enter your choice: 2\n",
      "Enter book title: happy hour\n",
      "Enter book author: kandula\n",
      "Enter book price: 450.50\n",
      "Enter book stock: 10\n",
      "Book added to inventory.\n",
      "\n",
      "Options:\n",
      "1. Register Customer\n",
      "2. Add Book to Inventory\n",
      "3. Place Order\n",
      "4. Get Order History\n",
      "5. Exit\n",
      "Enter your choice: 3\n",
      "Enter customer ID: 1\n",
      "Enter book ID: 1\n",
      "Enter quantity: 1\n",
      "Order placed successfully.\n",
      "\n",
      "Options:\n",
      "1. Register Customer\n",
      "2. Add Book to Inventory\n",
      "3. Place Order\n",
      "4. Get Order History\n",
      "5. Exit\n",
      "Enter your choice: 4\n",
      "Enter customer ID: 1\n",
      "Order History:\n",
      "Order ID: 1, Book: Book 1, Quantity: 2, Date: 2023-09-18 00:28:11\n",
      "Order ID: 2, Book: Book 1, Quantity: 1, Date: 2023-09-18 00:38:51\n",
      "\n",
      "Options:\n",
      "1. Register Customer\n",
      "2. Add Book to Inventory\n",
      "3. Place Order\n",
      "4. Get Order History\n",
      "5. Exit\n",
      "Enter your choice: 5\n",
      "Goodbye!\n"
     ]
    }
   ],
   "source": [
    "import mysql.connector\n",
    "\n",
    "class OnlineBookstore:\n",
    "    def __init__(self):\n",
    "        self.db = mysql.connector.connect(\n",
    "            host=\"127.0.0.1\",\n",
    "            user=\"root\",\n",
    "            password=\"Sirisha@200027\",\n",
    "            database=\"week44\"\n",
    "        )\n",
    "        self.cursor = self.db.cursor()\n",
    "\n",
    "    def register_customer(self, name, email, password):\n",
    "        try:\n",
    "            # Check for duplicate email\n",
    "            self.cursor.execute(\"SELECT id FROM customers WHERE email = %s\", (email,))\n",
    "            existing_customer = self.cursor.fetchone()\n",
    "            if existing_customer:\n",
    "                raise ValueError(\"Email address is already registered.\")\n",
    "\n",
    "            # Insert new customer\n",
    "            insert_query = \"INSERT INTO customers (name, email, password) VALUES (%s, %s, %s)\"\n",
    "            self.cursor.execute(insert_query, (name, email, password))\n",
    "            self.db.commit()\n",
    "\n",
    "            print(\"Registration successful.\")\n",
    "        except mysql.connector.Error as e:\n",
    "            print(f\"Database Error: {e}\")\n",
    "        except ValueError as e:\n",
    "            print(f\"Registration Error: {e}\")\n",
    "\n",
    "    def add_book(self, title, author, price, stock):\n",
    "        try:\n",
    "            # Insert new book\n",
    "            insert_query = \"INSERT INTO books (title, author, price, stock) VALUES (%s, %s, %s, %s)\"\n",
    "            self.cursor.execute(insert_query, (title, author, price, stock))\n",
    "            self.db.commit()\n",
    "\n",
    "            print(\"Book added to inventory.\")\n",
    "        except mysql.connector.Error as e:\n",
    "            print(f\"Database Error: {e}\")\n",
    "\n",
    "    def place_order(self, customer_id, book_id, quantity):\n",
    "        try:\n",
    "            # Check book stock\n",
    "            self.cursor.execute(\"SELECT stock FROM books WHERE id = %s\", (book_id,))\n",
    "            book_stock = self.cursor.fetchone()[0]\n",
    "            if quantity > book_stock:\n",
    "                raise ValueError(\"Insufficient stock for the selected book.\")\n",
    "\n",
    "            # Insert new order\n",
    "            insert_query = \"INSERT INTO orders (customer_id, book_id, quantity) VALUES (%s, %s, %s)\"\n",
    "            self.cursor.execute(insert_query, (customer_id, book_id, quantity))\n",
    "\n",
    "            # Update book stock\n",
    "            new_stock = book_stock - quantity\n",
    "            self.cursor.execute(\"UPDATE books SET stock = %s WHERE id = %s\", (new_stock, book_id))\n",
    "\n",
    "            self.db.commit()\n",
    "\n",
    "            print(\"Order placed successfully.\")\n",
    "        except mysql.connector.Error as e:\n",
    "            print(f\"Database Error: {e}\")\n",
    "        except ValueError as e:\n",
    "            print(f\"Order Error: {e}\")\n",
    "\n",
    "    def get_order_history(self, customer_id):\n",
    "        try:\n",
    "            # Retrieve order history for the customer\n",
    "            self.cursor.execute(\"SELECT o.order_id, b.title, o.quantity, o.order_date FROM orders o JOIN books b ON o.book_id = b.id WHERE o.customer_id = %s\", (customer_id,))\n",
    "            order_history = self.cursor.fetchall()\n",
    "\n",
    "            if not order_history:\n",
    "                print(\"No orders found for this customer.\")\n",
    "            else:\n",
    "                print(\"Order History:\")\n",
    "                for order in order_history:\n",
    "                    order_id, book_title, quantity, order_date = order\n",
    "                    print(f\"Order ID: {order_id}, Book: {book_title}, Quantity: {quantity}, Date: {order_date}\")\n",
    "        except mysql.connector.Error as e:\n",
    "            print(f\"Database Error: {e}\")\n",
    "\n",
    "    def close_db_connection(self):\n",
    "        self.cursor.close()\n",
    "        self.db.close()\n",
    "\n",
    "def main():\n",
    "    bookstore = OnlineBookstore()\n",
    "\n",
    "    while True:\n",
    "        print(\"\\nOptions:\")\n",
    "        print(\"1. Register Customer\")\n",
    "        print(\"2. Add Book to Inventory\")\n",
    "        print(\"3. Place Order\")\n",
    "        print(\"4. Get Order History\")\n",
    "        print(\"5. Exit\")\n",
    "\n",
    "        choice = input(\"Enter your choice: \")\n",
    "\n",
    "        if choice == \"1\":\n",
    "            name = input(\"Enter customer name: \")\n",
    "            email = input(\"Enter customer email: \")\n",
    "            password = input(\"Enter customer password: \")\n",
    "            bookstore.register_customer(name, email, password)\n",
    "        elif choice == \"2\":\n",
    "            title = input(\"Enter book title: \")\n",
    "            author = input(\"Enter book author: \")\n",
    "            price = float(input(\"Enter book price: \"))\n",
    "            stock = int(input(\"Enter book stock: \"))\n",
    "            bookstore.add_book(title, author, price, stock)\n",
    "        elif choice == \"3\":\n",
    "            customer_id = int(input(\"Enter customer ID: \"))\n",
    "            book_id = int(input(\"Enter book ID: \"))\n",
    "            quantity = int(input(\"Enter quantity: \"))\n",
    "            bookstore.place_order(customer_id, book_id, quantity)\n",
    "        elif choice == \"4\":\n",
    "            customer_id = int(input(\"Enter customer ID: \"))\n",
    "            bookstore.get_order_history(customer_id)\n",
    "        elif choice == \"5\":\n",
    "            bookstore.close_db_connection()\n",
    "            print(\"Goodbye!\")\n",
    "            break\n",
    "        else:\n",
    "            print(\"Invalid choice. Please select a valid option.\")\n",
    "\n",
    "\n",
    "main()"
   ]
  },
  {
   "cell_type": "markdown",
   "id": "2577529a",
   "metadata": {},
   "source": [
    "# 6. Read a text file containing a list of names or numbers, sort the data, and write the sorted data back to a new file."
   ]
  },
  {
   "cell_type": "code",
   "execution_count": 53,
   "id": "391327c0",
   "metadata": {},
   "outputs": [
    {
     "name": "stdout",
     "output_type": "stream",
     "text": [
      "Data sorted and saved to numbers_sort.txt\n"
     ]
    }
   ],
   "source": [
    "# Define the input and output file names\n",
    "input_file = \"numbers_list.txt\"\n",
    "output_file = \"numbers_sort.txt\"\n",
    "\n",
    "try:\n",
    "    # Step 1: Read the data from the input file\n",
    "    with open(input_file, \"r\") as file:\n",
    "        data = file.readlines()\n",
    "\n",
    "    # Step 2: Sort the data (assuming it's a list of strings or numbers)\n",
    "    sorted_data = sorted(data)\n",
    "\n",
    "    # Step 3: Write the sorted data to a new file\n",
    "    with open(output_file, \"w\") as file:\n",
    "        file.writelines(sorted_data)\n",
    "\n",
    "    print(\"Data sorted and saved to\", output_file)\n",
    "\n",
    "except FileNotFoundError:\n",
    "    print(\"The input file was not found.\")\n",
    "except Exception as e:\n",
    "    print(\"An error occurred:\", str(e))"
   ]
  },
  {
   "cell_type": "markdown",
   "id": "03c9d1c6",
   "metadata": {},
   "source": [
    "# 7. Write a Python script that compares two text files and identifies the differences between them, including added, modified, and deleted lines"
   ]
  },
  {
   "cell_type": "code",
   "execution_count": 55,
   "id": "04232530",
   "metadata": {},
   "outputs": [
    {
     "name": "stdout",
     "output_type": "stream",
     "text": [
      "Added Lines:\n",
      "sort the data, and write the sorted data back to a new file\n",
      "abc\n",
      "\n",
      "Deleted Lines:\n",
      "Read a text file containing a list of names or numbers,\n",
      "\n",
      "\n",
      "Modified Lines:\n",
      "sort the data, and write the sorted data back to a new file\n",
      "abc"
     ]
    }
   ],
   "source": [
    "def compare_files(file1, file2):\n",
    "\n",
    "    with open(file1, 'r', encoding='utf-8') as file1, open(file2, 'r', encoding='utf-8') as file2:\n",
    "        file1_lines = file1.readlines()\n",
    "        file2_lines = file2.readlines()\n",
    "\n",
    "    added_lines = [line for line in file2_lines if line not in file1_lines]\n",
    "    deleted_lines = [line for line in file1_lines if line not in file2_lines]\n",
    "    modified_lines = [line for line in file2_lines if line not in file1_lines]\n",
    "\n",
    "    print(\"Added Lines:\")\n",
    "    for line in added_lines:\n",
    "        print(line, end='')\n",
    "\n",
    "    print(\"\\n\\nDeleted Lines:\")\n",
    "    for line in deleted_lines:\n",
    "        print(line, end='')\n",
    "\n",
    "    print(\"\\n\\nModified Lines:\")\n",
    "    for line in modified_lines:\n",
    "        print(line, end='')\n",
    "        \n",
    "file1 = \"week7_1.txt\" \n",
    "file2 = \"week7_2.txt\"\n",
    "\n",
    "compare_files(file1, file2)"
   ]
  },
  {
   "cell_type": "markdown",
   "id": "8f63b926",
   "metadata": {},
   "source": [
    "# 8. Develop a Python program that compresses a large text file using a compression algorithm (e.g., gzip) and then decompresses it back to its original form."
   ]
  },
  {
   "cell_type": "code",
   "execution_count": 56,
   "id": "a9c386ed",
   "metadata": {},
   "outputs": [
    {
     "name": "stdout",
     "output_type": "stream",
     "text": [
      "Compressing input_file to compressed_file\n",
      "your file is compressed\n",
      "Decompressing compressed_file to decompressed_file\n",
      "your file is Decompressed\n"
     ]
    }
   ],
   "source": [
    "import gzip\n",
    "import shutil\n",
    "\n",
    "# Function to compress a text file\n",
    "def compress_file(input_file, compressed_file):\n",
    "    with open(input_file, 'rb') as in_file, gzip.open(compressed_file, 'wb') as out_file:\n",
    "        shutil.copyfileobj(in_file, out_file)\n",
    "\n",
    "# Function to decompress a compressed file\n",
    "def decompress_file(compressed_file, decompressed_file):\n",
    "    with gzip.open(compressed_file, 'rb') as in_file, open(decompressed_file, 'wb') as out_file:\n",
    "        shutil.copyfileobj(in_file, out_file)\n",
    "\n",
    "input_file = \"word_count_file.txt\"          # your large text file\n",
    "compressed_file = \"compressed_file.gz\"      # Specify the name for the compressed file\n",
    "decompressed_file = \"decompressed_file.txt\" # Specify the name for the decompressed file\n",
    "\n",
    "    # Compress the input file\n",
    "print(\"Compressing input_file to compressed_file\")\n",
    "compress_file(input_file, compressed_file)\n",
    "print(\"your file is compressed\")\n",
    "\n",
    "    # Decompress the compressed file\n",
    "print(\"Decompressing compressed_file to decompressed_file\")\n",
    "decompress_file(compressed_file, decompressed_file)\n",
    "print(\"your file is Decompressed\")"
   ]
  },
  {
   "cell_type": "markdown",
   "id": "d791846e",
   "metadata": {},
   "source": [
    "# 9. Read a binary file (e.g., an image or audio file) in Python and perform an operation, such as resizing an image or modifying audio data."
   ]
  },
  {
   "cell_type": "code",
   "execution_count": 62,
   "id": "3fdbe7e5",
   "metadata": {},
   "outputs": [],
   "source": [
    "from PIL import Image\n",
    "\n",
    "# Open the image file\n",
    "input_image = Image.open(\"doremon.jpg\")\n",
    "\n",
    "# Resize the image to a new width and height\n",
    "new_width = 200\n",
    "new_height = 150\n",
    "resized_image = input_image.resize((new_width, new_height))\n",
    "\n",
    "# Save the resized image\n",
    "resized_image.save(\"doremon_out.jpg\")"
   ]
  },
  {
   "cell_type": "markdown",
   "id": "2d7b13e4",
   "metadata": {},
   "source": [
    "# 10. Write a python program to Combine the contents of multiple text files into a single file using Python. Each file should be appended to the end of the resulting file."
   ]
  },
  {
   "cell_type": "code",
   "execution_count": 69,
   "id": "cd076fc0",
   "metadata": {},
   "outputs": [
    {
     "name": "stdout",
     "output_type": "stream",
     "text": [
      "Enter text file name:apple.txt\n",
      "Enter text file name:input.txt\n",
      "Enter text file name:pattern.txt\n",
      "Combined 3 files into 'combined.txt'.\n"
     ]
    }
   ],
   "source": [
    "def combine_mul_txt_files(input_files, output_file):\n",
    "    try:\n",
    "        with open(output_file, 'w') as output:\n",
    "            for file_name in input_files:\n",
    "                with open(file_name, 'r') as input_file:\n",
    "                    output.write(input_file.read())\n",
    "                    output.write(\"\\n\")  # Add a newline between the contents of each file\n",
    "        print(f\"Combined {len(input_files)} files into '{output_file}'.\")\n",
    "    except Exception as e:\n",
    "        print(\"An error occurred:\",str(e))\n",
    "        \n",
    "x=input(\"Enter text file name:\")\n",
    "y=input(\"Enter text file name:\")\n",
    "z=input(\"Enter text file name:\")\n",
    "input_files = [x,y,z]\n",
    "#input_files = [\"input.txt\", \"apple.txt\", \"pattern.txt\"]  # give input file names\n",
    "output_file = \"combined.txt\"\n",
    "\n",
    "combine_mul_txt_files(input_files, output_file)\n"
   ]
  },
  {
   "cell_type": "markdown",
   "id": "0cbc38b4",
   "metadata": {},
   "source": [
    "# 11. Create a Python script that accepts a text file as a command-line argument and counts the number of words, lines, and characters in the file."
   ]
  },
  {
   "cell_type": "code",
   "execution_count": 84,
   "id": "34561ec3",
   "metadata": {},
   "outputs": [
    {
     "name": "stderr",
     "output_type": "stream",
     "text": [
      "usage: ipykernel_launcher.py [-h] file_path\n",
      "ipykernel_launcher.py: error: unrecognized arguments: -f\n"
     ]
    },
    {
     "ename": "SystemExit",
     "evalue": "2",
     "output_type": "error",
     "traceback": [
      "An exception has occurred, use %tb to see the full traceback.\n",
      "\u001b[1;31mSystemExit\u001b[0m\u001b[1;31m:\u001b[0m 2\n"
     ]
    }
   ],
   "source": [
    "#filename=week11.py\n",
    "import argparse\n",
    "\n",
    "def count_words_lines_characters(file_path):\n",
    "    try:\n",
    "        with open(file_path, 'r') as file:\n",
    "            text = file.read()\n",
    "            \n",
    "            # Count the number of words (split by whitespace)\n",
    "            word_count = len(text.split())\n",
    "\n",
    "            # Count the number of lines (split by newline characters)\n",
    "            line_count = text.count('\\n') + 1  # Adding 1 to account for the last line without a newline character\n",
    "            \n",
    "            # Count the number of characters\n",
    "            char_count = len(text)\n",
    "\n",
    "        return word_count, line_count, char_count\n",
    "    except Exception as e:\n",
    "        return None\n",
    "\n",
    "    # Create command-line argument parser\n",
    "parser = argparse.ArgumentParser(description=\"Count words, lines, and characters in a text file.\")\n",
    "\n",
    "    # Define command-line argument\n",
    "parser.add_argument(\"file_path\", help=\"Path to the text file\")\n",
    "\n",
    "    # Parse command-line arguments\n",
    "args = parser.parse_args()\n",
    "\n",
    "    # Call the count_words_lines_characters function\n",
    "result = count_words_lines_characters(args.file_path)\n",
    "\n",
    "if result:\n",
    "    word_count, line_count, char_count = result\n",
    "    print(\"Word count:\",word_count)\n",
    "    print(\"Line count:\",line_count)\n",
    "    print(\"Character count:\",char_count)\n",
    "else:\n",
    "    print(\"An error occurred\")"
   ]
  },
  {
   "cell_type": "code",
   "execution_count": 85,
   "id": "757d6de2",
   "metadata": {},
   "outputs": [
    {
     "name": "stdout",
     "output_type": "stream",
     "text": [
      "Word count: 6\n",
      "Line count: 6\n",
      "Character count: 38\n"
     ]
    }
   ],
   "source": [
    "!python week11.py apple.txt"
   ]
  },
  {
   "cell_type": "markdown",
   "id": "a3979d72",
   "metadata": {},
   "source": [
    "# 12. Build a command-line calculator that accepts a mathematical expression as a string argument and evaluates it, then prints the result."
   ]
  },
  {
   "cell_type": "code",
   "execution_count": 20,
   "id": "65038ef5",
   "metadata": {},
   "outputs": [
    {
     "name": "stderr",
     "output_type": "stream",
     "text": [
      "usage: ipykernel_launcher.py [-h] expression\n",
      "ipykernel_launcher.py: error: unrecognized arguments: -f\n"
     ]
    },
    {
     "ename": "SystemExit",
     "evalue": "2",
     "output_type": "error",
     "traceback": [
      "An exception has occurred, use %tb to see the full traceback.\n",
      "\u001b[1;31mSystemExit\u001b[0m\u001b[1;31m:\u001b[0m 2\n"
     ]
    }
   ],
   "source": [
    "# filename=week12.py\n",
    "import argparse\n",
    "def calculate(expression):\n",
    "    try:\n",
    "        result = eval(expression)\n",
    "        return result\n",
    "    except Exception as e:\n",
    "        return \"Error:\",str(e)\n",
    "\n",
    "    # Create command-line argument parser\n",
    "parser = argparse.ArgumentParser(description=\"Command-line calculator that evaluates a mathematical expression.\")\n",
    "    # Define command-line argument\n",
    "parser.add_argument(\"expression\", help=\"Mathematical expression to evaluate\")\n",
    "    # Parse command-line arguments\n",
    "args = parser.parse_args()\n",
    "    # Call the calculate function\n",
    "result = calculate(args.expression)\n",
    "   # Print the result\n",
    "print(\"Result:\",result)\n"
   ]
  },
  {
   "cell_type": "code",
   "execution_count": 86,
   "id": "688712d3",
   "metadata": {},
   "outputs": [
    {
     "name": "stdout",
     "output_type": "stream",
     "text": [
      "Result: 12\n"
     ]
    }
   ],
   "source": [
    "!python week12.py \"2+10\""
   ]
  },
  {
   "cell_type": "markdown",
   "id": "80c0714d",
   "metadata": {},
   "source": [
    "# 13. Implement a Python script that takes a CSV file and two column names as command-line arguments. The script should calculate the average of values in one column and store the result in another column in the same file."
   ]
  },
  {
   "cell_type": "code",
   "execution_count": 116,
   "id": "5ff90090",
   "metadata": {},
   "outputs": [
    {
     "name": "stderr",
     "output_type": "stream",
     "text": [
      "usage: ipykernel_launcher.py [-h] input_csv column_to_average result_column\n",
      "ipykernel_launcher.py: error: the following arguments are required: column_to_average, result_column\n"
     ]
    },
    {
     "ename": "SystemExit",
     "evalue": "2",
     "output_type": "error",
     "traceback": [
      "An exception has occurred, use %tb to see the full traceback.\n",
      "\u001b[1;31mSystemExit\u001b[0m\u001b[1;31m:\u001b[0m 2\n"
     ]
    }
   ],
   "source": [
    "#filename=week13.py & csv_file_name=week13_col.csv\n",
    "import pandas as pd\n",
    "import argparse\n",
    "\n",
    "# Function to calculate the average and update the CSV file\n",
    "def calculate_average(input_csv, column_to_average, result_column):\n",
    "    try:\n",
    "        # Read the CSV file into a DataFrame\n",
    "        df = pd.read_csv(input_csv)\n",
    "\n",
    "        # Calculate the average of the specified column\n",
    "        average = df[column_to_average].mean()\n",
    "\n",
    "        # Add a new column with the average value\n",
    "        df[result_column] = average\n",
    "\n",
    "        # Write the updated DataFrame back to the CSV file\n",
    "        df.to_csv(input_csv, index=False)\n",
    "\n",
    "        print(f\"Average of '{column_to_average}' column: {average}\")\n",
    "        print(f\"Updated '{result_column}' column in '{input_csv}' with the average value.\")\n",
    "\n",
    "    except Exception as e:\n",
    "        print(f\"An error occurred: {e}\")\n",
    "        \n",
    "parser = argparse.ArgumentParser(description=\"Calculate the average of values in a CSV column and store the result in another column.\")\n",
    "parser.add_argument(\"input_csv\", help=\"Path to the input CSV file\")\n",
    "parser.add_argument(\"column_to_average\", help=\"Name of the column to calculate the average for\")\n",
    "parser.add_argument(\"result_column\", help=\"Name of the column to store the average result\")\n",
    "\n",
    "args = parser.parse_args()\n",
    "\n",
    "calculate_average(args.input_csv, args.column_to_average, args.result_column)"
   ]
  },
  {
   "cell_type": "code",
   "execution_count": 119,
   "id": "fbfb17b5",
   "metadata": {},
   "outputs": [
    {
     "name": "stdout",
     "output_type": "stream",
     "text": [
      "Average of 'Age' column: 21.4\n",
      "Updated 'AverageAge' column in 'week13_col.csv' with the average value.\n"
     ]
    }
   ],
   "source": [
    "!python week13.py week13_col.csv Age AverageAge"
   ]
  },
  {
   "cell_type": "markdown",
   "id": "ac6cff16",
   "metadata": {},
   "source": [
    "# 14. Write a Python script that takes two integer command-line arguments and prints their sum."
   ]
  },
  {
   "cell_type": "code",
   "execution_count": 88,
   "id": "e213aa01",
   "metadata": {},
   "outputs": [
    {
     "name": "stderr",
     "output_type": "stream",
     "text": [
      "usage: ipykernel_launcher.py [-h] expression\n",
      "ipykernel_launcher.py: error: unrecognized arguments: -f\n"
     ]
    },
    {
     "ename": "SystemExit",
     "evalue": "2",
     "output_type": "error",
     "traceback": [
      "An exception has occurred, use %tb to see the full traceback.\n",
      "\u001b[1;31mSystemExit\u001b[0m\u001b[1;31m:\u001b[0m 2\n"
     ]
    }
   ],
   "source": [
    "# filename=week14.py\n",
    "import argparse\n",
    "def calculate(expression):\n",
    "    try:\n",
    "        result = eval(expression)\n",
    "        return result\n",
    "    except Exception as e:\n",
    "        return \"Error:\",str(e)\n",
    "\n",
    "    # Create command-line argument parser\n",
    "parser = argparse.ArgumentParser(description=\"Command-line calculator that evaluates a mathematical expression.\")\n",
    "    # Define command-line argument\n",
    "parser.add_argument(\"expression\", help=\"Mathematical expression to evaluate\")\n",
    "    # Parse command-line arguments\n",
    "args = parser.parse_args()\n",
    "    # Call the calculate function\n",
    "result = calculate(args.expression)\n",
    "   # Print the result\n",
    "print(\"Result:\",result)\n"
   ]
  },
  {
   "cell_type": "code",
   "execution_count": 89,
   "id": "5a6faa43",
   "metadata": {},
   "outputs": [
    {
     "name": "stdout",
     "output_type": "stream",
     "text": [
      "The sum is: 11\n"
     ]
    }
   ],
   "source": [
    "!python week14.py 2 9"
   ]
  },
  {
   "cell_type": "markdown",
   "id": "74b984d6",
   "metadata": {},
   "source": [
    "# 15. Create a custom Python module that includes functions to calculate the factorial of a number and to check if a number is prime. Import and use this module in another Python script."
   ]
  },
  {
   "cell_type": "code",
   "execution_count": 108,
   "id": "be68ae41",
   "metadata": {},
   "outputs": [],
   "source": [
    "#custom python module filename:math_function\n",
    "def factorial(n):\n",
    "    \"\"\"Calculate the factorial of a number.\"\"\"\n",
    "    if n == 0:\n",
    "        return 1\n",
    "    else:\n",
    "        return n * factorial(n - 1)\n",
    "\n",
    "def is_prime(num):\n",
    "    \"\"\"Check if a number is prime.\"\"\"\n",
    "    if num <= 1:\n",
    "        return False\n",
    "    elif num <= 3:\n",
    "        return True\n",
    "    elif num % 2 == 0 or num % 3 == 0:\n",
    "        return False\n",
    "    i = 5\n",
    "    while i * i <= num:\n",
    "        if num % i == 0 or num % (i + 2) == 0:\n",
    "            return False\n",
    "        i += 6\n",
    "    return True"
   ]
  },
  {
   "cell_type": "code",
   "execution_count": 109,
   "id": "544ccc74",
   "metadata": {},
   "outputs": [
    {
     "name": "stdout",
     "output_type": "stream",
     "text": [
      "Enter the value:7\n",
      "Factorial of 7 is 5040\n",
      " It is a prime number\n"
     ]
    }
   ],
   "source": [
    "\n",
    "import math_function\n",
    "\n",
    "# Calculate factorial\n",
    "num = int(input(\"Enter the value:\"))\n",
    "fact = math_function.factorial(num)\n",
    "print(f\"Factorial of {num} is {fact}\")\n",
    "\n",
    "# Check if a number is prime\n",
    "if math_functions.is_prime(num):\n",
    "    print(\" It is a prime number\")\n",
    "else:\n",
    "    print(\"It is not a prime number\")"
   ]
  },
  {
   "cell_type": "markdown",
   "id": "e22f39dc",
   "metadata": {},
   "source": [
    "# 16. Create a Python module named calculator.py that contains functions for each of the four operations (addition, subtraction, multiplication, and division). Each function should take two arguments, perform the respective operation, and return the result."
   ]
  },
  {
   "cell_type": "code",
   "execution_count": 111,
   "id": "75e94d6e",
   "metadata": {},
   "outputs": [],
   "source": [
    "def add(x, y):\n",
    "    \"\"\"Add two numbers.\"\"\"\n",
    "    return x + y\n",
    "\n",
    "def subtract(x, y):\n",
    "    \"\"\"Subtract two numbers.\"\"\"\n",
    "    return x - y\n",
    "\n",
    "def multiply(x, y):\n",
    "    \"\"\"Multiply two numbers.\"\"\"\n",
    "    return x * y\n",
    "\n",
    "def divide(x, y):\n",
    "    \"\"\"Divide two numbers.\"\"\"\n",
    "    if y == 0:\n",
    "        raise ValueError(\"Can't divide by zero\")\n",
    "    return x / y\n"
   ]
  },
  {
   "cell_type": "code",
   "execution_count": 115,
   "id": "dc8d26b4",
   "metadata": {},
   "outputs": [
    {
     "name": "stdout",
     "output_type": "stream",
     "text": [
      "Enter num1:8\n",
      "Enter num2:22\n",
      "8 + 22 = 30\n",
      "8 - 22 = -14\n",
      "8 * 22 = 176\n",
      "8 / 22 = 0.36363636363636365\n"
     ]
    }
   ],
   "source": [
    "\n",
    "import week16\n",
    "\n",
    "# Perform arithmetic operations\n",
    "num1 = int(input('Enter num1:'))\n",
    "num2 = int(input('Enter num2:'))\n",
    "\n",
    "result_add = calculator.add(num1, num2)\n",
    "result_subtract = calculator.subtract(num1, num2)\n",
    "result_multiply = calculator.multiply(num1, num2)\n",
    "result_divide = calculator.divide(num1, num2)\n",
    "\n",
    "print(f\"{num1} + {num2} = {result_add}\")\n",
    "print(f\"{num1} - {num2} = {result_subtract}\")\n",
    "print(f\"{num1} * {num2} = {result_multiply}\")\n",
    "print(f\"{num1} / {num2} = {result_divide}\")"
   ]
  }
 ],
 "metadata": {
  "kernelspec": {
   "display_name": "Python 3 (ipykernel)",
   "language": "python",
   "name": "python3"
  },
  "language_info": {
   "codemirror_mode": {
    "name": "ipython",
    "version": 3
   },
   "file_extension": ".py",
   "mimetype": "text/x-python",
   "name": "python",
   "nbconvert_exporter": "python",
   "pygments_lexer": "ipython3",
   "version": "3.11.4"
  }
 },
 "nbformat": 4,
 "nbformat_minor": 5
}
